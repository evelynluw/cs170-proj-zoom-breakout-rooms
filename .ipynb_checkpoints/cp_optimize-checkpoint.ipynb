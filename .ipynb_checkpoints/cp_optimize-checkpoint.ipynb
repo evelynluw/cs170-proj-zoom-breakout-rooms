{
 "cells": [
  {
   "cell_type": "code",
   "execution_count": 1,
   "metadata": {},
   "outputs": [],
   "source": [
    "import utils\n",
    "import utils as ut\n",
    "import parse as ps\n",
    "import networkx as nx\n",
    "import numpy as np\n",
    "import cplex\n",
    "import docplex.cp.model as cp\n",
    "from contextlib import redirect_stdout\n",
    "import traceback\n",
    "import sys"
   ]
  },
  {
   "cell_type": "code",
   "execution_count": 2,
   "metadata": {},
   "outputs": [],
   "source": [
    "np.set_printoptions(threshold=np.inf, linewidth=150)"
   ]
  },
  {
   "cell_type": "code",
   "execution_count": 3,
   "metadata": {},
   "outputs": [
    {
     "name": "stdout",
     "output_type": "stream",
     "text": [
      "/Applications/CPLEX_Studio1210/cpoptimizer/bin/x86-64_osx/:/Users/evelynlu/anaconda3/bin:/Users/evelynlu/google-cloud-sdk/bin:/Users/evelynlu/anaconda3/condabin:/usr/local/texlive/2019basic/bin/x86_64-darwin:/usr/local/bin:/usr/bin:/bin:/usr/sbin:/sbin:/Library/TeX/texbin:/usr/local/go/bin:/usr/local/share/dotnet:~/.dotnet/tools:/Users/evelynlu/cs61b-software/bin\n"
     ]
    }
   ],
   "source": [
    "!echo /Applications/CPLEX_Studio1210/cpoptimizer/bin/x86-64_osx/:$PATH"
   ]
  },
  {
   "cell_type": "code",
   "execution_count": 4,
   "metadata": {},
   "outputs": [
    {
     "name": "stdout",
     "output_type": "stream",
     "text": [
      "env: PATH=/Applications/CPLEX_Studio1210/cpoptimizer/bin/x86-64_osx/:/Users/evelynlu/anaconda3/bin:/Users/evelynlu/google-cloud-sdk/bin:/Users/evelynlu/anaconda3/condabin:/usr/local/texlive/2019basic/bin/x86_64-darwin:/usr/local/bin:/usr/bin:/bin:/usr/sbin:/sbin:/Library/TeX/texbin:/usr/local/go/bin:/usr/local/share/dotnet:~/.dotnet/tools:/Users/evelynlu/cs61b-software/bin\n"
     ]
    }
   ],
   "source": [
    "%env PATH=/Applications/CPLEX_Studio1210/cpoptimizer/bin/x86-64_osx/:/Users/evelynlu/anaconda3/bin:/Users/evelynlu/google-cloud-sdk/bin:/Users/evelynlu/anaconda3/condabin:/usr/local/texlive/2019basic/bin/x86_64-darwin:/usr/local/bin:/usr/bin:/bin:/usr/sbin:/sbin:/Library/TeX/texbin:/usr/local/go/bin:/usr/local/share/dotnet:~/.dotnet/tools:/Users/evelynlu/cs61b-software/bin"
   ]
  },
  {
   "cell_type": "code",
   "execution_count": 6,
   "metadata": {},
   "outputs": [],
   "source": [
    "def solve_process(input_path):\n",
    "    global G, S_MAX, N, R, S_mat, H_mat, idx, sol\n",
    "    G, S_MAX, N, R, S_mat, H_mat, idx = process_input(input_path)\n",
    "    sol = cp_model_and_solve(N)\n",
    "    print(f\"objective: {sol.get_objective_values()[0]}\")\n",
    "    sol_dict, actual_nbrooms = clean_solution(sol)\n",
    "    if (is_valid(sol_dict, actual_nbrooms)):\n",
    "        print(\"success!\")\n",
    "        print(sol_dict, actual_nbrooms)\n",
    "        return sol_dict\n",
    "#         print(f\"nbrooms = {nbrooms} failed.\")\n",
    "#         new_nbrooms = np.round((nbrooms + actual_nbrooms) / 2)\n",
    "#         nbrooms = new_nbrooms if new_nbrooms > nbrooms else nbrooms + 1\n",
    "#         print(f\"trying {nbrooms}\")\n",
    "#     print(\"FAILED to find good solution\")\n",
    "#     raise Exception('Could not find viable solution') \n",
    "\n",
    "def cp_model_and_solve(N): # N = # of students\n",
    "    # ref to the mp sudoku example: https://ibmdecisionoptimization.github.io/docplex-doc/mp/creating_mdl.html\n",
    "    global mdl, v\n",
    "    mdl = cp.CpoModel(\"breakout_room_cp\")\n",
    "    R = range(N)\n",
    "    # v is room assignment; key is (i, j, r) where i,j is a pair of students, and r is the room they are assigned to\n",
    "    v = mdl.binary_var_dict(idx, name=\"v\") \n",
    "    room_count = mdl.integer_var(1, N, \"room_count\")\n",
    "\n",
    "    # constraint 1: everyone is assigned to one room. \n",
    "    for i in R:\n",
    "            mdl.add(mdl.sum(v[i,k] for k in R) == 1)\n",
    "    \n",
    "    mdl.add(cp.sum(cp.sum(v[i,k] for i in R) != 0 for k in R) == room_count)\n",
    "\n",
    "    constraints = []\n",
    "    for r in R:\n",
    "        S_room = cp.sum(S_mat[i,j] * v[i,r] * v[j,r] for i in R for j in range(i,N))\n",
    "        constraints.append(mdl.add(S_room * room_count <= S_MAX ))\n",
    "    # goal: maximize happiness\n",
    "    mdl.maximize(cp.sum(H_mat[i,j] * v[i,k] * v[j,k] for i in R for j in range(i,N) for k in R))\n",
    "    cpsol = mdl.solve(TimeLimit=a)\n",
    "    return cpsol\n",
    "\n",
    "def clean_solution(sol):\n",
    "    sol_mat = np.apply_along_axis(lambda x: sol.get_value(v[x[0],x[1]]), 0, np.indices((N,N)))\n",
    "    cpsol_np = np.vstack((np.nonzero(sol_mat))).T\n",
    "    cpsol_rooms = cpsol_np[:,1]\n",
    "    cpsol_unique_rooms = np.unique(cpsol_rooms)\n",
    "    number_of_rooms = len(cpsol_unique_rooms)\n",
    "    for i in range(number_of_rooms):\n",
    "        cpsol_rooms = np.where(cpsol_rooms==cpsol_unique_rooms[i],i,cpsol_rooms)\n",
    "    cpsol_np[:,1]=cpsol_rooms\n",
    "    cpsol_dict = {}\n",
    "    cpsol_dict.update(dict(zip(cpsol_np[:,0], cpsol_np[:,1])))\n",
    "    return cpsol_dict, number_of_rooms\n",
    "\n",
    "def is_valid(cpsol_dict, number_of_rooms):\n",
    "    return ut.is_valid_solution(cpsol_dict, G, S_MAX, number_of_rooms)\n",
    "\n",
    "def process_input(filename):\n",
    "    G, S_MAX = ps.read_input_file(filename)\n",
    "    N = len(G)\n",
    "    D = nx.to_dict_of_dicts(G)\n",
    "    R = range(N)\n",
    "    S_mat = np.zeros((N,N))\n",
    "    H_mat = np.zeros((N,N))\n",
    "    dic = D.copy()\n",
    "    idx = [(i,k) for i in R for k in R]\n",
    "    for i in R:\n",
    "        dic.pop(i);\n",
    "        for j in dic.keys():\n",
    "            info = D[i][j]\n",
    "            S_mat[i,j]=info['stress']\n",
    "            H_mat[i,j]=info['happiness']\n",
    "    return G, S_MAX, N, R, S_mat, H_mat, idx\n"
   ]
  },
  {
   "cell_type": "markdown",
   "metadata": {},
   "source": [
    "with open('log-cp-med-242.txt', 'a+') as f:\n",
    "    with redirect_stdout(f):\n",
    "        print('MEDIUM LOG STARTS')\n",
    "        for i in range(1,243):\n",
    "            print(f\"\\n--------------\\nCURRENT i = {i}\\n\")\n",
    "            sys.stdout.flush()\n",
    "            try:\n",
    "                sol_dict = solve_process(f\"inputs/medium-{i}.in\")\n",
    "                sys.stdout.flush()\n",
    "                ps.write_output_file(sol_dict, f\"cp_outputs/medium-{i}.out\")\n",
    "                sys.stdout.flush()\n",
    "            except: # catch *all* exceptions\n",
    "                # e = sys.exc_info()[0]\n",
    "                etype, value, t = sys.exc_info()\n",
    "                # print('Error opening %s: %s' % (value.filename, value.strerror))\n",
    "                print(f\"ERROR OCCURED: i = {i}, {value}\")\n",
    "                traceback.print_exc()\n",
    "                sys.stdout.flush()\n",
    "                continue"
   ]
  },
  {
   "cell_type": "code",
   "execution_count": 7,
   "metadata": {},
   "outputs": [
    {
     "name": "stderr",
     "output_type": "stream",
     "text": [
      "Traceback (most recent call last):\n",
      "  File \"<ipython-input-7-9ee6184b1636>\", line 8, in <module>\n",
      "    sol_dict = solve_process(f\"inputs/large-{i}.in\")\n",
      "  File \"<ipython-input-6-0e80c752560a>\", line 3, in solve_process\n",
      "    G, S_MAX, N, R, S_mat, H_mat, idx = process_input(input_path)\n",
      "  File \"<ipython-input-6-0e80c752560a>\", line 59, in process_input\n",
      "    G, S_MAX = ps.read_input_file(filename)\n",
      "  File \"/Users/evelynlu/projects/cs170-proj/parse.py\", line 29, in read_input_file\n",
      "    with open(path, \"r\") as fo:\n",
      "FileNotFoundError: [Errno 2] No such file or directory: 'inputs/large-135.in'\n",
      "Traceback (most recent call last):\n",
      "  File \"<ipython-input-7-9ee6184b1636>\", line 8, in <module>\n",
      "    sol_dict = solve_process(f\"inputs/large-{i}.in\")\n",
      "  File \"<ipython-input-6-0e80c752560a>\", line 3, in solve_process\n",
      "    G, S_MAX, N, R, S_mat, H_mat, idx = process_input(input_path)\n",
      "  File \"<ipython-input-6-0e80c752560a>\", line 59, in process_input\n",
      "    G, S_MAX = ps.read_input_file(filename)\n",
      "  File \"/Users/evelynlu/projects/cs170-proj/parse.py\", line 29, in read_input_file\n",
      "    with open(path, \"r\") as fo:\n",
      "FileNotFoundError: [Errno 2] No such file or directory: 'inputs/large-208.in'\n",
      "Traceback (most recent call last):\n",
      "  File \"<ipython-input-7-9ee6184b1636>\", line 8, in <module>\n",
      "    sol_dict = solve_process(f\"inputs/large-{i}.in\")\n",
      "  File \"<ipython-input-6-0e80c752560a>\", line 3, in solve_process\n",
      "    G, S_MAX, N, R, S_mat, H_mat, idx = process_input(input_path)\n",
      "  File \"<ipython-input-6-0e80c752560a>\", line 59, in process_input\n",
      "    G, S_MAX = ps.read_input_file(filename)\n",
      "  File \"/Users/evelynlu/projects/cs170-proj/parse.py\", line 29, in read_input_file\n",
      "    with open(path, \"r\") as fo:\n",
      "FileNotFoundError: [Errno 2] No such file or directory: 'inputs/large-218.in'\n",
      "Traceback (most recent call last):\n",
      "  File \"<ipython-input-7-9ee6184b1636>\", line 8, in <module>\n",
      "    sol_dict = solve_process(f\"inputs/large-{i}.in\")\n",
      "  File \"<ipython-input-6-0e80c752560a>\", line 3, in solve_process\n",
      "    G, S_MAX, N, R, S_mat, H_mat, idx = process_input(input_path)\n",
      "  File \"<ipython-input-6-0e80c752560a>\", line 59, in process_input\n",
      "    G, S_MAX = ps.read_input_file(filename)\n",
      "  File \"/Users/evelynlu/projects/cs170-proj/parse.py\", line 29, in read_input_file\n",
      "    with open(path, \"r\") as fo:\n",
      "FileNotFoundError: [Errno 2] No such file or directory: 'inputs/large-219.in'\n",
      "Traceback (most recent call last):\n",
      "  File \"<ipython-input-7-9ee6184b1636>\", line 8, in <module>\n",
      "    sol_dict = solve_process(f\"inputs/large-{i}.in\")\n",
      "  File \"<ipython-input-6-0e80c752560a>\", line 3, in solve_process\n",
      "    G, S_MAX, N, R, S_mat, H_mat, idx = process_input(input_path)\n",
      "  File \"<ipython-input-6-0e80c752560a>\", line 59, in process_input\n",
      "    G, S_MAX = ps.read_input_file(filename)\n",
      "  File \"/Users/evelynlu/projects/cs170-proj/parse.py\", line 29, in read_input_file\n",
      "    with open(path, \"r\") as fo:\n",
      "FileNotFoundError: [Errno 2] No such file or directory: 'inputs/large-224.in'\n",
      "Traceback (most recent call last):\n",
      "  File \"<ipython-input-7-9ee6184b1636>\", line 8, in <module>\n",
      "    sol_dict = solve_process(f\"inputs/large-{i}.in\")\n",
      "  File \"<ipython-input-6-0e80c752560a>\", line 3, in solve_process\n",
      "    G, S_MAX, N, R, S_mat, H_mat, idx = process_input(input_path)\n",
      "  File \"<ipython-input-6-0e80c752560a>\", line 59, in process_input\n",
      "    G, S_MAX = ps.read_input_file(filename)\n",
      "  File \"/Users/evelynlu/projects/cs170-proj/parse.py\", line 29, in read_input_file\n",
      "    with open(path, \"r\") as fo:\n",
      "FileNotFoundError: [Errno 2] No such file or directory: 'inputs/large-235.in'\n"
     ]
    }
   ],
   "source": [
    "with open('log-cp-lg-1-50.txt', 'a+') as f:\n",
    "    with redirect_stdout(f):\n",
    "        print('LARGE LOG STARTS')\n",
    "        for i in range(1,243):\n",
    "            print(f\"\\n--------------\\nCURRENT i = {i}\\n\")\n",
    "            sys.stdout.flush()\n",
    "            try:\n",
    "                sol_dict = solve_process(f\"inputs/large-{i}.in\")\n",
    "                sys.stdout.flush()\n",
    "                ps.write_output_file(sol_dict, f\"cp_outputs/large-{i}.out\")\n",
    "                sys.stdout.flush()\n",
    "            except: # catch *all* exceptions\n",
    "                # e = sys.exc_info()[0]\n",
    "                etype, value, t = sys.exc_info()\n",
    "                # print('Error opening %s: %s' % (value.filename, value.strerror))\n",
    "                print(f\"ERROR OCCURED: i = {i}, {value}\")\n",
    "                traceback.print_exc()\n",
    "                sys.stdout.flush()\n",
    "                continue"
   ]
  },
  {
   "cell_type": "code",
   "execution_count": null,
   "metadata": {},
   "outputs": [],
   "source": [
    "with open('log-cp-sm-1-242.txt', 'a+') as f:\n",
    "    with redirect_stdout(f):\n",
    "        print('SMALL LOG STARTS')\n",
    "        for i in range(1,243):\n",
    "            print(f\"\\n--------------\\nCURRENT i = {i}\\n\")\n",
    "            sys.stdout.flush()\n",
    "            try:\n",
    "                sol_dict = solve_process(f\"inputs/small-{i}.in\")\n",
    "                sys.stdout.flush()\n",
    "                ps.write_output_file(sol_dict, f\"cp_outputs/small-{i}.out\")\n",
    "                sys.stdout.flush()\n",
    "            except: # catch *all* exceptions\n",
    "                # e = sys.exc_info()[0]\n",
    "                etype, value, t = sys.exc_info()\n",
    "                # print('Error opening %s: %s' % (value.filename, value.strerror))\n",
    "                print(f\"ERROR OCCURED: i = {i}, {value}\")\n",
    "                traceback.print_exc()\n",
    "                sys.stdout.flush()\n",
    "                continue"
   ]
  },
  {
   "cell_type": "code",
   "execution_count": null,
   "metadata": {},
   "outputs": [],
   "source": []
  }
 ],
 "metadata": {
  "kernelspec": {
   "display_name": "Python 3",
   "language": "python",
   "name": "python3"
  },
  "language_info": {
   "codemirror_mode": {
    "name": "ipython",
    "version": 3
   },
   "file_extension": ".py",
   "mimetype": "text/x-python",
   "name": "python",
   "nbconvert_exporter": "python",
   "pygments_lexer": "ipython3",
   "version": "3.7.3"
  }
 },
 "nbformat": 4,
 "nbformat_minor": 4
}
