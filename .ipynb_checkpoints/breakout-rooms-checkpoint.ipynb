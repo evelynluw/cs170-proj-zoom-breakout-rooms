{
 "cells": [
  {
   "cell_type": "markdown",
   "metadata": {},
   "source": [
    "# CS170: Zoom Breakout Rooms\n",
    "Input: n = # of students,  \n",
    "Smax = Stress budget,  \n",
    "h_i_j, s_i_j = happiness & stress between each student pair  \n",
    "\n",
    "Output:  \n",
    "H_r = Happiness of breakout room r  \n",
    "S_r = stress of room r  \n",
    "H_total = total happiness  \n",
    "k = # of rooms opened  \n",
    "\n",
    "Constraints:  \n",
    "S_r < Smax / k  \n",
    "k = # of rooms opened.   \n",
    "\n",
    "Goal: maximize H total."
   ]
  },
  {
   "cell_type": "markdown",
   "metadata": {},
   "source": [
    "## importing files & libs"
   ]
  },
  {
   "cell_type": "code",
   "execution_count": null,
   "metadata": {},
   "outputs": [],
   "source": []
  },
  {
   "cell_type": "code",
   "execution_count": 1,
   "metadata": {
    "scrolled": true
   },
   "outputs": [
    {
     "name": "stdout",
     "output_type": "stream",
     "text": [
      "README.md                    \u001b[1m\u001b[36minputs_outputs\u001b[m\u001b[m\n",
      "\u001b[1m\u001b[36m__pycache__\u001b[m\u001b[m                  log-10-200.txt\n",
      "breakout-rooms-8a27e55.ipynb log-med-1-50.txt\n",
      "breakout-rooms.ipynb         log.txt\n",
      "\u001b[1m\u001b[36mcp_outputs\u001b[m\u001b[m                   \u001b[1m\u001b[36moutputs\u001b[m\u001b[m\n",
      "cp_solver.py                 parse.py\n",
      "input_create.ipynb           reflection.txt\n",
      "input_create.ipynb.txt       \u001b[1m\u001b[36msamples\u001b[m\u001b[m\n",
      "input_create.py              solver.py\n",
      "\u001b[1m\u001b[36minputs\u001b[m\u001b[m                       test_write.py\n",
      "inputs.zip                   utils.py\n"
     ]
    }
   ],
   "source": [
    "!ls"
   ]
  },
  {
   "cell_type": "code",
   "execution_count": 2,
   "metadata": {},
   "outputs": [],
   "source": [
    "import utils\n",
    "import utils as ut\n",
    "import parse as ps\n",
    "import networkx as nx\n",
    "from docplex.mp.model import Model\n",
    "import numpy as np\n",
    "import pandas"
   ]
  },
  {
   "cell_type": "markdown",
   "metadata": {},
   "source": [
    "## Parsing Variables\n",
    "Input: n = # of students,\n",
    "Smax = Stress budget,\n",
    "h_i_j, s_i_j = happiness & stress between each student pair"
   ]
  },
  {
   "cell_type": "code",
   "execution_count": 3,
   "metadata": {
    "scrolled": true
   },
   "outputs": [],
   "source": [
    "def process_input(filename):\n",
    "    G, S_MAX = ps.read_input_file(filename)\n",
    "    N = len(G)\n",
    "    D = nx.to_dict_of_dicts(G)\n",
    "    R = range(N)\n",
    "    S_mat = np.zeros((N,N))\n",
    "    H_mat = np.zeros((N,N))\n",
    "    dic = D.copy()\n",
    "    idx = []\n",
    "    for i in R:\n",
    "        dic.pop(i);\n",
    "        idx.extend([(i, i, k) for k in R])\n",
    "        for j in dic.keys():\n",
    "            info = D[i][j]\n",
    "            S_mat[i,j]=info['stress']\n",
    "            H_mat[i,j]=info['happiness']\n",
    "            idx.extend([(i, j, k) for k in R])\n",
    "    #         D[i][j]['h'] = D[i][j].pop('happiness')\n",
    "    #         D[i][j]['s'] = D[i][j].pop('stress')\n",
    "    #         print(\"{}-{}: h={}, s={}\".format(i, j, info['happiness'], info['stress']))\n",
    "#     print(S_mat)\n",
    "#     print(H_mat)\n",
    "    print(len(idx))\n",
    "    return G, S_MAX, N, R, S_mat, H_mat, idx"
   ]
  },
  {
   "cell_type": "markdown",
   "metadata": {},
   "source": [
    "\n",
    "# Build model (MP)"
   ]
  },
  {
   "cell_type": "code",
   "execution_count": 4,
   "metadata": {},
   "outputs": [
    {
     "name": "stdout",
     "output_type": "stream",
     "text": [
      "550\n"
     ]
    }
   ],
   "source": [
    "G, S_MAX, N, R, S_mat, H_mat, idx = process_input(\"inputs_outputs/10.in\")\n",
    "msol = 0\n",
    "model = 0\n",
    "x = 0"
   ]
  },
  {
   "cell_type": "code",
   "execution_count": 5,
   "metadata": {},
   "outputs": [],
   "source": [
    "def init_model(N):\n",
    "# ref to the mp sudoku example: https://ibmdecisionoptimization.github.io/docplex-doc/mp/creating_model.html\n",
    "    global model, x\n",
    "    model = Model(\"breakout_room_mp\")\n",
    "    R = range(N)\n",
    "    # X is room assignment; key is (i, j, r) where i,j is a pair of students, and r is the room they are assigned to\n",
    "    x = model.binary_var_dict(idx, name=\"X\") \n",
    "    # room_count = model.integer_var(1, N, \"room_count\")\n",
    "\n",
    "    # constraint 1: each pair can only be assigned to one room. \n",
    "    # -> for each pair, sum of all different room choices == 1\n",
    "    for i in R:\n",
    "    #     model.add_constraint(model.sum(x[j,i,k] for j in range(i) for k in R)\n",
    "    #                     +    model.sum(x[i,j,k] for j in range(i,N) for k in R) == 1)\n",
    "        for j in range(i, N):\n",
    "            pair_sum = model.sum(x[i,j,k] for k in R)\n",
    "            model.add_constraint(pair_sum <= 1)\n",
    "\n",
    "    # constraint *2: generate \"clique\" for people appeared in a pair in a room. using triangle/rectangle, in each k layer.\n",
    "    # constraint 3: everyone can only be assigned to one room.\n",
    "    # -> other room sum of pairs including someone assigned == 0\n",
    "    for k in R:\n",
    "        for a in R: \n",
    "            for b in range(a + 1,N):\n",
    "                model.add_constraint(model.indicator_constraint(\n",
    "                    x[a,b,k], \n",
    "                    model.sum(x[a,i,r] for i in range(a+1,N) for r in R if r != k)+ \n",
    "                    model.sum(x[i,a,r] for i in range(a) for r in R if r != k)\n",
    "                    ==0))\n",
    "                model.add_constraint(model.indicator_constraint(\n",
    "                    x[a,b,k], \n",
    "                    model.sum(x[b,i,r] for i in range(b+1,N) for r in R if r != k)+\n",
    "                    model.sum(x[i,b,r] for i in range(b) for r in R if r != k)\n",
    "                    == 0))\n",
    "                for c in range(b + 1,N):\n",
    "                    model.add_constraint(x[a,b,k] + x[a,c,k] + x[b,c,k] != 2)\n",
    "                    for d in range(c + 1,N):\n",
    "                        model.add_constraint(model.if_then((x[a,b,k] + x[c,d,k]) == 2, x[a,c,k] == 1))\n",
    "    return model, x\n",
    "\n",
    "    # constraint 2: rooms are using consecutive numbers starting from 0. \n",
    "    # if nobody is in one room, do not assign people to rooms with no > this one\n",
    "    # also: calculate room count\n",
    "    # now: count all partners in the assigned group!\n",
    "    # for k in range(N-1):\n",
    "    # #     room_sum = model.sum(x[i,j,k] for i in R for j in range(i,N))\n",
    "    #     for i in R:\n",
    "    #         for j in range(i, N):\n",
    "    #             model.add_constraint(model.if_then(room_sum == 0, x[i,j,k+1]==0))\n",
    "    #             model.add_constraint(model.if_then(room_sum == 0, room_count <= k))\n",
    "    #             model.add_constraint(model.if_then(room_sum != 0, room_count >= k + 1))"
   ]
  },
  {
   "cell_type": "code",
   "execution_count": 6,
   "metadata": {},
   "outputs": [],
   "source": [
    "def model_and_solve(NBROOMS):\n",
    "# ref to the mp sudoku example: https://ibmdecisionoptimization.github.io/docplex-doc/mp/creating_model.html\n",
    "    global model\n",
    "        # constraint 3: stress level of each room is under the limit. \n",
    "    # how to find the number of rooms assigned? <- create a new variable\n",
    "    constraints = []\n",
    "    for r in R:\n",
    "        S_room = model.sum(S_mat[i,j] * x[i,j,r] for i in R for j in range(i,N))\n",
    "        constraints.append(model.add_constraint(S_room <= S_MAX / NBROOMS))\n",
    "    # goal: maximize happiness\n",
    "    model.maximize(model.sum(H_mat[i,j] * x[i,j,k] for i in R for j in range(i,N) for k in R))\n",
    "    model.set_time_limit(5)\n",
    "    msol = model.solve()\n",
    "    model.remove_constraints(constraints)\n",
    "    model.remove_objective()\n",
    "    print(f\"happiness: {msol.objective_value}\")\n",
    "#     print(msol)\n",
    "    return msol"
   ]
  },
  {
   "cell_type": "code",
   "execution_count": 7,
   "metadata": {},
   "outputs": [],
   "source": [
    "def clean_model_solution(msol, x, N):\n",
    "    msol_dict = msol.get_value_dict(x)\n",
    "    msol_np = np.concatenate((list(msol_dict.keys()), np.array([list(msol_dict.values())]).T), axis=1).astype(int)\n",
    "    msol_nz = msol_np[msol_np[:,3].nonzero()]\n",
    "    msol_rooms = msol_nz[:,2]\n",
    "    msol_unique_rooms = np.unique(msol_rooms)\n",
    "    msol_unique_rooms\n",
    "    number_of_rooms = len(msol_unique_rooms)\n",
    "    for i in range(number_of_rooms):\n",
    "        msol_rooms = np.where(msol_rooms==msol_unique_rooms[i],i,msol_rooms)\n",
    "    msol_rooms\n",
    "    msol_nz[:,2]=msol_rooms\n",
    "    for i in np.setdiff1d(np.arange(N), np.unique(np.concatenate([msol_nz[:,0],msol_nz[:,1]]))):\n",
    "        msol_nz = np.append(msol_nz, [[i,i, number_of_rooms,1]],axis=0)\n",
    "        msol_rooms = np.append(msol_rooms, number_of_rooms)\n",
    "        number_of_rooms += 1\n",
    "    print(msol_nz, number_of_rooms)\n",
    "    return msol_nz, msol_rooms, number_of_rooms\n",
    "    \n",
    "def is_valid(msol_nz, number_of_rooms):\n",
    "    S_room_max = S_MAX/number_of_rooms\n",
    "    for i in range(number_of_rooms):\n",
    "        room = msol_nz[np.argwhere(msol_nz[:,2] == i).flatten()]\n",
    "        S_r = S_mat[room[:,0], room[:,1]].sum()\n",
    "        if (S_r > S_room_max):\n",
    "            print(f\"room {i} stress = {S_r}, exceeded {S_room_max}\")\n",
    "            return False\n",
    "    return True\n",
    "\n",
    "def to_dict(msol_nz, msol_rooms, number_of_rooms):\n",
    "    sol_dict = {}\n",
    "    for i in range(number_of_rooms):\n",
    "        sel = msol_nz[np.argwhere(msol_rooms == i).flatten()]\n",
    "        sol_dict.update(dict(zip(sel[:,0], sel[:,2])))\n",
    "        sol_dict.update(dict(zip(sel[:,1], sel[:,2])))\n",
    "    return sol_dict"
   ]
  },
  {
   "cell_type": "code",
   "execution_count": 8,
   "metadata": {
    "scrolled": true
   },
   "outputs": [],
   "source": [
    "# processes to get valid solution\n",
    "def solve_process(input_path):\n",
    "    global G, S_MAX, N, R, S_mat, H_mat, idx, msol, x\n",
    "    G, S_MAX, N, R, S_mat, H_mat, idx = process_input(input_path)\n",
    "#     model, x = init_model(N)\n",
    "    nbrooms = 1\n",
    "    while(nbrooms < N):\n",
    "        msol = model_and_solve(nbrooms)\n",
    "        sol_nz, msol_rooms, number_of_rooms = clean_model_solution(msol, x, N)\n",
    "        if (number_of_rooms != N and is_valid(sol_nz, number_of_rooms)):\n",
    "            print(f\"success! nbrooms = {nbrooms}\")\n",
    "            return to_dict(sol_nz, msol_rooms, number_of_rooms)\n",
    "        print(f\"nbrooms = {nbrooms} failed. Trying {nbrooms + 1}\")\n",
    "        nbrooms += 1\n",
    "    print(\"FAILED to find good solution\")\n",
    "    return {}\n",
    "# sol_dict, number_of_rooms, sol_nz = solve_process(\"inputs_outputs/20.in\")"
   ]
  },
  {
   "cell_type": "markdown",
   "metadata": {},
   "source": [
    "# Solve small inputs"
   ]
  },
  {
   "cell_type": "code",
   "execution_count": 9,
   "metadata": {
    "collapsed": true,
    "jupyter": {
     "outputs_hidden": true
    }
   },
   "outputs": [
    {
     "data": {
      "text/plain": [
       "(<docplex.mp.model.Model at 0x7f9bd30e2d90>,\n",
       " {(0, 0, 0): docplex.mp.Var(type=B,name='X_0_0_0'),\n",
       "  (0, 0, 1): docplex.mp.Var(type=B,name='X_0_0_1'),\n",
       "  (0, 0, 2): docplex.mp.Var(type=B,name='X_0_0_2'),\n",
       "  (0, 0, 3): docplex.mp.Var(type=B,name='X_0_0_3'),\n",
       "  (0, 0, 4): docplex.mp.Var(type=B,name='X_0_0_4'),\n",
       "  (0, 0, 5): docplex.mp.Var(type=B,name='X_0_0_5'),\n",
       "  (0, 0, 6): docplex.mp.Var(type=B,name='X_0_0_6'),\n",
       "  (0, 0, 7): docplex.mp.Var(type=B,name='X_0_0_7'),\n",
       "  (0, 0, 8): docplex.mp.Var(type=B,name='X_0_0_8'),\n",
       "  (0, 0, 9): docplex.mp.Var(type=B,name='X_0_0_9'),\n",
       "  (0, 1, 0): docplex.mp.Var(type=B,name='X_0_1_0'),\n",
       "  (0, 1, 1): docplex.mp.Var(type=B,name='X_0_1_1'),\n",
       "  (0, 1, 2): docplex.mp.Var(type=B,name='X_0_1_2'),\n",
       "  (0, 1, 3): docplex.mp.Var(type=B,name='X_0_1_3'),\n",
       "  (0, 1, 4): docplex.mp.Var(type=B,name='X_0_1_4'),\n",
       "  (0, 1, 5): docplex.mp.Var(type=B,name='X_0_1_5'),\n",
       "  (0, 1, 6): docplex.mp.Var(type=B,name='X_0_1_6'),\n",
       "  (0, 1, 7): docplex.mp.Var(type=B,name='X_0_1_7'),\n",
       "  (0, 1, 8): docplex.mp.Var(type=B,name='X_0_1_8'),\n",
       "  (0, 1, 9): docplex.mp.Var(type=B,name='X_0_1_9'),\n",
       "  (0, 2, 0): docplex.mp.Var(type=B,name='X_0_2_0'),\n",
       "  (0, 2, 1): docplex.mp.Var(type=B,name='X_0_2_1'),\n",
       "  (0, 2, 2): docplex.mp.Var(type=B,name='X_0_2_2'),\n",
       "  (0, 2, 3): docplex.mp.Var(type=B,name='X_0_2_3'),\n",
       "  (0, 2, 4): docplex.mp.Var(type=B,name='X_0_2_4'),\n",
       "  (0, 2, 5): docplex.mp.Var(type=B,name='X_0_2_5'),\n",
       "  (0, 2, 6): docplex.mp.Var(type=B,name='X_0_2_6'),\n",
       "  (0, 2, 7): docplex.mp.Var(type=B,name='X_0_2_7'),\n",
       "  (0, 2, 8): docplex.mp.Var(type=B,name='X_0_2_8'),\n",
       "  (0, 2, 9): docplex.mp.Var(type=B,name='X_0_2_9'),\n",
       "  (0, 3, 0): docplex.mp.Var(type=B,name='X_0_3_0'),\n",
       "  (0, 3, 1): docplex.mp.Var(type=B,name='X_0_3_1'),\n",
       "  (0, 3, 2): docplex.mp.Var(type=B,name='X_0_3_2'),\n",
       "  (0, 3, 3): docplex.mp.Var(type=B,name='X_0_3_3'),\n",
       "  (0, 3, 4): docplex.mp.Var(type=B,name='X_0_3_4'),\n",
       "  (0, 3, 5): docplex.mp.Var(type=B,name='X_0_3_5'),\n",
       "  (0, 3, 6): docplex.mp.Var(type=B,name='X_0_3_6'),\n",
       "  (0, 3, 7): docplex.mp.Var(type=B,name='X_0_3_7'),\n",
       "  (0, 3, 8): docplex.mp.Var(type=B,name='X_0_3_8'),\n",
       "  (0, 3, 9): docplex.mp.Var(type=B,name='X_0_3_9'),\n",
       "  (0, 4, 0): docplex.mp.Var(type=B,name='X_0_4_0'),\n",
       "  (0, 4, 1): docplex.mp.Var(type=B,name='X_0_4_1'),\n",
       "  (0, 4, 2): docplex.mp.Var(type=B,name='X_0_4_2'),\n",
       "  (0, 4, 3): docplex.mp.Var(type=B,name='X_0_4_3'),\n",
       "  (0, 4, 4): docplex.mp.Var(type=B,name='X_0_4_4'),\n",
       "  (0, 4, 5): docplex.mp.Var(type=B,name='X_0_4_5'),\n",
       "  (0, 4, 6): docplex.mp.Var(type=B,name='X_0_4_6'),\n",
       "  (0, 4, 7): docplex.mp.Var(type=B,name='X_0_4_7'),\n",
       "  (0, 4, 8): docplex.mp.Var(type=B,name='X_0_4_8'),\n",
       "  (0, 4, 9): docplex.mp.Var(type=B,name='X_0_4_9'),\n",
       "  (0, 5, 0): docplex.mp.Var(type=B,name='X_0_5_0'),\n",
       "  (0, 5, 1): docplex.mp.Var(type=B,name='X_0_5_1'),\n",
       "  (0, 5, 2): docplex.mp.Var(type=B,name='X_0_5_2'),\n",
       "  (0, 5, 3): docplex.mp.Var(type=B,name='X_0_5_3'),\n",
       "  (0, 5, 4): docplex.mp.Var(type=B,name='X_0_5_4'),\n",
       "  (0, 5, 5): docplex.mp.Var(type=B,name='X_0_5_5'),\n",
       "  (0, 5, 6): docplex.mp.Var(type=B,name='X_0_5_6'),\n",
       "  (0, 5, 7): docplex.mp.Var(type=B,name='X_0_5_7'),\n",
       "  (0, 5, 8): docplex.mp.Var(type=B,name='X_0_5_8'),\n",
       "  (0, 5, 9): docplex.mp.Var(type=B,name='X_0_5_9'),\n",
       "  (0, 6, 0): docplex.mp.Var(type=B,name='X_0_6_0'),\n",
       "  (0, 6, 1): docplex.mp.Var(type=B,name='X_0_6_1'),\n",
       "  (0, 6, 2): docplex.mp.Var(type=B,name='X_0_6_2'),\n",
       "  (0, 6, 3): docplex.mp.Var(type=B,name='X_0_6_3'),\n",
       "  (0, 6, 4): docplex.mp.Var(type=B,name='X_0_6_4'),\n",
       "  (0, 6, 5): docplex.mp.Var(type=B,name='X_0_6_5'),\n",
       "  (0, 6, 6): docplex.mp.Var(type=B,name='X_0_6_6'),\n",
       "  (0, 6, 7): docplex.mp.Var(type=B,name='X_0_6_7'),\n",
       "  (0, 6, 8): docplex.mp.Var(type=B,name='X_0_6_8'),\n",
       "  (0, 6, 9): docplex.mp.Var(type=B,name='X_0_6_9'),\n",
       "  (0, 7, 0): docplex.mp.Var(type=B,name='X_0_7_0'),\n",
       "  (0, 7, 1): docplex.mp.Var(type=B,name='X_0_7_1'),\n",
       "  (0, 7, 2): docplex.mp.Var(type=B,name='X_0_7_2'),\n",
       "  (0, 7, 3): docplex.mp.Var(type=B,name='X_0_7_3'),\n",
       "  (0, 7, 4): docplex.mp.Var(type=B,name='X_0_7_4'),\n",
       "  (0, 7, 5): docplex.mp.Var(type=B,name='X_0_7_5'),\n",
       "  (0, 7, 6): docplex.mp.Var(type=B,name='X_0_7_6'),\n",
       "  (0, 7, 7): docplex.mp.Var(type=B,name='X_0_7_7'),\n",
       "  (0, 7, 8): docplex.mp.Var(type=B,name='X_0_7_8'),\n",
       "  (0, 7, 9): docplex.mp.Var(type=B,name='X_0_7_9'),\n",
       "  (0, 8, 0): docplex.mp.Var(type=B,name='X_0_8_0'),\n",
       "  (0, 8, 1): docplex.mp.Var(type=B,name='X_0_8_1'),\n",
       "  (0, 8, 2): docplex.mp.Var(type=B,name='X_0_8_2'),\n",
       "  (0, 8, 3): docplex.mp.Var(type=B,name='X_0_8_3'),\n",
       "  (0, 8, 4): docplex.mp.Var(type=B,name='X_0_8_4'),\n",
       "  (0, 8, 5): docplex.mp.Var(type=B,name='X_0_8_5'),\n",
       "  (0, 8, 6): docplex.mp.Var(type=B,name='X_0_8_6'),\n",
       "  (0, 8, 7): docplex.mp.Var(type=B,name='X_0_8_7'),\n",
       "  (0, 8, 8): docplex.mp.Var(type=B,name='X_0_8_8'),\n",
       "  (0, 8, 9): docplex.mp.Var(type=B,name='X_0_8_9'),\n",
       "  (0, 9, 0): docplex.mp.Var(type=B,name='X_0_9_0'),\n",
       "  (0, 9, 1): docplex.mp.Var(type=B,name='X_0_9_1'),\n",
       "  (0, 9, 2): docplex.mp.Var(type=B,name='X_0_9_2'),\n",
       "  (0, 9, 3): docplex.mp.Var(type=B,name='X_0_9_3'),\n",
       "  (0, 9, 4): docplex.mp.Var(type=B,name='X_0_9_4'),\n",
       "  (0, 9, 5): docplex.mp.Var(type=B,name='X_0_9_5'),\n",
       "  (0, 9, 6): docplex.mp.Var(type=B,name='X_0_9_6'),\n",
       "  (0, 9, 7): docplex.mp.Var(type=B,name='X_0_9_7'),\n",
       "  (0, 9, 8): docplex.mp.Var(type=B,name='X_0_9_8'),\n",
       "  (0, 9, 9): docplex.mp.Var(type=B,name='X_0_9_9'),\n",
       "  (1, 1, 0): docplex.mp.Var(type=B,name='X_1_1_0'),\n",
       "  (1, 1, 1): docplex.mp.Var(type=B,name='X_1_1_1'),\n",
       "  (1, 1, 2): docplex.mp.Var(type=B,name='X_1_1_2'),\n",
       "  (1, 1, 3): docplex.mp.Var(type=B,name='X_1_1_3'),\n",
       "  (1, 1, 4): docplex.mp.Var(type=B,name='X_1_1_4'),\n",
       "  (1, 1, 5): docplex.mp.Var(type=B,name='X_1_1_5'),\n",
       "  (1, 1, 6): docplex.mp.Var(type=B,name='X_1_1_6'),\n",
       "  (1, 1, 7): docplex.mp.Var(type=B,name='X_1_1_7'),\n",
       "  (1, 1, 8): docplex.mp.Var(type=B,name='X_1_1_8'),\n",
       "  (1, 1, 9): docplex.mp.Var(type=B,name='X_1_1_9'),\n",
       "  (1, 2, 0): docplex.mp.Var(type=B,name='X_1_2_0'),\n",
       "  (1, 2, 1): docplex.mp.Var(type=B,name='X_1_2_1'),\n",
       "  (1, 2, 2): docplex.mp.Var(type=B,name='X_1_2_2'),\n",
       "  (1, 2, 3): docplex.mp.Var(type=B,name='X_1_2_3'),\n",
       "  (1, 2, 4): docplex.mp.Var(type=B,name='X_1_2_4'),\n",
       "  (1, 2, 5): docplex.mp.Var(type=B,name='X_1_2_5'),\n",
       "  (1, 2, 6): docplex.mp.Var(type=B,name='X_1_2_6'),\n",
       "  (1, 2, 7): docplex.mp.Var(type=B,name='X_1_2_7'),\n",
       "  (1, 2, 8): docplex.mp.Var(type=B,name='X_1_2_8'),\n",
       "  (1, 2, 9): docplex.mp.Var(type=B,name='X_1_2_9'),\n",
       "  (1, 3, 0): docplex.mp.Var(type=B,name='X_1_3_0'),\n",
       "  (1, 3, 1): docplex.mp.Var(type=B,name='X_1_3_1'),\n",
       "  (1, 3, 2): docplex.mp.Var(type=B,name='X_1_3_2'),\n",
       "  (1, 3, 3): docplex.mp.Var(type=B,name='X_1_3_3'),\n",
       "  (1, 3, 4): docplex.mp.Var(type=B,name='X_1_3_4'),\n",
       "  (1, 3, 5): docplex.mp.Var(type=B,name='X_1_3_5'),\n",
       "  (1, 3, 6): docplex.mp.Var(type=B,name='X_1_3_6'),\n",
       "  (1, 3, 7): docplex.mp.Var(type=B,name='X_1_3_7'),\n",
       "  (1, 3, 8): docplex.mp.Var(type=B,name='X_1_3_8'),\n",
       "  (1, 3, 9): docplex.mp.Var(type=B,name='X_1_3_9'),\n",
       "  (1, 4, 0): docplex.mp.Var(type=B,name='X_1_4_0'),\n",
       "  (1, 4, 1): docplex.mp.Var(type=B,name='X_1_4_1'),\n",
       "  (1, 4, 2): docplex.mp.Var(type=B,name='X_1_4_2'),\n",
       "  (1, 4, 3): docplex.mp.Var(type=B,name='X_1_4_3'),\n",
       "  (1, 4, 4): docplex.mp.Var(type=B,name='X_1_4_4'),\n",
       "  (1, 4, 5): docplex.mp.Var(type=B,name='X_1_4_5'),\n",
       "  (1, 4, 6): docplex.mp.Var(type=B,name='X_1_4_6'),\n",
       "  (1, 4, 7): docplex.mp.Var(type=B,name='X_1_4_7'),\n",
       "  (1, 4, 8): docplex.mp.Var(type=B,name='X_1_4_8'),\n",
       "  (1, 4, 9): docplex.mp.Var(type=B,name='X_1_4_9'),\n",
       "  (1, 5, 0): docplex.mp.Var(type=B,name='X_1_5_0'),\n",
       "  (1, 5, 1): docplex.mp.Var(type=B,name='X_1_5_1'),\n",
       "  (1, 5, 2): docplex.mp.Var(type=B,name='X_1_5_2'),\n",
       "  (1, 5, 3): docplex.mp.Var(type=B,name='X_1_5_3'),\n",
       "  (1, 5, 4): docplex.mp.Var(type=B,name='X_1_5_4'),\n",
       "  (1, 5, 5): docplex.mp.Var(type=B,name='X_1_5_5'),\n",
       "  (1, 5, 6): docplex.mp.Var(type=B,name='X_1_5_6'),\n",
       "  (1, 5, 7): docplex.mp.Var(type=B,name='X_1_5_7'),\n",
       "  (1, 5, 8): docplex.mp.Var(type=B,name='X_1_5_8'),\n",
       "  (1, 5, 9): docplex.mp.Var(type=B,name='X_1_5_9'),\n",
       "  (1, 6, 0): docplex.mp.Var(type=B,name='X_1_6_0'),\n",
       "  (1, 6, 1): docplex.mp.Var(type=B,name='X_1_6_1'),\n",
       "  (1, 6, 2): docplex.mp.Var(type=B,name='X_1_6_2'),\n",
       "  (1, 6, 3): docplex.mp.Var(type=B,name='X_1_6_3'),\n",
       "  (1, 6, 4): docplex.mp.Var(type=B,name='X_1_6_4'),\n",
       "  (1, 6, 5): docplex.mp.Var(type=B,name='X_1_6_5'),\n",
       "  (1, 6, 6): docplex.mp.Var(type=B,name='X_1_6_6'),\n",
       "  (1, 6, 7): docplex.mp.Var(type=B,name='X_1_6_7'),\n",
       "  (1, 6, 8): docplex.mp.Var(type=B,name='X_1_6_8'),\n",
       "  (1, 6, 9): docplex.mp.Var(type=B,name='X_1_6_9'),\n",
       "  (1, 7, 0): docplex.mp.Var(type=B,name='X_1_7_0'),\n",
       "  (1, 7, 1): docplex.mp.Var(type=B,name='X_1_7_1'),\n",
       "  (1, 7, 2): docplex.mp.Var(type=B,name='X_1_7_2'),\n",
       "  (1, 7, 3): docplex.mp.Var(type=B,name='X_1_7_3'),\n",
       "  (1, 7, 4): docplex.mp.Var(type=B,name='X_1_7_4'),\n",
       "  (1, 7, 5): docplex.mp.Var(type=B,name='X_1_7_5'),\n",
       "  (1, 7, 6): docplex.mp.Var(type=B,name='X_1_7_6'),\n",
       "  (1, 7, 7): docplex.mp.Var(type=B,name='X_1_7_7'),\n",
       "  (1, 7, 8): docplex.mp.Var(type=B,name='X_1_7_8'),\n",
       "  (1, 7, 9): docplex.mp.Var(type=B,name='X_1_7_9'),\n",
       "  (1, 8, 0): docplex.mp.Var(type=B,name='X_1_8_0'),\n",
       "  (1, 8, 1): docplex.mp.Var(type=B,name='X_1_8_1'),\n",
       "  (1, 8, 2): docplex.mp.Var(type=B,name='X_1_8_2'),\n",
       "  (1, 8, 3): docplex.mp.Var(type=B,name='X_1_8_3'),\n",
       "  (1, 8, 4): docplex.mp.Var(type=B,name='X_1_8_4'),\n",
       "  (1, 8, 5): docplex.mp.Var(type=B,name='X_1_8_5'),\n",
       "  (1, 8, 6): docplex.mp.Var(type=B,name='X_1_8_6'),\n",
       "  (1, 8, 7): docplex.mp.Var(type=B,name='X_1_8_7'),\n",
       "  (1, 8, 8): docplex.mp.Var(type=B,name='X_1_8_8'),\n",
       "  (1, 8, 9): docplex.mp.Var(type=B,name='X_1_8_9'),\n",
       "  (1, 9, 0): docplex.mp.Var(type=B,name='X_1_9_0'),\n",
       "  (1, 9, 1): docplex.mp.Var(type=B,name='X_1_9_1'),\n",
       "  (1, 9, 2): docplex.mp.Var(type=B,name='X_1_9_2'),\n",
       "  (1, 9, 3): docplex.mp.Var(type=B,name='X_1_9_3'),\n",
       "  (1, 9, 4): docplex.mp.Var(type=B,name='X_1_9_4'),\n",
       "  (1, 9, 5): docplex.mp.Var(type=B,name='X_1_9_5'),\n",
       "  (1, 9, 6): docplex.mp.Var(type=B,name='X_1_9_6'),\n",
       "  (1, 9, 7): docplex.mp.Var(type=B,name='X_1_9_7'),\n",
       "  (1, 9, 8): docplex.mp.Var(type=B,name='X_1_9_8'),\n",
       "  (1, 9, 9): docplex.mp.Var(type=B,name='X_1_9_9'),\n",
       "  (2, 2, 0): docplex.mp.Var(type=B,name='X_2_2_0'),\n",
       "  (2, 2, 1): docplex.mp.Var(type=B,name='X_2_2_1'),\n",
       "  (2, 2, 2): docplex.mp.Var(type=B,name='X_2_2_2'),\n",
       "  (2, 2, 3): docplex.mp.Var(type=B,name='X_2_2_3'),\n",
       "  (2, 2, 4): docplex.mp.Var(type=B,name='X_2_2_4'),\n",
       "  (2, 2, 5): docplex.mp.Var(type=B,name='X_2_2_5'),\n",
       "  (2, 2, 6): docplex.mp.Var(type=B,name='X_2_2_6'),\n",
       "  (2, 2, 7): docplex.mp.Var(type=B,name='X_2_2_7'),\n",
       "  (2, 2, 8): docplex.mp.Var(type=B,name='X_2_2_8'),\n",
       "  (2, 2, 9): docplex.mp.Var(type=B,name='X_2_2_9'),\n",
       "  (2, 3, 0): docplex.mp.Var(type=B,name='X_2_3_0'),\n",
       "  (2, 3, 1): docplex.mp.Var(type=B,name='X_2_3_1'),\n",
       "  (2, 3, 2): docplex.mp.Var(type=B,name='X_2_3_2'),\n",
       "  (2, 3, 3): docplex.mp.Var(type=B,name='X_2_3_3'),\n",
       "  (2, 3, 4): docplex.mp.Var(type=B,name='X_2_3_4'),\n",
       "  (2, 3, 5): docplex.mp.Var(type=B,name='X_2_3_5'),\n",
       "  (2, 3, 6): docplex.mp.Var(type=B,name='X_2_3_6'),\n",
       "  (2, 3, 7): docplex.mp.Var(type=B,name='X_2_3_7'),\n",
       "  (2, 3, 8): docplex.mp.Var(type=B,name='X_2_3_8'),\n",
       "  (2, 3, 9): docplex.mp.Var(type=B,name='X_2_3_9'),\n",
       "  (2, 4, 0): docplex.mp.Var(type=B,name='X_2_4_0'),\n",
       "  (2, 4, 1): docplex.mp.Var(type=B,name='X_2_4_1'),\n",
       "  (2, 4, 2): docplex.mp.Var(type=B,name='X_2_4_2'),\n",
       "  (2, 4, 3): docplex.mp.Var(type=B,name='X_2_4_3'),\n",
       "  (2, 4, 4): docplex.mp.Var(type=B,name='X_2_4_4'),\n",
       "  (2, 4, 5): docplex.mp.Var(type=B,name='X_2_4_5'),\n",
       "  (2, 4, 6): docplex.mp.Var(type=B,name='X_2_4_6'),\n",
       "  (2, 4, 7): docplex.mp.Var(type=B,name='X_2_4_7'),\n",
       "  (2, 4, 8): docplex.mp.Var(type=B,name='X_2_4_8'),\n",
       "  (2, 4, 9): docplex.mp.Var(type=B,name='X_2_4_9'),\n",
       "  (2, 5, 0): docplex.mp.Var(type=B,name='X_2_5_0'),\n",
       "  (2, 5, 1): docplex.mp.Var(type=B,name='X_2_5_1'),\n",
       "  (2, 5, 2): docplex.mp.Var(type=B,name='X_2_5_2'),\n",
       "  (2, 5, 3): docplex.mp.Var(type=B,name='X_2_5_3'),\n",
       "  (2, 5, 4): docplex.mp.Var(type=B,name='X_2_5_4'),\n",
       "  (2, 5, 5): docplex.mp.Var(type=B,name='X_2_5_5'),\n",
       "  (2, 5, 6): docplex.mp.Var(type=B,name='X_2_5_6'),\n",
       "  (2, 5, 7): docplex.mp.Var(type=B,name='X_2_5_7'),\n",
       "  (2, 5, 8): docplex.mp.Var(type=B,name='X_2_5_8'),\n",
       "  (2, 5, 9): docplex.mp.Var(type=B,name='X_2_5_9'),\n",
       "  (2, 6, 0): docplex.mp.Var(type=B,name='X_2_6_0'),\n",
       "  (2, 6, 1): docplex.mp.Var(type=B,name='X_2_6_1'),\n",
       "  (2, 6, 2): docplex.mp.Var(type=B,name='X_2_6_2'),\n",
       "  (2, 6, 3): docplex.mp.Var(type=B,name='X_2_6_3'),\n",
       "  (2, 6, 4): docplex.mp.Var(type=B,name='X_2_6_4'),\n",
       "  (2, 6, 5): docplex.mp.Var(type=B,name='X_2_6_5'),\n",
       "  (2, 6, 6): docplex.mp.Var(type=B,name='X_2_6_6'),\n",
       "  (2, 6, 7): docplex.mp.Var(type=B,name='X_2_6_7'),\n",
       "  (2, 6, 8): docplex.mp.Var(type=B,name='X_2_6_8'),\n",
       "  (2, 6, 9): docplex.mp.Var(type=B,name='X_2_6_9'),\n",
       "  (2, 7, 0): docplex.mp.Var(type=B,name='X_2_7_0'),\n",
       "  (2, 7, 1): docplex.mp.Var(type=B,name='X_2_7_1'),\n",
       "  (2, 7, 2): docplex.mp.Var(type=B,name='X_2_7_2'),\n",
       "  (2, 7, 3): docplex.mp.Var(type=B,name='X_2_7_3'),\n",
       "  (2, 7, 4): docplex.mp.Var(type=B,name='X_2_7_4'),\n",
       "  (2, 7, 5): docplex.mp.Var(type=B,name='X_2_7_5'),\n",
       "  (2, 7, 6): docplex.mp.Var(type=B,name='X_2_7_6'),\n",
       "  (2, 7, 7): docplex.mp.Var(type=B,name='X_2_7_7'),\n",
       "  (2, 7, 8): docplex.mp.Var(type=B,name='X_2_7_8'),\n",
       "  (2, 7, 9): docplex.mp.Var(type=B,name='X_2_7_9'),\n",
       "  (2, 8, 0): docplex.mp.Var(type=B,name='X_2_8_0'),\n",
       "  (2, 8, 1): docplex.mp.Var(type=B,name='X_2_8_1'),\n",
       "  (2, 8, 2): docplex.mp.Var(type=B,name='X_2_8_2'),\n",
       "  (2, 8, 3): docplex.mp.Var(type=B,name='X_2_8_3'),\n",
       "  (2, 8, 4): docplex.mp.Var(type=B,name='X_2_8_4'),\n",
       "  (2, 8, 5): docplex.mp.Var(type=B,name='X_2_8_5'),\n",
       "  (2, 8, 6): docplex.mp.Var(type=B,name='X_2_8_6'),\n",
       "  (2, 8, 7): docplex.mp.Var(type=B,name='X_2_8_7'),\n",
       "  (2, 8, 8): docplex.mp.Var(type=B,name='X_2_8_8'),\n",
       "  (2, 8, 9): docplex.mp.Var(type=B,name='X_2_8_9'),\n",
       "  (2, 9, 0): docplex.mp.Var(type=B,name='X_2_9_0'),\n",
       "  (2, 9, 1): docplex.mp.Var(type=B,name='X_2_9_1'),\n",
       "  (2, 9, 2): docplex.mp.Var(type=B,name='X_2_9_2'),\n",
       "  (2, 9, 3): docplex.mp.Var(type=B,name='X_2_9_3'),\n",
       "  (2, 9, 4): docplex.mp.Var(type=B,name='X_2_9_4'),\n",
       "  (2, 9, 5): docplex.mp.Var(type=B,name='X_2_9_5'),\n",
       "  (2, 9, 6): docplex.mp.Var(type=B,name='X_2_9_6'),\n",
       "  (2, 9, 7): docplex.mp.Var(type=B,name='X_2_9_7'),\n",
       "  (2, 9, 8): docplex.mp.Var(type=B,name='X_2_9_8'),\n",
       "  (2, 9, 9): docplex.mp.Var(type=B,name='X_2_9_9'),\n",
       "  (3, 3, 0): docplex.mp.Var(type=B,name='X_3_3_0'),\n",
       "  (3, 3, 1): docplex.mp.Var(type=B,name='X_3_3_1'),\n",
       "  (3, 3, 2): docplex.mp.Var(type=B,name='X_3_3_2'),\n",
       "  (3, 3, 3): docplex.mp.Var(type=B,name='X_3_3_3'),\n",
       "  (3, 3, 4): docplex.mp.Var(type=B,name='X_3_3_4'),\n",
       "  (3, 3, 5): docplex.mp.Var(type=B,name='X_3_3_5'),\n",
       "  (3, 3, 6): docplex.mp.Var(type=B,name='X_3_3_6'),\n",
       "  (3, 3, 7): docplex.mp.Var(type=B,name='X_3_3_7'),\n",
       "  (3, 3, 8): docplex.mp.Var(type=B,name='X_3_3_8'),\n",
       "  (3, 3, 9): docplex.mp.Var(type=B,name='X_3_3_9'),\n",
       "  (3, 4, 0): docplex.mp.Var(type=B,name='X_3_4_0'),\n",
       "  (3, 4, 1): docplex.mp.Var(type=B,name='X_3_4_1'),\n",
       "  (3, 4, 2): docplex.mp.Var(type=B,name='X_3_4_2'),\n",
       "  (3, 4, 3): docplex.mp.Var(type=B,name='X_3_4_3'),\n",
       "  (3, 4, 4): docplex.mp.Var(type=B,name='X_3_4_4'),\n",
       "  (3, 4, 5): docplex.mp.Var(type=B,name='X_3_4_5'),\n",
       "  (3, 4, 6): docplex.mp.Var(type=B,name='X_3_4_6'),\n",
       "  (3, 4, 7): docplex.mp.Var(type=B,name='X_3_4_7'),\n",
       "  (3, 4, 8): docplex.mp.Var(type=B,name='X_3_4_8'),\n",
       "  (3, 4, 9): docplex.mp.Var(type=B,name='X_3_4_9'),\n",
       "  (3, 5, 0): docplex.mp.Var(type=B,name='X_3_5_0'),\n",
       "  (3, 5, 1): docplex.mp.Var(type=B,name='X_3_5_1'),\n",
       "  (3, 5, 2): docplex.mp.Var(type=B,name='X_3_5_2'),\n",
       "  (3, 5, 3): docplex.mp.Var(type=B,name='X_3_5_3'),\n",
       "  (3, 5, 4): docplex.mp.Var(type=B,name='X_3_5_4'),\n",
       "  (3, 5, 5): docplex.mp.Var(type=B,name='X_3_5_5'),\n",
       "  (3, 5, 6): docplex.mp.Var(type=B,name='X_3_5_6'),\n",
       "  (3, 5, 7): docplex.mp.Var(type=B,name='X_3_5_7'),\n",
       "  (3, 5, 8): docplex.mp.Var(type=B,name='X_3_5_8'),\n",
       "  (3, 5, 9): docplex.mp.Var(type=B,name='X_3_5_9'),\n",
       "  (3, 6, 0): docplex.mp.Var(type=B,name='X_3_6_0'),\n",
       "  (3, 6, 1): docplex.mp.Var(type=B,name='X_3_6_1'),\n",
       "  (3, 6, 2): docplex.mp.Var(type=B,name='X_3_6_2'),\n",
       "  (3, 6, 3): docplex.mp.Var(type=B,name='X_3_6_3'),\n",
       "  (3, 6, 4): docplex.mp.Var(type=B,name='X_3_6_4'),\n",
       "  (3, 6, 5): docplex.mp.Var(type=B,name='X_3_6_5'),\n",
       "  (3, 6, 6): docplex.mp.Var(type=B,name='X_3_6_6'),\n",
       "  (3, 6, 7): docplex.mp.Var(type=B,name='X_3_6_7'),\n",
       "  (3, 6, 8): docplex.mp.Var(type=B,name='X_3_6_8'),\n",
       "  (3, 6, 9): docplex.mp.Var(type=B,name='X_3_6_9'),\n",
       "  (3, 7, 0): docplex.mp.Var(type=B,name='X_3_7_0'),\n",
       "  (3, 7, 1): docplex.mp.Var(type=B,name='X_3_7_1'),\n",
       "  (3, 7, 2): docplex.mp.Var(type=B,name='X_3_7_2'),\n",
       "  (3, 7, 3): docplex.mp.Var(type=B,name='X_3_7_3'),\n",
       "  (3, 7, 4): docplex.mp.Var(type=B,name='X_3_7_4'),\n",
       "  (3, 7, 5): docplex.mp.Var(type=B,name='X_3_7_5'),\n",
       "  (3, 7, 6): docplex.mp.Var(type=B,name='X_3_7_6'),\n",
       "  (3, 7, 7): docplex.mp.Var(type=B,name='X_3_7_7'),\n",
       "  (3, 7, 8): docplex.mp.Var(type=B,name='X_3_7_8'),\n",
       "  (3, 7, 9): docplex.mp.Var(type=B,name='X_3_7_9'),\n",
       "  (3, 8, 0): docplex.mp.Var(type=B,name='X_3_8_0'),\n",
       "  (3, 8, 1): docplex.mp.Var(type=B,name='X_3_8_1'),\n",
       "  (3, 8, 2): docplex.mp.Var(type=B,name='X_3_8_2'),\n",
       "  (3, 8, 3): docplex.mp.Var(type=B,name='X_3_8_3'),\n",
       "  (3, 8, 4): docplex.mp.Var(type=B,name='X_3_8_4'),\n",
       "  (3, 8, 5): docplex.mp.Var(type=B,name='X_3_8_5'),\n",
       "  (3, 8, 6): docplex.mp.Var(type=B,name='X_3_8_6'),\n",
       "  (3, 8, 7): docplex.mp.Var(type=B,name='X_3_8_7'),\n",
       "  (3, 8, 8): docplex.mp.Var(type=B,name='X_3_8_8'),\n",
       "  (3, 8, 9): docplex.mp.Var(type=B,name='X_3_8_9'),\n",
       "  (3, 9, 0): docplex.mp.Var(type=B,name='X_3_9_0'),\n",
       "  (3, 9, 1): docplex.mp.Var(type=B,name='X_3_9_1'),\n",
       "  (3, 9, 2): docplex.mp.Var(type=B,name='X_3_9_2'),\n",
       "  (3, 9, 3): docplex.mp.Var(type=B,name='X_3_9_3'),\n",
       "  (3, 9, 4): docplex.mp.Var(type=B,name='X_3_9_4'),\n",
       "  (3, 9, 5): docplex.mp.Var(type=B,name='X_3_9_5'),\n",
       "  (3, 9, 6): docplex.mp.Var(type=B,name='X_3_9_6'),\n",
       "  (3, 9, 7): docplex.mp.Var(type=B,name='X_3_9_7'),\n",
       "  (3, 9, 8): docplex.mp.Var(type=B,name='X_3_9_8'),\n",
       "  (3, 9, 9): docplex.mp.Var(type=B,name='X_3_9_9'),\n",
       "  (4, 4, 0): docplex.mp.Var(type=B,name='X_4_4_0'),\n",
       "  (4, 4, 1): docplex.mp.Var(type=B,name='X_4_4_1'),\n",
       "  (4, 4, 2): docplex.mp.Var(type=B,name='X_4_4_2'),\n",
       "  (4, 4, 3): docplex.mp.Var(type=B,name='X_4_4_3'),\n",
       "  (4, 4, 4): docplex.mp.Var(type=B,name='X_4_4_4'),\n",
       "  (4, 4, 5): docplex.mp.Var(type=B,name='X_4_4_5'),\n",
       "  (4, 4, 6): docplex.mp.Var(type=B,name='X_4_4_6'),\n",
       "  (4, 4, 7): docplex.mp.Var(type=B,name='X_4_4_7'),\n",
       "  (4, 4, 8): docplex.mp.Var(type=B,name='X_4_4_8'),\n",
       "  (4, 4, 9): docplex.mp.Var(type=B,name='X_4_4_9'),\n",
       "  (4, 5, 0): docplex.mp.Var(type=B,name='X_4_5_0'),\n",
       "  (4, 5, 1): docplex.mp.Var(type=B,name='X_4_5_1'),\n",
       "  (4, 5, 2): docplex.mp.Var(type=B,name='X_4_5_2'),\n",
       "  (4, 5, 3): docplex.mp.Var(type=B,name='X_4_5_3'),\n",
       "  (4, 5, 4): docplex.mp.Var(type=B,name='X_4_5_4'),\n",
       "  (4, 5, 5): docplex.mp.Var(type=B,name='X_4_5_5'),\n",
       "  (4, 5, 6): docplex.mp.Var(type=B,name='X_4_5_6'),\n",
       "  (4, 5, 7): docplex.mp.Var(type=B,name='X_4_5_7'),\n",
       "  (4, 5, 8): docplex.mp.Var(type=B,name='X_4_5_8'),\n",
       "  (4, 5, 9): docplex.mp.Var(type=B,name='X_4_5_9'),\n",
       "  (4, 6, 0): docplex.mp.Var(type=B,name='X_4_6_0'),\n",
       "  (4, 6, 1): docplex.mp.Var(type=B,name='X_4_6_1'),\n",
       "  (4, 6, 2): docplex.mp.Var(type=B,name='X_4_6_2'),\n",
       "  (4, 6, 3): docplex.mp.Var(type=B,name='X_4_6_3'),\n",
       "  (4, 6, 4): docplex.mp.Var(type=B,name='X_4_6_4'),\n",
       "  (4, 6, 5): docplex.mp.Var(type=B,name='X_4_6_5'),\n",
       "  (4, 6, 6): docplex.mp.Var(type=B,name='X_4_6_6'),\n",
       "  (4, 6, 7): docplex.mp.Var(type=B,name='X_4_6_7'),\n",
       "  (4, 6, 8): docplex.mp.Var(type=B,name='X_4_6_8'),\n",
       "  (4, 6, 9): docplex.mp.Var(type=B,name='X_4_6_9'),\n",
       "  (4, 7, 0): docplex.mp.Var(type=B,name='X_4_7_0'),\n",
       "  (4, 7, 1): docplex.mp.Var(type=B,name='X_4_7_1'),\n",
       "  (4, 7, 2): docplex.mp.Var(type=B,name='X_4_7_2'),\n",
       "  (4, 7, 3): docplex.mp.Var(type=B,name='X_4_7_3'),\n",
       "  (4, 7, 4): docplex.mp.Var(type=B,name='X_4_7_4'),\n",
       "  (4, 7, 5): docplex.mp.Var(type=B,name='X_4_7_5'),\n",
       "  (4, 7, 6): docplex.mp.Var(type=B,name='X_4_7_6'),\n",
       "  (4, 7, 7): docplex.mp.Var(type=B,name='X_4_7_7'),\n",
       "  (4, 7, 8): docplex.mp.Var(type=B,name='X_4_7_8'),\n",
       "  (4, 7, 9): docplex.mp.Var(type=B,name='X_4_7_9'),\n",
       "  (4, 8, 0): docplex.mp.Var(type=B,name='X_4_8_0'),\n",
       "  (4, 8, 1): docplex.mp.Var(type=B,name='X_4_8_1'),\n",
       "  (4, 8, 2): docplex.mp.Var(type=B,name='X_4_8_2'),\n",
       "  (4, 8, 3): docplex.mp.Var(type=B,name='X_4_8_3'),\n",
       "  (4, 8, 4): docplex.mp.Var(type=B,name='X_4_8_4'),\n",
       "  (4, 8, 5): docplex.mp.Var(type=B,name='X_4_8_5'),\n",
       "  (4, 8, 6): docplex.mp.Var(type=B,name='X_4_8_6'),\n",
       "  (4, 8, 7): docplex.mp.Var(type=B,name='X_4_8_7'),\n",
       "  (4, 8, 8): docplex.mp.Var(type=B,name='X_4_8_8'),\n",
       "  (4, 8, 9): docplex.mp.Var(type=B,name='X_4_8_9'),\n",
       "  (4, 9, 0): docplex.mp.Var(type=B,name='X_4_9_0'),\n",
       "  (4, 9, 1): docplex.mp.Var(type=B,name='X_4_9_1'),\n",
       "  (4, 9, 2): docplex.mp.Var(type=B,name='X_4_9_2'),\n",
       "  (4, 9, 3): docplex.mp.Var(type=B,name='X_4_9_3'),\n",
       "  (4, 9, 4): docplex.mp.Var(type=B,name='X_4_9_4'),\n",
       "  (4, 9, 5): docplex.mp.Var(type=B,name='X_4_9_5'),\n",
       "  (4, 9, 6): docplex.mp.Var(type=B,name='X_4_9_6'),\n",
       "  (4, 9, 7): docplex.mp.Var(type=B,name='X_4_9_7'),\n",
       "  (4, 9, 8): docplex.mp.Var(type=B,name='X_4_9_8'),\n",
       "  (4, 9, 9): docplex.mp.Var(type=B,name='X_4_9_9'),\n",
       "  (5, 5, 0): docplex.mp.Var(type=B,name='X_5_5_0'),\n",
       "  (5, 5, 1): docplex.mp.Var(type=B,name='X_5_5_1'),\n",
       "  (5, 5, 2): docplex.mp.Var(type=B,name='X_5_5_2'),\n",
       "  (5, 5, 3): docplex.mp.Var(type=B,name='X_5_5_3'),\n",
       "  (5, 5, 4): docplex.mp.Var(type=B,name='X_5_5_4'),\n",
       "  (5, 5, 5): docplex.mp.Var(type=B,name='X_5_5_5'),\n",
       "  (5, 5, 6): docplex.mp.Var(type=B,name='X_5_5_6'),\n",
       "  (5, 5, 7): docplex.mp.Var(type=B,name='X_5_5_7'),\n",
       "  (5, 5, 8): docplex.mp.Var(type=B,name='X_5_5_8'),\n",
       "  (5, 5, 9): docplex.mp.Var(type=B,name='X_5_5_9'),\n",
       "  (5, 6, 0): docplex.mp.Var(type=B,name='X_5_6_0'),\n",
       "  (5, 6, 1): docplex.mp.Var(type=B,name='X_5_6_1'),\n",
       "  (5, 6, 2): docplex.mp.Var(type=B,name='X_5_6_2'),\n",
       "  (5, 6, 3): docplex.mp.Var(type=B,name='X_5_6_3'),\n",
       "  (5, 6, 4): docplex.mp.Var(type=B,name='X_5_6_4'),\n",
       "  (5, 6, 5): docplex.mp.Var(type=B,name='X_5_6_5'),\n",
       "  (5, 6, 6): docplex.mp.Var(type=B,name='X_5_6_6'),\n",
       "  (5, 6, 7): docplex.mp.Var(type=B,name='X_5_6_7'),\n",
       "  (5, 6, 8): docplex.mp.Var(type=B,name='X_5_6_8'),\n",
       "  (5, 6, 9): docplex.mp.Var(type=B,name='X_5_6_9'),\n",
       "  (5, 7, 0): docplex.mp.Var(type=B,name='X_5_7_0'),\n",
       "  (5, 7, 1): docplex.mp.Var(type=B,name='X_5_7_1'),\n",
       "  (5, 7, 2): docplex.mp.Var(type=B,name='X_5_7_2'),\n",
       "  (5, 7, 3): docplex.mp.Var(type=B,name='X_5_7_3'),\n",
       "  (5, 7, 4): docplex.mp.Var(type=B,name='X_5_7_4'),\n",
       "  (5, 7, 5): docplex.mp.Var(type=B,name='X_5_7_5'),\n",
       "  (5, 7, 6): docplex.mp.Var(type=B,name='X_5_7_6'),\n",
       "  (5, 7, 7): docplex.mp.Var(type=B,name='X_5_7_7'),\n",
       "  (5, 7, 8): docplex.mp.Var(type=B,name='X_5_7_8'),\n",
       "  (5, 7, 9): docplex.mp.Var(type=B,name='X_5_7_9'),\n",
       "  (5, 8, 0): docplex.mp.Var(type=B,name='X_5_8_0'),\n",
       "  (5, 8, 1): docplex.mp.Var(type=B,name='X_5_8_1'),\n",
       "  (5, 8, 2): docplex.mp.Var(type=B,name='X_5_8_2'),\n",
       "  (5, 8, 3): docplex.mp.Var(type=B,name='X_5_8_3'),\n",
       "  (5, 8, 4): docplex.mp.Var(type=B,name='X_5_8_4'),\n",
       "  (5, 8, 5): docplex.mp.Var(type=B,name='X_5_8_5'),\n",
       "  (5, 8, 6): docplex.mp.Var(type=B,name='X_5_8_6'),\n",
       "  (5, 8, 7): docplex.mp.Var(type=B,name='X_5_8_7'),\n",
       "  (5, 8, 8): docplex.mp.Var(type=B,name='X_5_8_8'),\n",
       "  (5, 8, 9): docplex.mp.Var(type=B,name='X_5_8_9'),\n",
       "  (5, 9, 0): docplex.mp.Var(type=B,name='X_5_9_0'),\n",
       "  (5, 9, 1): docplex.mp.Var(type=B,name='X_5_9_1'),\n",
       "  (5, 9, 2): docplex.mp.Var(type=B,name='X_5_9_2'),\n",
       "  (5, 9, 3): docplex.mp.Var(type=B,name='X_5_9_3'),\n",
       "  (5, 9, 4): docplex.mp.Var(type=B,name='X_5_9_4'),\n",
       "  (5, 9, 5): docplex.mp.Var(type=B,name='X_5_9_5'),\n",
       "  (5, 9, 6): docplex.mp.Var(type=B,name='X_5_9_6'),\n",
       "  (5, 9, 7): docplex.mp.Var(type=B,name='X_5_9_7'),\n",
       "  (5, 9, 8): docplex.mp.Var(type=B,name='X_5_9_8'),\n",
       "  (5, 9, 9): docplex.mp.Var(type=B,name='X_5_9_9'),\n",
       "  (6, 6, 0): docplex.mp.Var(type=B,name='X_6_6_0'),\n",
       "  (6, 6, 1): docplex.mp.Var(type=B,name='X_6_6_1'),\n",
       "  (6, 6, 2): docplex.mp.Var(type=B,name='X_6_6_2'),\n",
       "  (6, 6, 3): docplex.mp.Var(type=B,name='X_6_6_3'),\n",
       "  (6, 6, 4): docplex.mp.Var(type=B,name='X_6_6_4'),\n",
       "  (6, 6, 5): docplex.mp.Var(type=B,name='X_6_6_5'),\n",
       "  (6, 6, 6): docplex.mp.Var(type=B,name='X_6_6_6'),\n",
       "  (6, 6, 7): docplex.mp.Var(type=B,name='X_6_6_7'),\n",
       "  (6, 6, 8): docplex.mp.Var(type=B,name='X_6_6_8'),\n",
       "  (6, 6, 9): docplex.mp.Var(type=B,name='X_6_6_9'),\n",
       "  (6, 7, 0): docplex.mp.Var(type=B,name='X_6_7_0'),\n",
       "  (6, 7, 1): docplex.mp.Var(type=B,name='X_6_7_1'),\n",
       "  (6, 7, 2): docplex.mp.Var(type=B,name='X_6_7_2'),\n",
       "  (6, 7, 3): docplex.mp.Var(type=B,name='X_6_7_3'),\n",
       "  (6, 7, 4): docplex.mp.Var(type=B,name='X_6_7_4'),\n",
       "  (6, 7, 5): docplex.mp.Var(type=B,name='X_6_7_5'),\n",
       "  (6, 7, 6): docplex.mp.Var(type=B,name='X_6_7_6'),\n",
       "  (6, 7, 7): docplex.mp.Var(type=B,name='X_6_7_7'),\n",
       "  (6, 7, 8): docplex.mp.Var(type=B,name='X_6_7_8'),\n",
       "  (6, 7, 9): docplex.mp.Var(type=B,name='X_6_7_9'),\n",
       "  (6, 8, 0): docplex.mp.Var(type=B,name='X_6_8_0'),\n",
       "  (6, 8, 1): docplex.mp.Var(type=B,name='X_6_8_1'),\n",
       "  (6, 8, 2): docplex.mp.Var(type=B,name='X_6_8_2'),\n",
       "  (6, 8, 3): docplex.mp.Var(type=B,name='X_6_8_3'),\n",
       "  (6, 8, 4): docplex.mp.Var(type=B,name='X_6_8_4'),\n",
       "  (6, 8, 5): docplex.mp.Var(type=B,name='X_6_8_5'),\n",
       "  (6, 8, 6): docplex.mp.Var(type=B,name='X_6_8_6'),\n",
       "  (6, 8, 7): docplex.mp.Var(type=B,name='X_6_8_7'),\n",
       "  (6, 8, 8): docplex.mp.Var(type=B,name='X_6_8_8'),\n",
       "  (6, 8, 9): docplex.mp.Var(type=B,name='X_6_8_9'),\n",
       "  (6, 9, 0): docplex.mp.Var(type=B,name='X_6_9_0'),\n",
       "  (6, 9, 1): docplex.mp.Var(type=B,name='X_6_9_1'),\n",
       "  (6, 9, 2): docplex.mp.Var(type=B,name='X_6_9_2'),\n",
       "  (6, 9, 3): docplex.mp.Var(type=B,name='X_6_9_3'),\n",
       "  (6, 9, 4): docplex.mp.Var(type=B,name='X_6_9_4'),\n",
       "  (6, 9, 5): docplex.mp.Var(type=B,name='X_6_9_5'),\n",
       "  (6, 9, 6): docplex.mp.Var(type=B,name='X_6_9_6'),\n",
       "  (6, 9, 7): docplex.mp.Var(type=B,name='X_6_9_7'),\n",
       "  (6, 9, 8): docplex.mp.Var(type=B,name='X_6_9_8'),\n",
       "  (6, 9, 9): docplex.mp.Var(type=B,name='X_6_9_9'),\n",
       "  (7, 7, 0): docplex.mp.Var(type=B,name='X_7_7_0'),\n",
       "  (7, 7, 1): docplex.mp.Var(type=B,name='X_7_7_1'),\n",
       "  (7, 7, 2): docplex.mp.Var(type=B,name='X_7_7_2'),\n",
       "  (7, 7, 3): docplex.mp.Var(type=B,name='X_7_7_3'),\n",
       "  (7, 7, 4): docplex.mp.Var(type=B,name='X_7_7_4'),\n",
       "  (7, 7, 5): docplex.mp.Var(type=B,name='X_7_7_5'),\n",
       "  (7, 7, 6): docplex.mp.Var(type=B,name='X_7_7_6'),\n",
       "  (7, 7, 7): docplex.mp.Var(type=B,name='X_7_7_7'),\n",
       "  (7, 7, 8): docplex.mp.Var(type=B,name='X_7_7_8'),\n",
       "  (7, 7, 9): docplex.mp.Var(type=B,name='X_7_7_9'),\n",
       "  (7, 8, 0): docplex.mp.Var(type=B,name='X_7_8_0'),\n",
       "  (7, 8, 1): docplex.mp.Var(type=B,name='X_7_8_1'),\n",
       "  (7, 8, 2): docplex.mp.Var(type=B,name='X_7_8_2'),\n",
       "  (7, 8, 3): docplex.mp.Var(type=B,name='X_7_8_3'),\n",
       "  (7, 8, 4): docplex.mp.Var(type=B,name='X_7_8_4'),\n",
       "  (7, 8, 5): docplex.mp.Var(type=B,name='X_7_8_5'),\n",
       "  (7, 8, 6): docplex.mp.Var(type=B,name='X_7_8_6'),\n",
       "  (7, 8, 7): docplex.mp.Var(type=B,name='X_7_8_7'),\n",
       "  (7, 8, 8): docplex.mp.Var(type=B,name='X_7_8_8'),\n",
       "  (7, 8, 9): docplex.mp.Var(type=B,name='X_7_8_9'),\n",
       "  (7, 9, 0): docplex.mp.Var(type=B,name='X_7_9_0'),\n",
       "  (7, 9, 1): docplex.mp.Var(type=B,name='X_7_9_1'),\n",
       "  (7, 9, 2): docplex.mp.Var(type=B,name='X_7_9_2'),\n",
       "  (7, 9, 3): docplex.mp.Var(type=B,name='X_7_9_3'),\n",
       "  (7, 9, 4): docplex.mp.Var(type=B,name='X_7_9_4'),\n",
       "  (7, 9, 5): docplex.mp.Var(type=B,name='X_7_9_5'),\n",
       "  (7, 9, 6): docplex.mp.Var(type=B,name='X_7_9_6'),\n",
       "  (7, 9, 7): docplex.mp.Var(type=B,name='X_7_9_7'),\n",
       "  (7, 9, 8): docplex.mp.Var(type=B,name='X_7_9_8'),\n",
       "  (7, 9, 9): docplex.mp.Var(type=B,name='X_7_9_9'),\n",
       "  (8, 8, 0): docplex.mp.Var(type=B,name='X_8_8_0'),\n",
       "  (8, 8, 1): docplex.mp.Var(type=B,name='X_8_8_1'),\n",
       "  (8, 8, 2): docplex.mp.Var(type=B,name='X_8_8_2'),\n",
       "  (8, 8, 3): docplex.mp.Var(type=B,name='X_8_8_3'),\n",
       "  (8, 8, 4): docplex.mp.Var(type=B,name='X_8_8_4'),\n",
       "  (8, 8, 5): docplex.mp.Var(type=B,name='X_8_8_5'),\n",
       "  (8, 8, 6): docplex.mp.Var(type=B,name='X_8_8_6'),\n",
       "  (8, 8, 7): docplex.mp.Var(type=B,name='X_8_8_7'),\n",
       "  (8, 8, 8): docplex.mp.Var(type=B,name='X_8_8_8'),\n",
       "  (8, 8, 9): docplex.mp.Var(type=B,name='X_8_8_9'),\n",
       "  (8, 9, 0): docplex.mp.Var(type=B,name='X_8_9_0'),\n",
       "  (8, 9, 1): docplex.mp.Var(type=B,name='X_8_9_1'),\n",
       "  (8, 9, 2): docplex.mp.Var(type=B,name='X_8_9_2'),\n",
       "  (8, 9, 3): docplex.mp.Var(type=B,name='X_8_9_3'),\n",
       "  (8, 9, 4): docplex.mp.Var(type=B,name='X_8_9_4'),\n",
       "  (8, 9, 5): docplex.mp.Var(type=B,name='X_8_9_5'),\n",
       "  (8, 9, 6): docplex.mp.Var(type=B,name='X_8_9_6'),\n",
       "  (8, 9, 7): docplex.mp.Var(type=B,name='X_8_9_7'),\n",
       "  (8, 9, 8): docplex.mp.Var(type=B,name='X_8_9_8'),\n",
       "  (8, 9, 9): docplex.mp.Var(type=B,name='X_8_9_9'),\n",
       "  (9, 9, 0): docplex.mp.Var(type=B,name='X_9_9_0'),\n",
       "  (9, 9, 1): docplex.mp.Var(type=B,name='X_9_9_1'),\n",
       "  (9, 9, 2): docplex.mp.Var(type=B,name='X_9_9_2'),\n",
       "  (9, 9, 3): docplex.mp.Var(type=B,name='X_9_9_3'),\n",
       "  (9, 9, 4): docplex.mp.Var(type=B,name='X_9_9_4'),\n",
       "  (9, 9, 5): docplex.mp.Var(type=B,name='X_9_9_5'),\n",
       "  (9, 9, 6): docplex.mp.Var(type=B,name='X_9_9_6'),\n",
       "  (9, 9, 7): docplex.mp.Var(type=B,name='X_9_9_7'),\n",
       "  (9, 9, 8): docplex.mp.Var(type=B,name='X_9_9_8'),\n",
       "  (9, 9, 9): docplex.mp.Var(type=B,name='X_9_9_9')})"
      ]
     },
     "execution_count": 9,
     "metadata": {},
     "output_type": "execute_result"
    }
   ],
   "source": [
    "init_model(10)"
   ]
  },
  {
   "cell_type": "code",
   "execution_count": 18,
   "metadata": {},
   "outputs": [],
   "source": [
    "with open('log.txt', 'a') as f:\n",
    "    original_stdout = sys.stdout\n",
    "    sys.stdout = f # Change the standard output to the file we created.\n",
    "    print('LOG STARTS')\n",
    "    for i in range(10,200):\n",
    "        print(f\"\\n--------------\\nCURRENT i = {i}\\n\")\n",
    "        try:\n",
    "            sol_dict = solve_process(f\"inputs/small-{i}.in\")\n",
    "            ps.write_output_file(sol_dict, f\"outputs/small-{i}.out\")\n",
    "        except: # catch *all* exceptions\n",
    "            e = sys.exc_info()[0]\n",
    "            print(f\"ERROR OCCURED: i = {i}, {repr(e)}\")\n",
    "            continue\n",
    "    sys.stdout = original_stdout # Reset the standard output to its original value"
   ]
  },
  {
   "cell_type": "markdown",
   "metadata": {},
   "source": [
    "## Debug"
   ]
  },
  {
   "cell_type": "markdown",
   "metadata": {},
   "source": [
    "TODO: \n",
    "1. Don't rebuild constraints every time. Instead, just remove the S_mat constraint, remove objective, and add new ones back.\n",
    "2. See why the rectangle constraint does not work. "
   ]
  },
  {
   "cell_type": "code",
   "execution_count": 10,
   "metadata": {
    "collapsed": true,
    "jupyter": {
     "outputs_hidden": true
    }
   },
   "outputs": [
    {
     "name": "stdout",
     "output_type": "stream",
     "text": [
      "550\n"
     ]
    },
    {
     "ename": "DOcplexLimitsExceeded",
     "evalue": "**** Promotional version. Problem size limits exceeded, CPLEX code=1016",
     "output_type": "error",
     "traceback": [
      "\u001b[0;31m---------------------------------------------------------------------------\u001b[0m",
      "\u001b[0;31mCplexSolverError\u001b[0m                          Traceback (most recent call last)",
      "\u001b[0;32m/Users/evelynlu/anaconda3/envs/venv/lib/python3.7/site-packages/docplex/mp/cplex_engine.py\u001b[0m in \u001b[0;36msolve\u001b[0;34m(self, mdl, parameters, **kwargs)\u001b[0m\n\u001b[1;32m   1910\u001b[0m             \u001b[0;32melse\u001b[0m\u001b[0;34m:\u001b[0m\u001b[0;34m\u001b[0m\u001b[0;34m\u001b[0m\u001b[0m\n\u001b[0;32m-> 1911\u001b[0;31m                 \u001b[0mcpx\u001b[0m\u001b[0;34m.\u001b[0m\u001b[0msolve\u001b[0m\u001b[0;34m(\u001b[0m\u001b[0;34m)\u001b[0m\u001b[0;34m\u001b[0m\u001b[0;34m\u001b[0m\u001b[0m\n\u001b[0m\u001b[1;32m   1912\u001b[0m \u001b[0;34m\u001b[0m\u001b[0m\n",
      "\u001b[0;32m/Users/evelynlu/anaconda3/envs/venv/lib/python3.7/site-packages/cplex/__init__.py\u001b[0m in \u001b[0;36msolve\u001b[0;34m(self, paramsets)\u001b[0m\n\u001b[1;32m   1328\u001b[0m             \u001b[0;32melse\u001b[0m\u001b[0;34m:\u001b[0m\u001b[0;34m\u001b[0m\u001b[0;34m\u001b[0m\u001b[0m\n\u001b[0;32m-> 1329\u001b[0;31m                 \u001b[0m_proc\u001b[0m\u001b[0;34m.\u001b[0m\u001b[0mmipopt\u001b[0m\u001b[0;34m(\u001b[0m\u001b[0mself\u001b[0m\u001b[0;34m.\u001b[0m\u001b[0m_env\u001b[0m\u001b[0;34m.\u001b[0m\u001b[0m_e\u001b[0m\u001b[0;34m,\u001b[0m \u001b[0mself\u001b[0m\u001b[0;34m.\u001b[0m\u001b[0m_lp\u001b[0m\u001b[0;34m)\u001b[0m\u001b[0;34m\u001b[0m\u001b[0;34m\u001b[0m\u001b[0m\n\u001b[0m\u001b[1;32m   1330\u001b[0m         \u001b[0;32melif\u001b[0m \u001b[0mself\u001b[0m\u001b[0;34m.\u001b[0m\u001b[0mquadratic_constraints\u001b[0m\u001b[0;34m.\u001b[0m\u001b[0mget_num\u001b[0m\u001b[0;34m(\u001b[0m\u001b[0;34m)\u001b[0m \u001b[0;34m>\u001b[0m \u001b[0;36m0\u001b[0m\u001b[0;34m:\u001b[0m\u001b[0;34m\u001b[0m\u001b[0;34m\u001b[0m\u001b[0m\n",
      "\u001b[0;32m/Users/evelynlu/anaconda3/envs/venv/lib/python3.7/site-packages/cplex/_internal/_procedural.py\u001b[0m in \u001b[0;36mmipopt\u001b[0;34m(env, lp)\u001b[0m\n\u001b[1;32m    691\u001b[0m         \u001b[0mstatus\u001b[0m \u001b[0;34m=\u001b[0m \u001b[0mCR\u001b[0m\u001b[0;34m.\u001b[0m\u001b[0mCPXXmipopt\u001b[0m\u001b[0;34m(\u001b[0m\u001b[0menv\u001b[0m\u001b[0;34m,\u001b[0m \u001b[0mlp\u001b[0m\u001b[0;34m)\u001b[0m\u001b[0;34m\u001b[0m\u001b[0;34m\u001b[0m\u001b[0m\n\u001b[0;32m--> 692\u001b[0;31m     \u001b[0mcheck_status\u001b[0m\u001b[0;34m(\u001b[0m\u001b[0menv\u001b[0m\u001b[0;34m,\u001b[0m \u001b[0mstatus\u001b[0m\u001b[0;34m)\u001b[0m\u001b[0;34m\u001b[0m\u001b[0;34m\u001b[0m\u001b[0m\n\u001b[0m\u001b[1;32m    693\u001b[0m \u001b[0;34m\u001b[0m\u001b[0m\n",
      "\u001b[0;32m/Users/evelynlu/anaconda3/envs/venv/lib/python3.7/site-packages/cplex/_internal/_procedural.py\u001b[0m in \u001b[0;36m__call__\u001b[0;34m(self, env, status, from_cb)\u001b[0m\n\u001b[1;32m    235\u001b[0m                     \u001b[0merror_string\u001b[0m \u001b[0;34m=\u001b[0m \u001b[0mgeterrorstring\u001b[0m\u001b[0;34m(\u001b[0m\u001b[0menv\u001b[0m\u001b[0;34m,\u001b[0m \u001b[0mstatus\u001b[0m\u001b[0;34m)\u001b[0m\u001b[0;34m\u001b[0m\u001b[0;34m\u001b[0m\u001b[0m\n\u001b[0;32m--> 236\u001b[0;31m             \u001b[0;32mraise\u001b[0m \u001b[0mCplexSolverError\u001b[0m\u001b[0;34m(\u001b[0m\u001b[0merror_string\u001b[0m\u001b[0;34m,\u001b[0m \u001b[0menv\u001b[0m\u001b[0;34m,\u001b[0m \u001b[0mstatus\u001b[0m\u001b[0;34m)\u001b[0m\u001b[0;34m\u001b[0m\u001b[0;34m\u001b[0m\u001b[0m\n\u001b[0m\u001b[1;32m    237\u001b[0m \u001b[0;34m\u001b[0m\u001b[0m\n",
      "\u001b[0;31mCplexSolverError\u001b[0m: CPLEX Error  1016: Community Edition. Problem size limits exceeded. Purchase at http://ibm.biz/error1016.",
      "\nDuring handling of the above exception, another exception occurred:\n",
      "\u001b[0;31mDOcplexLimitsExceeded\u001b[0m                     Traceback (most recent call last)",
      "\u001b[0;32m<ipython-input-10-a74c04b60ec4>\u001b[0m in \u001b[0;36m<module>\u001b[0;34m()\u001b[0m\n\u001b[0;32m----> 1\u001b[0;31m \u001b[0msolve_process\u001b[0m\u001b[0;34m(\u001b[0m\u001b[0;34m\"inputs/small-10.in\"\u001b[0m\u001b[0;34m)\u001b[0m\u001b[0;34m\u001b[0m\u001b[0;34m\u001b[0m\u001b[0m\n\u001b[0m",
      "\u001b[0;32m<ipython-input-8-1f0ca62d7b01>\u001b[0m in \u001b[0;36msolve_process\u001b[0;34m(input_path)\u001b[0m\n\u001b[1;32m      6\u001b[0m     \u001b[0mnbrooms\u001b[0m \u001b[0;34m=\u001b[0m \u001b[0;36m1\u001b[0m\u001b[0;34m\u001b[0m\u001b[0;34m\u001b[0m\u001b[0m\n\u001b[1;32m      7\u001b[0m     \u001b[0;32mwhile\u001b[0m\u001b[0;34m(\u001b[0m\u001b[0mnbrooms\u001b[0m \u001b[0;34m<\u001b[0m \u001b[0mN\u001b[0m\u001b[0;34m)\u001b[0m\u001b[0;34m:\u001b[0m\u001b[0;34m\u001b[0m\u001b[0;34m\u001b[0m\u001b[0m\n\u001b[0;32m----> 8\u001b[0;31m         \u001b[0mmsol\u001b[0m \u001b[0;34m=\u001b[0m \u001b[0mmodel_and_solve\u001b[0m\u001b[0;34m(\u001b[0m\u001b[0mnbrooms\u001b[0m\u001b[0;34m)\u001b[0m\u001b[0;34m\u001b[0m\u001b[0;34m\u001b[0m\u001b[0m\n\u001b[0m\u001b[1;32m      9\u001b[0m         \u001b[0msol_nz\u001b[0m\u001b[0;34m,\u001b[0m \u001b[0mmsol_rooms\u001b[0m\u001b[0;34m,\u001b[0m \u001b[0mnumber_of_rooms\u001b[0m \u001b[0;34m=\u001b[0m \u001b[0mclean_model_solution\u001b[0m\u001b[0;34m(\u001b[0m\u001b[0mmsol\u001b[0m\u001b[0;34m,\u001b[0m \u001b[0mx\u001b[0m\u001b[0;34m,\u001b[0m \u001b[0mN\u001b[0m\u001b[0;34m)\u001b[0m\u001b[0;34m\u001b[0m\u001b[0;34m\u001b[0m\u001b[0m\n\u001b[1;32m     10\u001b[0m         \u001b[0;32mif\u001b[0m \u001b[0;34m(\u001b[0m\u001b[0mnumber_of_rooms\u001b[0m \u001b[0;34m!=\u001b[0m \u001b[0mN\u001b[0m \u001b[0;32mand\u001b[0m \u001b[0mis_valid\u001b[0m\u001b[0;34m(\u001b[0m\u001b[0msol_nz\u001b[0m\u001b[0;34m,\u001b[0m \u001b[0mnumber_of_rooms\u001b[0m\u001b[0;34m)\u001b[0m\u001b[0;34m)\u001b[0m\u001b[0;34m:\u001b[0m\u001b[0;34m\u001b[0m\u001b[0;34m\u001b[0m\u001b[0m\n",
      "\u001b[0;32m<ipython-input-6-820162c05c25>\u001b[0m in \u001b[0;36mmodel_and_solve\u001b[0;34m(NBROOMS)\u001b[0m\n\u001b[1;32m     11\u001b[0m     \u001b[0mmodel\u001b[0m\u001b[0;34m.\u001b[0m\u001b[0mmaximize\u001b[0m\u001b[0;34m(\u001b[0m\u001b[0mmodel\u001b[0m\u001b[0;34m.\u001b[0m\u001b[0msum\u001b[0m\u001b[0;34m(\u001b[0m\u001b[0mH_mat\u001b[0m\u001b[0;34m[\u001b[0m\u001b[0mi\u001b[0m\u001b[0;34m,\u001b[0m\u001b[0mj\u001b[0m\u001b[0;34m]\u001b[0m \u001b[0;34m*\u001b[0m \u001b[0mx\u001b[0m\u001b[0;34m[\u001b[0m\u001b[0mi\u001b[0m\u001b[0;34m,\u001b[0m\u001b[0mj\u001b[0m\u001b[0;34m,\u001b[0m\u001b[0mk\u001b[0m\u001b[0;34m]\u001b[0m \u001b[0;32mfor\u001b[0m \u001b[0mi\u001b[0m \u001b[0;32min\u001b[0m \u001b[0mR\u001b[0m \u001b[0;32mfor\u001b[0m \u001b[0mj\u001b[0m \u001b[0;32min\u001b[0m \u001b[0mrange\u001b[0m\u001b[0;34m(\u001b[0m\u001b[0mi\u001b[0m\u001b[0;34m,\u001b[0m\u001b[0mN\u001b[0m\u001b[0;34m)\u001b[0m \u001b[0;32mfor\u001b[0m \u001b[0mk\u001b[0m \u001b[0;32min\u001b[0m \u001b[0mR\u001b[0m\u001b[0;34m)\u001b[0m\u001b[0;34m)\u001b[0m\u001b[0;34m\u001b[0m\u001b[0;34m\u001b[0m\u001b[0m\n\u001b[1;32m     12\u001b[0m     \u001b[0mmodel\u001b[0m\u001b[0;34m.\u001b[0m\u001b[0mset_time_limit\u001b[0m\u001b[0;34m(\u001b[0m\u001b[0;36m5\u001b[0m\u001b[0;34m)\u001b[0m\u001b[0;34m\u001b[0m\u001b[0;34m\u001b[0m\u001b[0m\n\u001b[0;32m---> 13\u001b[0;31m     \u001b[0mmsol\u001b[0m \u001b[0;34m=\u001b[0m \u001b[0mmodel\u001b[0m\u001b[0;34m.\u001b[0m\u001b[0msolve\u001b[0m\u001b[0;34m(\u001b[0m\u001b[0;34m)\u001b[0m\u001b[0;34m\u001b[0m\u001b[0;34m\u001b[0m\u001b[0m\n\u001b[0m\u001b[1;32m     14\u001b[0m     \u001b[0mmodel\u001b[0m\u001b[0;34m.\u001b[0m\u001b[0mremove_constraints\u001b[0m\u001b[0;34m(\u001b[0m\u001b[0mconstraints\u001b[0m\u001b[0;34m)\u001b[0m\u001b[0;34m\u001b[0m\u001b[0;34m\u001b[0m\u001b[0m\n\u001b[1;32m     15\u001b[0m     \u001b[0mmodel\u001b[0m\u001b[0;34m.\u001b[0m\u001b[0mremove_objective\u001b[0m\u001b[0;34m(\u001b[0m\u001b[0;34m)\u001b[0m\u001b[0;34m\u001b[0m\u001b[0;34m\u001b[0m\u001b[0m\n",
      "\u001b[0;32m/Users/evelynlu/anaconda3/envs/venv/lib/python3.7/site-packages/docplex/mp/model.py\u001b[0m in \u001b[0;36msolve\u001b[0;34m(self, **kwargs)\u001b[0m\n\u001b[1;32m   4341\u001b[0m                 \u001b[0;31m# take arg clean flag or this model's\u001b[0m\u001b[0;34m\u001b[0m\u001b[0;34m\u001b[0m\u001b[0;34m\u001b[0m\u001b[0m\n\u001b[1;32m   4342\u001b[0m                 \u001b[0mused_clean_before_solve\u001b[0m \u001b[0;34m=\u001b[0m \u001b[0mkwargs\u001b[0m\u001b[0;34m.\u001b[0m\u001b[0mget\u001b[0m\u001b[0;34m(\u001b[0m\u001b[0;34m'clean_before_solve'\u001b[0m\u001b[0;34m,\u001b[0m \u001b[0mself\u001b[0m\u001b[0;34m.\u001b[0m\u001b[0mclean_before_solve\u001b[0m\u001b[0;34m)\u001b[0m\u001b[0;34m\u001b[0m\u001b[0;34m\u001b[0m\u001b[0m\n\u001b[0;32m-> 4343\u001b[0;31m                 \u001b[0;32mreturn\u001b[0m \u001b[0mself\u001b[0m\u001b[0;34m.\u001b[0m\u001b[0m_solve_local\u001b[0m\u001b[0;34m(\u001b[0m\u001b[0mcontext\u001b[0m\u001b[0;34m,\u001b[0m \u001b[0mused_clean_before_solve\u001b[0m\u001b[0;34m,\u001b[0m \u001b[0mlex_timelimits\u001b[0m\u001b[0;34m,\u001b[0m \u001b[0mlex_mipgaps\u001b[0m\u001b[0;34m)\u001b[0m\u001b[0;34m\u001b[0m\u001b[0;34m\u001b[0m\u001b[0m\n\u001b[0m\u001b[1;32m   4344\u001b[0m             \u001b[0;32melif\u001b[0m \u001b[0mhave_credentials\u001b[0m\u001b[0;34m:\u001b[0m\u001b[0;34m\u001b[0m\u001b[0;34m\u001b[0m\u001b[0m\n\u001b[1;32m   4345\u001b[0m                 \u001b[0;31m# no context passed as argument, no Cplex installed, try model's own context\u001b[0m\u001b[0;34m\u001b[0m\u001b[0;34m\u001b[0m\u001b[0;34m\u001b[0m\u001b[0m\n",
      "\u001b[0;32m/Users/evelynlu/anaconda3/envs/venv/lib/python3.7/site-packages/docplex/mp/model.py\u001b[0m in \u001b[0;36m_solve_local\u001b[0;34m(self, context, clean_before_solve, lex_timelimits, lex_mipgaps)\u001b[0m\n\u001b[1;32m   4463\u001b[0m         \u001b[0;32mexcept\u001b[0m \u001b[0mDOcplexException\u001b[0m \u001b[0;32mas\u001b[0m \u001b[0mdocpx_e\u001b[0m\u001b[0;34m:\u001b[0m  \u001b[0;31m# pragma: no cover\u001b[0m\u001b[0;34m\u001b[0m\u001b[0;34m\u001b[0m\u001b[0m\n\u001b[1;32m   4464\u001b[0m             \u001b[0mself\u001b[0m\u001b[0;34m.\u001b[0m\u001b[0m_set_solution\u001b[0m\u001b[0;34m(\u001b[0m\u001b[0;32mNone\u001b[0m\u001b[0;34m)\u001b[0m\u001b[0;34m\u001b[0m\u001b[0;34m\u001b[0m\u001b[0m\n\u001b[0;32m-> 4465\u001b[0;31m             \u001b[0;32mraise\u001b[0m \u001b[0mdocpx_e\u001b[0m\u001b[0;34m\u001b[0m\u001b[0;34m\u001b[0m\u001b[0m\n\u001b[0m\u001b[1;32m   4466\u001b[0m \u001b[0;34m\u001b[0m\u001b[0m\n\u001b[1;32m   4467\u001b[0m         \u001b[0;32mexcept\u001b[0m \u001b[0mException\u001b[0m \u001b[0;32mas\u001b[0m \u001b[0me\u001b[0m\u001b[0;34m:\u001b[0m\u001b[0;34m\u001b[0m\u001b[0;34m\u001b[0m\u001b[0m\n",
      "\u001b[0;32m/Users/evelynlu/anaconda3/envs/venv/lib/python3.7/site-packages/docplex/mp/model.py\u001b[0m in \u001b[0;36m_solve_local\u001b[0;34m(self, context, clean_before_solve, lex_timelimits, lex_mipgaps)\u001b[0m\n\u001b[1;32m   4454\u001b[0m                                              \u001b[0mclean_before_solve\u001b[0m\u001b[0;34m=\u001b[0m\u001b[0mclean_before_solve\u001b[0m\u001b[0;34m,\u001b[0m\u001b[0;34m\u001b[0m\u001b[0;34m\u001b[0m\u001b[0m\n\u001b[1;32m   4455\u001b[0m                                              \u001b[0mlex_timelimits\u001b[0m\u001b[0;34m=\u001b[0m\u001b[0mlex_timelimits\u001b[0m\u001b[0;34m,\u001b[0m\u001b[0;34m\u001b[0m\u001b[0;34m\u001b[0m\u001b[0m\n\u001b[0;32m-> 4456\u001b[0;31m                                              lex_mipgaps=lex_mipgaps)\n\u001b[0m\u001b[1;32m   4457\u001b[0m             \u001b[0mself\u001b[0m\u001b[0;34m.\u001b[0m\u001b[0m_set_solution\u001b[0m\u001b[0;34m(\u001b[0m\u001b[0mnew_solution\u001b[0m\u001b[0;34m)\u001b[0m\u001b[0;34m\u001b[0m\u001b[0;34m\u001b[0m\u001b[0m\n\u001b[1;32m   4458\u001b[0m \u001b[0;34m\u001b[0m\u001b[0m\n",
      "\u001b[0;32m/Users/evelynlu/anaconda3/envs/venv/lib/python3.7/site-packages/docplex/mp/cplex_engine.py\u001b[0m in \u001b[0;36msolve\u001b[0;34m(self, mdl, parameters, **kwargs)\u001b[0m\n\u001b[1;32m   1941\u001b[0m                 \u001b[0mcpx_status\u001b[0m \u001b[0;34m=\u001b[0m \u001b[0;36m1016\u001b[0m\u001b[0;34m\u001b[0m\u001b[0;34m\u001b[0m\u001b[0m\n\u001b[1;32m   1942\u001b[0m                 \u001b[0mcpx_status_string\u001b[0m \u001b[0;34m=\u001b[0m \u001b[0;34m\"Promotional version. Problem size limits exceeded., CPLEX code=1016.\"\u001b[0m\u001b[0;34m\u001b[0m\u001b[0;34m\u001b[0m\u001b[0m\n\u001b[0;32m-> 1943\u001b[0;31m                 \u001b[0mself\u001b[0m\u001b[0;34m.\u001b[0m\u001b[0m_model\u001b[0m\u001b[0;34m.\u001b[0m\u001b[0mfatal_ce_limits\u001b[0m\u001b[0;34m(\u001b[0m\u001b[0;34m)\u001b[0m\u001b[0;34m\u001b[0m\u001b[0;34m\u001b[0m\u001b[0m\n\u001b[0m\u001b[1;32m   1944\u001b[0m \u001b[0;34m\u001b[0m\u001b[0m\n\u001b[1;32m   1945\u001b[0m             \u001b[0;32melif\u001b[0m \u001b[0mself\u001b[0m\u001b[0;34m.\u001b[0m\u001b[0mfix_multiobj_error_1300\u001b[0m \u001b[0;32mand\u001b[0m \u001b[0;36m1300\u001b[0m \u001b[0;34m==\u001b[0m \u001b[0mcpx_code\u001b[0m\u001b[0;34m:\u001b[0m\u001b[0;34m\u001b[0m\u001b[0;34m\u001b[0m\u001b[0m\n",
      "\u001b[0;32m/Users/evelynlu/anaconda3/envs/venv/lib/python3.7/site-packages/docplex/mp/model.py\u001b[0m in \u001b[0;36mfatal_ce_limits\u001b[0;34m(self, *args)\u001b[0m\n\u001b[1;32m    944\u001b[0m \u001b[0;34m\u001b[0m\u001b[0m\n\u001b[1;32m    945\u001b[0m     \u001b[0;32mdef\u001b[0m \u001b[0mfatal_ce_limits\u001b[0m\u001b[0;34m(\u001b[0m\u001b[0mself\u001b[0m\u001b[0;34m,\u001b[0m \u001b[0;34m*\u001b[0m\u001b[0margs\u001b[0m\u001b[0;34m)\u001b[0m\u001b[0;34m:\u001b[0m\u001b[0;34m\u001b[0m\u001b[0;34m\u001b[0m\u001b[0m\n\u001b[0;32m--> 946\u001b[0;31m         \u001b[0mself\u001b[0m\u001b[0;34m.\u001b[0m\u001b[0m_error_handler\u001b[0m\u001b[0;34m.\u001b[0m\u001b[0mfatal_limits_exceeded\u001b[0m\u001b[0;34m(\u001b[0m\u001b[0;34m)\u001b[0m\u001b[0;34m\u001b[0m\u001b[0;34m\u001b[0m\u001b[0m\n\u001b[0m\u001b[1;32m    947\u001b[0m \u001b[0;34m\u001b[0m\u001b[0m\n\u001b[1;32m    948\u001b[0m     \u001b[0;32mdef\u001b[0m \u001b[0merror\u001b[0m\u001b[0;34m(\u001b[0m\u001b[0mself\u001b[0m\u001b[0;34m,\u001b[0m \u001b[0mmsg\u001b[0m\u001b[0;34m,\u001b[0m \u001b[0;34m*\u001b[0m\u001b[0margs\u001b[0m\u001b[0;34m)\u001b[0m\u001b[0;34m:\u001b[0m\u001b[0;34m\u001b[0m\u001b[0;34m\u001b[0m\u001b[0m\n",
      "\u001b[0;32m/Users/evelynlu/anaconda3/envs/venv/lib/python3.7/site-packages/docplex/mp/error_handler.py\u001b[0m in \u001b[0;36mfatal_limits_exceeded\u001b[0;34m(self)\u001b[0m\n\u001b[1;32m    213\u001b[0m     \u001b[0;32mdef\u001b[0m \u001b[0mfatal_limits_exceeded\u001b[0m\u001b[0;34m(\u001b[0m\u001b[0mself\u001b[0m\u001b[0;34m)\u001b[0m\u001b[0;34m:\u001b[0m\u001b[0;34m\u001b[0m\u001b[0;34m\u001b[0m\u001b[0m\n\u001b[1;32m    214\u001b[0m         \u001b[0mdocplex_error_stop_here\u001b[0m\u001b[0;34m(\u001b[0m\u001b[0;34m)\u001b[0m\u001b[0;34m\u001b[0m\u001b[0;34m\u001b[0m\u001b[0m\n\u001b[0;32m--> 215\u001b[0;31m         \u001b[0;32mraise\u001b[0m \u001b[0mDOcplexLimitsExceeded\u001b[0m\u001b[0;34m(\u001b[0m\u001b[0;34m)\u001b[0m\u001b[0;34m\u001b[0m\u001b[0;34m\u001b[0m\u001b[0m\n\u001b[0m\u001b[1;32m    216\u001b[0m \u001b[0;34m\u001b[0m\u001b[0m\n\u001b[1;32m    217\u001b[0m \u001b[0;34m\u001b[0m\u001b[0m\n",
      "\u001b[0;31mDOcplexLimitsExceeded\u001b[0m: **** Promotional version. Problem size limits exceeded, CPLEX code=1016"
     ]
    }
   ],
   "source": [
    "solve_process(\"inputs/small-10.in\")"
   ]
  },
  {
   "cell_type": "code",
   "execution_count": 41,
   "metadata": {
    "scrolled": true
   },
   "outputs": [
    {
     "data": {
      "text/plain": [
       "45.0"
      ]
     },
     "execution_count": 41,
     "metadata": {},
     "output_type": "execute_result"
    }
   ],
   "source": [
    "10 * 9 / 2"
   ]
  },
  {
   "cell_type": "code",
   "execution_count": 42,
   "metadata": {},
   "outputs": [
    {
     "data": {
      "text/plain": [
       "1935"
      ]
     },
     "execution_count": 42,
     "metadata": {},
     "output_type": "execute_result"
    }
   ],
   "source": [
    "45 * 43"
   ]
  },
  {
   "cell_type": "code",
   "execution_count": 43,
   "metadata": {
    "collapsed": true,
    "jupyter": {
     "outputs_hidden": true
    }
   },
   "outputs": [
    {
     "name": "stdout",
     "output_type": "stream",
     "text": [
      "(x[0,1,k] + x[2,3,k]) == 2, x[0,2,k] == 1)\n",
      "(x[0,1,k] + x[2,4,k]) == 2, x[0,2,k] == 1)\n",
      "(x[0,1,k] + x[2,5,k]) == 2, x[0,2,k] == 1)\n",
      "(x[0,1,k] + x[2,6,k]) == 2, x[0,2,k] == 1)\n",
      "(x[0,1,k] + x[2,7,k]) == 2, x[0,2,k] == 1)\n",
      "(x[0,1,k] + x[2,8,k]) == 2, x[0,2,k] == 1)\n",
      "(x[0,1,k] + x[2,9,k]) == 2, x[0,2,k] == 1)\n",
      "(x[0,1,k] + x[3,4,k]) == 2, x[0,3,k] == 1)\n",
      "(x[0,1,k] + x[3,5,k]) == 2, x[0,3,k] == 1)\n",
      "(x[0,1,k] + x[3,6,k]) == 2, x[0,3,k] == 1)\n",
      "(x[0,1,k] + x[3,7,k]) == 2, x[0,3,k] == 1)\n",
      "(x[0,1,k] + x[3,8,k]) == 2, x[0,3,k] == 1)\n",
      "(x[0,1,k] + x[3,9,k]) == 2, x[0,3,k] == 1)\n",
      "(x[0,1,k] + x[4,5,k]) == 2, x[0,4,k] == 1)\n",
      "(x[0,1,k] + x[4,6,k]) == 2, x[0,4,k] == 1)\n",
      "(x[0,1,k] + x[4,7,k]) == 2, x[0,4,k] == 1)\n",
      "(x[0,1,k] + x[4,8,k]) == 2, x[0,4,k] == 1)\n",
      "(x[0,1,k] + x[4,9,k]) == 2, x[0,4,k] == 1)\n",
      "(x[0,1,k] + x[5,6,k]) == 2, x[0,5,k] == 1)\n",
      "(x[0,1,k] + x[5,7,k]) == 2, x[0,5,k] == 1)\n",
      "(x[0,1,k] + x[5,8,k]) == 2, x[0,5,k] == 1)\n",
      "(x[0,1,k] + x[5,9,k]) == 2, x[0,5,k] == 1)\n",
      "(x[0,1,k] + x[6,7,k]) == 2, x[0,6,k] == 1)\n",
      "(x[0,1,k] + x[6,8,k]) == 2, x[0,6,k] == 1)\n",
      "(x[0,1,k] + x[6,9,k]) == 2, x[0,6,k] == 1)\n",
      "(x[0,1,k] + x[7,8,k]) == 2, x[0,7,k] == 1)\n",
      "(x[0,1,k] + x[7,9,k]) == 2, x[0,7,k] == 1)\n",
      "(x[0,1,k] + x[8,9,k]) == 2, x[0,8,k] == 1)\n",
      "(x[0,2,k] + x[3,4,k]) == 2, x[0,3,k] == 1)\n",
      "(x[0,2,k] + x[3,5,k]) == 2, x[0,3,k] == 1)\n",
      "(x[0,2,k] + x[3,6,k]) == 2, x[0,3,k] == 1)\n",
      "(x[0,2,k] + x[3,7,k]) == 2, x[0,3,k] == 1)\n",
      "(x[0,2,k] + x[3,8,k]) == 2, x[0,3,k] == 1)\n",
      "(x[0,2,k] + x[3,9,k]) == 2, x[0,3,k] == 1)\n",
      "(x[0,2,k] + x[4,5,k]) == 2, x[0,4,k] == 1)\n",
      "(x[0,2,k] + x[4,6,k]) == 2, x[0,4,k] == 1)\n",
      "(x[0,2,k] + x[4,7,k]) == 2, x[0,4,k] == 1)\n",
      "(x[0,2,k] + x[4,8,k]) == 2, x[0,4,k] == 1)\n",
      "(x[0,2,k] + x[4,9,k]) == 2, x[0,4,k] == 1)\n",
      "(x[0,2,k] + x[5,6,k]) == 2, x[0,5,k] == 1)\n",
      "(x[0,2,k] + x[5,7,k]) == 2, x[0,5,k] == 1)\n",
      "(x[0,2,k] + x[5,8,k]) == 2, x[0,5,k] == 1)\n",
      "(x[0,2,k] + x[5,9,k]) == 2, x[0,5,k] == 1)\n",
      "(x[0,2,k] + x[6,7,k]) == 2, x[0,6,k] == 1)\n",
      "(x[0,2,k] + x[6,8,k]) == 2, x[0,6,k] == 1)\n",
      "(x[0,2,k] + x[6,9,k]) == 2, x[0,6,k] == 1)\n",
      "(x[0,2,k] + x[7,8,k]) == 2, x[0,7,k] == 1)\n",
      "(x[0,2,k] + x[7,9,k]) == 2, x[0,7,k] == 1)\n",
      "(x[0,2,k] + x[8,9,k]) == 2, x[0,8,k] == 1)\n",
      "(x[0,3,k] + x[4,5,k]) == 2, x[0,4,k] == 1)\n",
      "(x[0,3,k] + x[4,6,k]) == 2, x[0,4,k] == 1)\n",
      "(x[0,3,k] + x[4,7,k]) == 2, x[0,4,k] == 1)\n",
      "(x[0,3,k] + x[4,8,k]) == 2, x[0,4,k] == 1)\n",
      "(x[0,3,k] + x[4,9,k]) == 2, x[0,4,k] == 1)\n",
      "(x[0,3,k] + x[5,6,k]) == 2, x[0,5,k] == 1)\n",
      "(x[0,3,k] + x[5,7,k]) == 2, x[0,5,k] == 1)\n",
      "(x[0,3,k] + x[5,8,k]) == 2, x[0,5,k] == 1)\n",
      "(x[0,3,k] + x[5,9,k]) == 2, x[0,5,k] == 1)\n",
      "(x[0,3,k] + x[6,7,k]) == 2, x[0,6,k] == 1)\n",
      "(x[0,3,k] + x[6,8,k]) == 2, x[0,6,k] == 1)\n",
      "(x[0,3,k] + x[6,9,k]) == 2, x[0,6,k] == 1)\n",
      "(x[0,3,k] + x[7,8,k]) == 2, x[0,7,k] == 1)\n",
      "(x[0,3,k] + x[7,9,k]) == 2, x[0,7,k] == 1)\n",
      "(x[0,3,k] + x[8,9,k]) == 2, x[0,8,k] == 1)\n",
      "(x[0,4,k] + x[5,6,k]) == 2, x[0,5,k] == 1)\n",
      "(x[0,4,k] + x[5,7,k]) == 2, x[0,5,k] == 1)\n",
      "(x[0,4,k] + x[5,8,k]) == 2, x[0,5,k] == 1)\n",
      "(x[0,4,k] + x[5,9,k]) == 2, x[0,5,k] == 1)\n",
      "(x[0,4,k] + x[6,7,k]) == 2, x[0,6,k] == 1)\n",
      "(x[0,4,k] + x[6,8,k]) == 2, x[0,6,k] == 1)\n",
      "(x[0,4,k] + x[6,9,k]) == 2, x[0,6,k] == 1)\n",
      "(x[0,4,k] + x[7,8,k]) == 2, x[0,7,k] == 1)\n",
      "(x[0,4,k] + x[7,9,k]) == 2, x[0,7,k] == 1)\n",
      "(x[0,4,k] + x[8,9,k]) == 2, x[0,8,k] == 1)\n",
      "(x[0,5,k] + x[6,7,k]) == 2, x[0,6,k] == 1)\n",
      "(x[0,5,k] + x[6,8,k]) == 2, x[0,6,k] == 1)\n",
      "(x[0,5,k] + x[6,9,k]) == 2, x[0,6,k] == 1)\n",
      "(x[0,5,k] + x[7,8,k]) == 2, x[0,7,k] == 1)\n",
      "(x[0,5,k] + x[7,9,k]) == 2, x[0,7,k] == 1)\n",
      "(x[0,5,k] + x[8,9,k]) == 2, x[0,8,k] == 1)\n",
      "(x[0,6,k] + x[7,8,k]) == 2, x[0,7,k] == 1)\n",
      "(x[0,6,k] + x[7,9,k]) == 2, x[0,7,k] == 1)\n",
      "(x[0,6,k] + x[8,9,k]) == 2, x[0,8,k] == 1)\n",
      "(x[0,7,k] + x[8,9,k]) == 2, x[0,8,k] == 1)\n",
      "(x[1,2,k] + x[3,4,k]) == 2, x[1,3,k] == 1)\n",
      "(x[1,2,k] + x[3,5,k]) == 2, x[1,3,k] == 1)\n",
      "(x[1,2,k] + x[3,6,k]) == 2, x[1,3,k] == 1)\n",
      "(x[1,2,k] + x[3,7,k]) == 2, x[1,3,k] == 1)\n",
      "(x[1,2,k] + x[3,8,k]) == 2, x[1,3,k] == 1)\n",
      "(x[1,2,k] + x[3,9,k]) == 2, x[1,3,k] == 1)\n",
      "(x[1,2,k] + x[4,5,k]) == 2, x[1,4,k] == 1)\n",
      "(x[1,2,k] + x[4,6,k]) == 2, x[1,4,k] == 1)\n",
      "(x[1,2,k] + x[4,7,k]) == 2, x[1,4,k] == 1)\n",
      "(x[1,2,k] + x[4,8,k]) == 2, x[1,4,k] == 1)\n",
      "(x[1,2,k] + x[4,9,k]) == 2, x[1,4,k] == 1)\n",
      "(x[1,2,k] + x[5,6,k]) == 2, x[1,5,k] == 1)\n",
      "(x[1,2,k] + x[5,7,k]) == 2, x[1,5,k] == 1)\n",
      "(x[1,2,k] + x[5,8,k]) == 2, x[1,5,k] == 1)\n",
      "(x[1,2,k] + x[5,9,k]) == 2, x[1,5,k] == 1)\n",
      "(x[1,2,k] + x[6,7,k]) == 2, x[1,6,k] == 1)\n",
      "(x[1,2,k] + x[6,8,k]) == 2, x[1,6,k] == 1)\n",
      "(x[1,2,k] + x[6,9,k]) == 2, x[1,6,k] == 1)\n",
      "(x[1,2,k] + x[7,8,k]) == 2, x[1,7,k] == 1)\n",
      "(x[1,2,k] + x[7,9,k]) == 2, x[1,7,k] == 1)\n",
      "(x[1,2,k] + x[8,9,k]) == 2, x[1,8,k] == 1)\n",
      "(x[1,3,k] + x[4,5,k]) == 2, x[1,4,k] == 1)\n",
      "(x[1,3,k] + x[4,6,k]) == 2, x[1,4,k] == 1)\n",
      "(x[1,3,k] + x[4,7,k]) == 2, x[1,4,k] == 1)\n",
      "(x[1,3,k] + x[4,8,k]) == 2, x[1,4,k] == 1)\n",
      "(x[1,3,k] + x[4,9,k]) == 2, x[1,4,k] == 1)\n",
      "(x[1,3,k] + x[5,6,k]) == 2, x[1,5,k] == 1)\n",
      "(x[1,3,k] + x[5,7,k]) == 2, x[1,5,k] == 1)\n",
      "(x[1,3,k] + x[5,8,k]) == 2, x[1,5,k] == 1)\n",
      "(x[1,3,k] + x[5,9,k]) == 2, x[1,5,k] == 1)\n",
      "(x[1,3,k] + x[6,7,k]) == 2, x[1,6,k] == 1)\n",
      "(x[1,3,k] + x[6,8,k]) == 2, x[1,6,k] == 1)\n",
      "(x[1,3,k] + x[6,9,k]) == 2, x[1,6,k] == 1)\n",
      "(x[1,3,k] + x[7,8,k]) == 2, x[1,7,k] == 1)\n",
      "(x[1,3,k] + x[7,9,k]) == 2, x[1,7,k] == 1)\n",
      "(x[1,3,k] + x[8,9,k]) == 2, x[1,8,k] == 1)\n",
      "(x[1,4,k] + x[5,6,k]) == 2, x[1,5,k] == 1)\n",
      "(x[1,4,k] + x[5,7,k]) == 2, x[1,5,k] == 1)\n",
      "(x[1,4,k] + x[5,8,k]) == 2, x[1,5,k] == 1)\n",
      "(x[1,4,k] + x[5,9,k]) == 2, x[1,5,k] == 1)\n",
      "(x[1,4,k] + x[6,7,k]) == 2, x[1,6,k] == 1)\n",
      "(x[1,4,k] + x[6,8,k]) == 2, x[1,6,k] == 1)\n",
      "(x[1,4,k] + x[6,9,k]) == 2, x[1,6,k] == 1)\n",
      "(x[1,4,k] + x[7,8,k]) == 2, x[1,7,k] == 1)\n",
      "(x[1,4,k] + x[7,9,k]) == 2, x[1,7,k] == 1)\n",
      "(x[1,4,k] + x[8,9,k]) == 2, x[1,8,k] == 1)\n",
      "(x[1,5,k] + x[6,7,k]) == 2, x[1,6,k] == 1)\n",
      "(x[1,5,k] + x[6,8,k]) == 2, x[1,6,k] == 1)\n",
      "(x[1,5,k] + x[6,9,k]) == 2, x[1,6,k] == 1)\n",
      "(x[1,5,k] + x[7,8,k]) == 2, x[1,7,k] == 1)\n",
      "(x[1,5,k] + x[7,9,k]) == 2, x[1,7,k] == 1)\n",
      "(x[1,5,k] + x[8,9,k]) == 2, x[1,8,k] == 1)\n",
      "(x[1,6,k] + x[7,8,k]) == 2, x[1,7,k] == 1)\n",
      "(x[1,6,k] + x[7,9,k]) == 2, x[1,7,k] == 1)\n",
      "(x[1,6,k] + x[8,9,k]) == 2, x[1,8,k] == 1)\n",
      "(x[1,7,k] + x[8,9,k]) == 2, x[1,8,k] == 1)\n",
      "(x[2,3,k] + x[4,5,k]) == 2, x[2,4,k] == 1)\n",
      "(x[2,3,k] + x[4,6,k]) == 2, x[2,4,k] == 1)\n",
      "(x[2,3,k] + x[4,7,k]) == 2, x[2,4,k] == 1)\n",
      "(x[2,3,k] + x[4,8,k]) == 2, x[2,4,k] == 1)\n",
      "(x[2,3,k] + x[4,9,k]) == 2, x[2,4,k] == 1)\n",
      "(x[2,3,k] + x[5,6,k]) == 2, x[2,5,k] == 1)\n",
      "(x[2,3,k] + x[5,7,k]) == 2, x[2,5,k] == 1)\n",
      "(x[2,3,k] + x[5,8,k]) == 2, x[2,5,k] == 1)\n",
      "(x[2,3,k] + x[5,9,k]) == 2, x[2,5,k] == 1)\n",
      "(x[2,3,k] + x[6,7,k]) == 2, x[2,6,k] == 1)\n",
      "(x[2,3,k] + x[6,8,k]) == 2, x[2,6,k] == 1)\n",
      "(x[2,3,k] + x[6,9,k]) == 2, x[2,6,k] == 1)\n",
      "(x[2,3,k] + x[7,8,k]) == 2, x[2,7,k] == 1)\n",
      "(x[2,3,k] + x[7,9,k]) == 2, x[2,7,k] == 1)\n",
      "(x[2,3,k] + x[8,9,k]) == 2, x[2,8,k] == 1)\n",
      "(x[2,4,k] + x[5,6,k]) == 2, x[2,5,k] == 1)\n",
      "(x[2,4,k] + x[5,7,k]) == 2, x[2,5,k] == 1)\n",
      "(x[2,4,k] + x[5,8,k]) == 2, x[2,5,k] == 1)\n",
      "(x[2,4,k] + x[5,9,k]) == 2, x[2,5,k] == 1)\n",
      "(x[2,4,k] + x[6,7,k]) == 2, x[2,6,k] == 1)\n",
      "(x[2,4,k] + x[6,8,k]) == 2, x[2,6,k] == 1)\n",
      "(x[2,4,k] + x[6,9,k]) == 2, x[2,6,k] == 1)\n",
      "(x[2,4,k] + x[7,8,k]) == 2, x[2,7,k] == 1)\n",
      "(x[2,4,k] + x[7,9,k]) == 2, x[2,7,k] == 1)\n",
      "(x[2,4,k] + x[8,9,k]) == 2, x[2,8,k] == 1)\n",
      "(x[2,5,k] + x[6,7,k]) == 2, x[2,6,k] == 1)\n",
      "(x[2,5,k] + x[6,8,k]) == 2, x[2,6,k] == 1)\n",
      "(x[2,5,k] + x[6,9,k]) == 2, x[2,6,k] == 1)\n",
      "(x[2,5,k] + x[7,8,k]) == 2, x[2,7,k] == 1)\n",
      "(x[2,5,k] + x[7,9,k]) == 2, x[2,7,k] == 1)\n",
      "(x[2,5,k] + x[8,9,k]) == 2, x[2,8,k] == 1)\n",
      "(x[2,6,k] + x[7,8,k]) == 2, x[2,7,k] == 1)\n",
      "(x[2,6,k] + x[7,9,k]) == 2, x[2,7,k] == 1)\n",
      "(x[2,6,k] + x[8,9,k]) == 2, x[2,8,k] == 1)\n",
      "(x[2,7,k] + x[8,9,k]) == 2, x[2,8,k] == 1)\n",
      "(x[3,4,k] + x[5,6,k]) == 2, x[3,5,k] == 1)\n",
      "(x[3,4,k] + x[5,7,k]) == 2, x[3,5,k] == 1)\n",
      "(x[3,4,k] + x[5,8,k]) == 2, x[3,5,k] == 1)\n",
      "(x[3,4,k] + x[5,9,k]) == 2, x[3,5,k] == 1)\n",
      "(x[3,4,k] + x[6,7,k]) == 2, x[3,6,k] == 1)\n",
      "(x[3,4,k] + x[6,8,k]) == 2, x[3,6,k] == 1)\n",
      "(x[3,4,k] + x[6,9,k]) == 2, x[3,6,k] == 1)\n",
      "(x[3,4,k] + x[7,8,k]) == 2, x[3,7,k] == 1)\n",
      "(x[3,4,k] + x[7,9,k]) == 2, x[3,7,k] == 1)\n",
      "(x[3,4,k] + x[8,9,k]) == 2, x[3,8,k] == 1)\n",
      "(x[3,5,k] + x[6,7,k]) == 2, x[3,6,k] == 1)\n",
      "(x[3,5,k] + x[6,8,k]) == 2, x[3,6,k] == 1)\n",
      "(x[3,5,k] + x[6,9,k]) == 2, x[3,6,k] == 1)\n",
      "(x[3,5,k] + x[7,8,k]) == 2, x[3,7,k] == 1)\n",
      "(x[3,5,k] + x[7,9,k]) == 2, x[3,7,k] == 1)\n",
      "(x[3,5,k] + x[8,9,k]) == 2, x[3,8,k] == 1)\n",
      "(x[3,6,k] + x[7,8,k]) == 2, x[3,7,k] == 1)\n",
      "(x[3,6,k] + x[7,9,k]) == 2, x[3,7,k] == 1)\n",
      "(x[3,6,k] + x[8,9,k]) == 2, x[3,8,k] == 1)\n",
      "(x[3,7,k] + x[8,9,k]) == 2, x[3,8,k] == 1)\n",
      "(x[4,5,k] + x[6,7,k]) == 2, x[4,6,k] == 1)\n",
      "(x[4,5,k] + x[6,8,k]) == 2, x[4,6,k] == 1)\n",
      "(x[4,5,k] + x[6,9,k]) == 2, x[4,6,k] == 1)\n",
      "(x[4,5,k] + x[7,8,k]) == 2, x[4,7,k] == 1)\n",
      "(x[4,5,k] + x[7,9,k]) == 2, x[4,7,k] == 1)\n",
      "(x[4,5,k] + x[8,9,k]) == 2, x[4,8,k] == 1)\n",
      "(x[4,6,k] + x[7,8,k]) == 2, x[4,7,k] == 1)\n",
      "(x[4,6,k] + x[7,9,k]) == 2, x[4,7,k] == 1)\n",
      "(x[4,6,k] + x[8,9,k]) == 2, x[4,8,k] == 1)\n",
      "(x[4,7,k] + x[8,9,k]) == 2, x[4,8,k] == 1)\n",
      "(x[5,6,k] + x[7,8,k]) == 2, x[5,7,k] == 1)\n",
      "(x[5,6,k] + x[7,9,k]) == 2, x[5,7,k] == 1)\n",
      "(x[5,6,k] + x[8,9,k]) == 2, x[5,8,k] == 1)\n",
      "(x[5,7,k] + x[8,9,k]) == 2, x[5,8,k] == 1)\n",
      "(x[6,7,k] + x[8,9,k]) == 2, x[6,8,k] == 1)\n",
      "210\n"
     ]
    }
   ],
   "source": [
    "R = range(10)\n",
    "count = 0\n",
    "for a in R: \n",
    "    for b in range(a + 1,N):\n",
    "        for c in range(b + 1,N):\n",
    "            for d in range(c + 1,N):\n",
    "                count +=1\n",
    "                print(f\"(x[{a},{b},k] + x[{c},{d},k]) == 2, x[{a},{c},k] == 1)\")\n",
    "print(count)"
   ]
  },
  {
   "cell_type": "code",
   "execution_count": 37,
   "metadata": {},
   "outputs": [
    {
     "name": "stdout",
     "output_type": "stream",
     "text": [
      "550\n",
      "happiness: 0.0\n",
      "[[0 0 0 1]\n",
      " [1 1 1 1]\n",
      " [2 2 2 1]\n",
      " [3 3 3 1]\n",
      " [4 4 4 1]\n",
      " [5 5 5 1]\n",
      " [6 6 6 1]\n",
      " [7 7 7 1]\n",
      " [8 8 8 1]\n",
      " [9 9 9 1]] 10\n",
      "nbrooms = 1 failed. Trying 2\n",
      "happiness: 330.231\n",
      "[[0 7 1 1]\n",
      " [0 8 1 1]\n",
      " [1 5 3 1]\n",
      " [2 3 0 1]\n",
      " [4 9 2 1]\n",
      " [7 8 1 1]\n",
      " [6 6 4 1]] 5\n",
      "room 0 stress = 2.913, exceeded 2.7920000000000003\n",
      "nbrooms = 2 failed. Trying 3\n",
      "happiness: 301.067\n",
      "[[0 6 1 1]\n",
      " [0 9 1 1]\n",
      " [1 2 2 1]\n",
      " [3 4 0 1]\n",
      " [6 9 1 1]\n",
      " [7 8 3 1]\n",
      " [5 5 4 1]] 5\n",
      "room 2 stress = 4.614, exceeded 2.7920000000000003\n",
      "nbrooms = 3 failed. Trying 4\n",
      "happiness: 260.68899999999996\n",
      "[[0 8 1 1]\n",
      " [0 9 1 1]\n",
      " [1 5 0 1]\n",
      " [2 3 2 1]\n",
      " [4 7 3 1]\n",
      " [8 9 1 1]\n",
      " [6 6 4 1]] 5\n",
      "room 2 stress = 2.913, exceeded 2.7920000000000003\n",
      "nbrooms = 4 failed. Trying 5\n",
      "happiness: 261.802\n",
      "[[0 6 0 1]\n",
      " [1 5 0 1]\n",
      " [2 9 3 1]\n",
      " [3 4 2 1]\n",
      " [7 8 1 1]] 4\n",
      "success! nbrooms = 5\n"
     ]
    },
    {
     "data": {
      "text/plain": [
       "{0: 0, 1: 0, 6: 0, 5: 0, 7: 1, 8: 1, 3: 2, 4: 2, 2: 3, 9: 3}"
      ]
     },
     "execution_count": 37,
     "metadata": {},
     "output_type": "execute_result"
    }
   ],
   "source": [
    "solve_process(\"inputs/small-8.in\")"
   ]
  },
  {
   "cell_type": "code",
   "execution_count": null,
   "metadata": {},
   "outputs": [],
   "source": []
  },
  {
   "cell_type": "code",
   "execution_count": 16,
   "metadata": {
    "scrolled": true
   },
   "outputs": [
    {
     "name": "stdout",
     "output_type": "stream",
     "text": [
      "# of rooms:  4\n",
      "D:  {0: 0, 7: 0, 8: 0, 1: 1, 6: 1, 9: 1, 2: 2, 3: 2, 4: 3, 5: 3}\n"
     ]
    },
    {
     "data": {
      "text/plain": [
       "{0: 0, 7: 0, 8: 0, 1: 1, 6: 1, 9: 1, 2: 2, 3: 2, 4: 3, 5: 3}"
      ]
     },
     "execution_count": 16,
     "metadata": {},
     "output_type": "execute_result"
    }
   ],
   "source": [
    "G, S_MAX = ps.read_input_file(\"inputs/small-7.in\")\n",
    "ps.read_output_file(\"outputs/small-7.out\", G, S_MAX)"
   ]
  },
  {
   "cell_type": "code",
   "execution_count": 15,
   "metadata": {},
   "outputs": [
    {
     "name": "stdout",
     "output_type": "stream",
     "text": [
      "# of rooms:  4\n",
      "D:  {1: 0, 2: 0, 5: 0, 9: 0, 3: 1, 4: 1, 7: 2, 8: 2, 0: 3, 6: 3}\n",
      "too stressful!  20.098\n"
     ]
    },
    {
     "ename": "AssertionError",
     "evalue": "",
     "output_type": "error",
     "traceback": [
      "\u001b[0;31m---------------------------------------------------------------------------\u001b[0m",
      "\u001b[0;31mAssertionError\u001b[0m                            Traceback (most recent call last)",
      "\u001b[0;32m<ipython-input-15-8eb503382cac>\u001b[0m in \u001b[0;36m<module>\u001b[0;34m\u001b[0m\n\u001b[1;32m      1\u001b[0m \u001b[0mG\u001b[0m\u001b[0;34m,\u001b[0m \u001b[0mS_MAX\u001b[0m \u001b[0;34m=\u001b[0m \u001b[0mps\u001b[0m\u001b[0;34m.\u001b[0m\u001b[0mread_input_file\u001b[0m\u001b[0;34m(\u001b[0m\u001b[0;34m\"inputs/small-8.in\"\u001b[0m\u001b[0;34m)\u001b[0m\u001b[0;34m\u001b[0m\u001b[0;34m\u001b[0m\u001b[0m\n\u001b[0;32m----> 2\u001b[0;31m \u001b[0mps\u001b[0m\u001b[0;34m.\u001b[0m\u001b[0mread_output_file\u001b[0m\u001b[0;34m(\u001b[0m\u001b[0;34m\"outputs/small-8.out\"\u001b[0m\u001b[0;34m,\u001b[0m \u001b[0mG\u001b[0m\u001b[0;34m,\u001b[0m \u001b[0mS_MAX\u001b[0m\u001b[0;34m)\u001b[0m\u001b[0;34m\u001b[0m\u001b[0;34m\u001b[0m\u001b[0m\n\u001b[0m",
      "\u001b[0;32m~/projects/cs170-proj/parse.py\u001b[0m in \u001b[0;36mread_output_file\u001b[0;34m(path, G, s)\u001b[0m\n\u001b[1;32m    109\u001b[0m         \u001b[0mprint\u001b[0m\u001b[0;34m(\u001b[0m\u001b[0;34m\"D: \"\u001b[0m\u001b[0;34m,\u001b[0m \u001b[0mD\u001b[0m\u001b[0;34m)\u001b[0m\u001b[0;34m\u001b[0m\u001b[0;34m\u001b[0m\u001b[0m\n\u001b[1;32m    110\u001b[0m         \u001b[0;32massert\u001b[0m \u001b[0mlen\u001b[0m\u001b[0;34m(\u001b[0m\u001b[0mnodes\u001b[0m\u001b[0;34m)\u001b[0m \u001b[0;34m==\u001b[0m \u001b[0mlen\u001b[0m\u001b[0;34m(\u001b[0m\u001b[0mG\u001b[0m\u001b[0;34m)\u001b[0m\u001b[0;34m\u001b[0m\u001b[0;34m\u001b[0m\u001b[0m\n\u001b[0;32m--> 111\u001b[0;31m         \u001b[0;32massert\u001b[0m \u001b[0mutils\u001b[0m\u001b[0;34m.\u001b[0m\u001b[0mis_valid_solution\u001b[0m\u001b[0;34m(\u001b[0m\u001b[0mD\u001b[0m\u001b[0;34m,\u001b[0m \u001b[0mG\u001b[0m\u001b[0;34m,\u001b[0m \u001b[0ms\u001b[0m\u001b[0;34m,\u001b[0m \u001b[0mlen\u001b[0m\u001b[0;34m(\u001b[0m\u001b[0mrooms\u001b[0m\u001b[0;34m)\u001b[0m\u001b[0;34m)\u001b[0m\u001b[0;34m\u001b[0m\u001b[0;34m\u001b[0m\u001b[0m\n\u001b[0m\u001b[1;32m    112\u001b[0m \u001b[0;34m\u001b[0m\u001b[0m\n\u001b[1;32m    113\u001b[0m     \u001b[0;32mreturn\u001b[0m \u001b[0mD\u001b[0m\u001b[0;34m\u001b[0m\u001b[0;34m\u001b[0m\u001b[0m\n",
      "\u001b[0;31mAssertionError\u001b[0m: "
     ]
    }
   ],
   "source": [
    "G, S_MAX = ps.read_input_file(\"inputs/small-8.in\")\n",
    "ps.read_output_file(\"outputs/small-8.out\", G, S_MAX)"
   ]
  },
  {
   "cell_type": "code",
   "execution_count": 17,
   "metadata": {},
   "outputs": [
    {
     "name": "stdout",
     "output_type": "stream",
     "text": [
      "# of rooms:  2\n",
      "D:  {0: 0, 1: 0, 2: 0, 3: 0, 4: 0, 6: 0, 5: 1, 7: 1, 8: 1, 9: 1}\n"
     ]
    },
    {
     "data": {
      "text/plain": [
       "{0: 0, 1: 0, 2: 0, 3: 0, 4: 0, 6: 0, 5: 1, 7: 1, 8: 1, 9: 1}"
      ]
     },
     "execution_count": 17,
     "metadata": {},
     "output_type": "execute_result"
    }
   ],
   "source": [
    "G, S_MAX = ps.read_input_file(\"inputs/small-9.in\")\n",
    "ps.read_output_file(\"outputs/small-9.out\", G, S_MAX)"
   ]
  },
  {
   "cell_type": "markdown",
   "metadata": {},
   "source": [
    "## Cleaning Model Attempt"
   ]
  },
  {
   "cell_type": "code",
   "execution_count": 197,
   "metadata": {},
   "outputs": [
    {
     "data": {
      "text/plain": [
       "array([[0, 4, 2, 1],\n",
       "       [0, 5, 2, 1],\n",
       "       [1, 2, 5, 1],\n",
       "       [1, 3, 5, 1],\n",
       "       [2, 3, 5, 1],\n",
       "       [4, 5, 2, 1],\n",
       "       [6, 8, 1, 1],\n",
       "       [7, 9, 6, 1]])"
      ]
     },
     "execution_count": 197,
     "metadata": {},
     "output_type": "execute_result"
    }
   ],
   "source": [
    "msol_dict = msol.get_value_dict(x)\n",
    "msol_np = np.concatenate((list(msol_dict.keys()), np.array([list(msol_dict.values())]).T), axis=1).astype(int)\n",
    "msol_nz = msol_np[msol_np[:,3].nonzero()]\n",
    "msol_nz"
   ]
  },
  {
   "cell_type": "code",
   "execution_count": 198,
   "metadata": {},
   "outputs": [],
   "source": [
    "msol_rooms = msol_nz[:,2]\n",
    "msol_unique_rooms = np.unique(msol_rooms)\n",
    "msol_unique_rooms\n",
    "number_of_rooms = len(msol_unique_rooms)"
   ]
  },
  {
   "cell_type": "code",
   "execution_count": 199,
   "metadata": {},
   "outputs": [
    {
     "data": {
      "text/plain": [
       "array([[0, 4, 1, 1],\n",
       "       [0, 5, 1, 1],\n",
       "       [1, 2, 2, 1],\n",
       "       [1, 3, 2, 1],\n",
       "       [2, 3, 2, 1],\n",
       "       [4, 5, 1, 1],\n",
       "       [6, 8, 0, 1],\n",
       "       [7, 9, 3, 1]])"
      ]
     },
     "execution_count": 199,
     "metadata": {},
     "output_type": "execute_result"
    }
   ],
   "source": [
    "for i in range(number_of_rooms):\n",
    "    msol_rooms = np.where(msol_rooms==msol_unique_rooms[i],i,msol_rooms)\n",
    "msol_rooms\n",
    "msol_nz[:,2]=msol_rooms\n",
    "msol_nz"
   ]
  },
  {
   "cell_type": "code",
   "execution_count": 200,
   "metadata": {},
   "outputs": [
    {
     "name": "stdout",
     "output_type": "stream",
     "text": [
      "[[0 4 1 1]\n",
      " [0 5 1 1]\n",
      " [1 2 2 1]\n",
      " [1 3 2 1]\n",
      " [2 3 2 1]\n",
      " [4 5 1 1]\n",
      " [6 8 0 1]\n",
      " [7 9 3 1]] 4 [1 1 2 2 2 1 0 3]\n"
     ]
    }
   ],
   "source": [
    "for i in np.setdiff1d(np.arange(10), np.unique(np.concatenate([msol_nz[:,0],msol_nz[:,1]]))):\n",
    "    msol_nz = np.append(msol_nz, [[i,i, number_of_rooms,1]],axis=0)\n",
    "    msol_rooms = np.append(msol_rooms, number_of_rooms)\n",
    "    number_of_rooms += 1\n",
    "print(msol_nz, number_of_rooms, msol_rooms)"
   ]
  },
  {
   "cell_type": "code",
   "execution_count": 211,
   "metadata": {},
   "outputs": [],
   "source": []
  },
  {
   "cell_type": "code",
   "execution_count": 212,
   "metadata": {},
   "outputs": [
    {
     "name": "stdout",
     "output_type": "stream",
     "text": [
      "room 1 stress = 32.256, exceeded 24.21025\n"
     ]
    },
    {
     "data": {
      "text/plain": [
       "False"
      ]
     },
     "execution_count": 212,
     "metadata": {},
     "output_type": "execute_result"
    }
   ],
   "source": [
    "is_valid(msol_nz)"
   ]
  },
  {
   "cell_type": "code",
   "execution_count": 204,
   "metadata": {},
   "outputs": [
    {
     "data": {
      "text/plain": [
       "{6: 0, 8: 0, 0: 1, 4: 1, 5: 1, 1: 2, 2: 2, 3: 2, 7: 3, 9: 3}"
      ]
     },
     "execution_count": 204,
     "metadata": {},
     "output_type": "execute_result"
    }
   ],
   "source": [
    "sol_dict = {}\n",
    "for i in range(number_of_rooms):\n",
    "    sel = msol_nz[np.argwhere(msol_rooms == i).flatten()]\n",
    "    sol_dict.update(dict(zip(sel[:,0], sel[:,2])))\n",
    "    sol_dict.update(dict(zip(sel[:,1], sel[:,2])))\n",
    "sol_dict"
   ]
  },
  {
   "cell_type": "code",
   "execution_count": 205,
   "metadata": {},
   "outputs": [
    {
     "name": "stdout",
     "output_type": "stream",
     "text": [
      "too stressful!  32.256\n"
     ]
    },
    {
     "data": {
      "text/plain": [
       "False"
      ]
     },
     "execution_count": 205,
     "metadata": {},
     "output_type": "execute_result"
    }
   ],
   "source": [
    "ut.is_valid_solution(sol_dict,G,S_MAX, number_of_rooms)"
   ]
  },
  {
   "cell_type": "code",
   "execution_count": 174,
   "metadata": {},
   "outputs": [
    {
     "data": {
      "text/plain": [
       "24.21025"
      ]
     },
     "execution_count": 174,
     "metadata": {},
     "output_type": "execute_result"
    }
   ],
   "source": [
    "S_MAX / 4"
   ]
  },
  {
   "cell_type": "code",
   "execution_count": null,
   "metadata": {},
   "outputs": [],
   "source": []
  },
  {
   "cell_type": "markdown",
   "metadata": {},
   "source": [
    "## Build Model (~~CP~~) (MP)\n",
    "\n",
    "For the actual CP model, check `cp_optimize` notebook.\n",
    "\n",
    "Thought this would be solved with CP, accidentally created the model with MP but still kind of got it to work. Seems like CP still has better performance in comparison, although this MP model is much faster than the previous one and have better outputs satisfying the constriants (previous MP has many bad outputs that did not satisfy constraint).\n",
    "\n",
    "Use the 2D idea to model. Since CP doesn't require convex, multiplying variables will be allowed and it will be easy to model in S_mat and H_mat. \n",
    "\n",
    "Biggest issue is the room_count variable still can't be used here, due to exceeding quadratic limits when considering stress constriant and happiness objective. CP allows it and solves the problem, and if using this model, looping through all possible room_counts or strategically select them as in `solve process` works for medium input at least.\n",
    "\n",
    "variable: use binary_var_dict, based on each (i,k) where i is student, k is room being assigned too.;\n",
    "room count variable\n",
    "\n",
    "constriants: \n",
    "\n",
    "1. 1 student can assigned to 1 and only 1 room. \n",
    "2. room_count variable, force rooms with smaller # to be filled first and use that to get the range of room_count\n",
    "3. (Per input): `sum(S_mat[i][j] * v[i][k] * v[j][k] for i in ... j in ...) <= S_MAX / roomcount`\n",
    "Not sure if the roomcount will make the problem too slow to solve. If it does, take out constraint 2 and loop through possible room count variables. (Not very practical when N = 50)\n",
    "\n",
    "Goal: \n",
    "maximize `sum(H_mat[i][j] * v[i][k] * v[j][k] for i in ... j in ... k in ...)`"
   ]
  },
  {
   "cell_type": "code",
   "execution_count": 4,
   "metadata": {},
   "outputs": [],
   "source": [
    "import docplex.cp.model as cp\n",
    "# Create model\n",
    "# Initialize model variable sets\n",
    "# total_rooms = 0"
   ]
  },
  {
   "cell_type": "code",
   "execution_count": 5,
   "metadata": {},
   "outputs": [],
   "source": [
    "def clean_solution(cpsol):\n",
    "    cpsol_dict = cpsol.get_value_dict(v, False)\n",
    "    cpsol_np = np.concatenate((list(cpsol_dict.keys()), np.array([list(cpsol_dict.values())]).T), axis=1).astype(int)\n",
    "    cpsol_rooms = cpsol_np[:,1]\n",
    "    cpsol_unique_rooms = np.unique(cpsol_rooms)\n",
    "    number_of_rooms = len(cpsol_unique_rooms)\n",
    "    for i in range(number_of_rooms):\n",
    "        cpsol_rooms = np.where(cpsol_rooms==cpsol_unique_rooms[i],i,cpsol_rooms)\n",
    "    cpsol_rooms\n",
    "    cpsol_np[:,1]=cpsol_rooms\n",
    "#     print(cpsol_np)\n",
    "    cpsol_dict = {}\n",
    "    cpsol_dict.update(dict(zip(cpsol_np[:,0], cpsol_np[:,1])))\n",
    "    return cpsol_dict, number_of_rooms\n",
    "\n",
    "def is_valid(cpsol_dict, number_of_rooms):\n",
    "    return ut.is_valid_solution(cpsol_dict, G, S_MAX, number_of_rooms)"
   ]
  },
  {
   "cell_type": "code",
   "execution_count": 16,
   "metadata": {},
   "outputs": [],
   "source": [
    "def cp_model_and_solve(N, NBROOMS): # N = # of students\n",
    "    # ref to the mp sudoku example: https://ibmdecisionoptimization.github.io/docplex-doc/mp/creating_mdl.html\n",
    "    global mdl, v\n",
    "#     mdl = cp.CpoModel(\"breakout_room_cp\")\n",
    "    mdl = Model('breakout_room_mp')\n",
    "    R = range(N)\n",
    "    idx = [(i,k) for i in R for k in R]\n",
    "    # v is room assignment; key is (i, j, r) where i,j is a pair of students, and r is the room they are assigned to\n",
    "    v = mdl.binary_var_dict(idx, name=\"v\") \n",
    "#     room_count = mdl.integer_var(1, N, \"room_count\")\n",
    "\n",
    "    # constraint 1: everyone is assigned to one room. \n",
    "    for i in R:\n",
    "            mdl.add(mdl.sum(v[i,k] for k in R) == 1)\n",
    "    \n",
    "#     mdl.add(cp.sum(cp.sum(v[i,k] for i in R) != 0 for k in R) == room_count)\n",
    "\n",
    "    constraints = []\n",
    "    for r in R:\n",
    "        S_room = cp.sum(S_mat[i,j] * v[i,r] * v[j,r] for i in R for j in range(i,N))\n",
    "        constraints.append(mdl.add(S_room <= S_MAX / NBROOMS))\n",
    "    # goal: maximize happiness\n",
    "    mdl.maximize(cp.sum(H_mat[i,j] * v[i,k] * v[j,k] for i in R for j in range(i,N) for k in R))\n",
    "    cpsol = mdl.solve(TimeLimit=20)\n",
    "    return cpsol"
   ]
  },
  {
   "cell_type": "code",
   "execution_count": 7,
   "metadata": {},
   "outputs": [
    {
     "name": "stdout",
     "output_type": "stream",
     "text": [
      "4200\n"
     ]
    }
   ],
   "source": [
    "G, S_MAX, N, R, S_mat, H_mat, idx = process_input(\"inputs/medium-1.in\")"
   ]
  },
  {
   "cell_type": "code",
   "execution_count": 8,
   "metadata": {},
   "outputs": [],
   "source": [
    "def solve_process(input_path):\n",
    "    global G, S_MAX, N, R, S_mat, H_mat, idx\n",
    "    G, S_MAX, N, R, S_mat, H_mat, idx = process_input(input_path)\n",
    "#     model, x = init_model(N)\n",
    "    nbrooms = 2\n",
    "    while nbrooms < N:\n",
    "        sol = cp_model_and_solve(N, nbrooms)\n",
    "        sol_dict, actual_nbrooms = clean_solution(sol)\n",
    "        if (is_valid(sol_dict, actual_nbrooms)):\n",
    "            print(f\"success! nbrooms = {nbrooms}\")\n",
    "            print(sol_dict, actual_nbrooms)\n",
    "            return sol_dict\n",
    "        print(f\"nbrooms = {nbrooms} failed.\")\n",
    "        new_nbrooms = np.round((nbrooms + actual_nbrooms) / 2)\n",
    "        nbrooms = new_nbrooms if new_nbrooms > nbrooms else nbrooms + 1\n",
    "        print(f\"trying {nbrooms}\")\n",
    "    print(\"FAILED to find good solution\")\n",
    "    raise Exception('Could not find viable solution') "
   ]
  },
  {
   "cell_type": "code",
   "execution_count": 9,
   "metadata": {},
   "outputs": [],
   "source": [
    "from contextlib import redirect_stdout\n",
    "import sys\n",
    "\n",
    "with open('log-med-1-50.txt', 'a+') as f:\n",
    "    with redirect_stdout(f):\n",
    "        print('MEDIUM LOG STARTS')\n",
    "        for i in range(1,50):\n",
    "            print(f\"\\n--------------\\nCURRENT i = {i}\\n\")\n",
    "            sys.stdout.flush()\n",
    "            try:\n",
    "                sol_dict = solve_process(f\"inputs/medium-{i}.in\")\n",
    "                sys.stdout.flush()\n",
    "                ps.write_output_file(sol_dict, f\"cp_outputs/medium-{i}.out\")\n",
    "                sys.stdout.flush()\n",
    "            except: # catch *all* exceptions\n",
    "                e = sys.exc_info()[0]\n",
    "                print(f\"ERROR OCCURED: i = {i}, {repr(e)}\")\n",
    "                sys.stdout.flush()\n",
    "                continue"
   ]
  },
  {
   "cell_type": "code",
   "execution_count": 213,
   "metadata": {},
   "outputs": [
    {
     "data": {
      "text/plain": [
       "docplex.mp.SolveDetails(time=20.0116,status='time limit exceeded')"
      ]
     },
     "execution_count": 213,
     "metadata": {},
     "output_type": "execute_result"
    }
   ],
   "source": [
    "mdl.get_solve_details()"
   ]
  },
  {
   "cell_type": "code",
   "execution_count": 17,
   "metadata": {},
   "outputs": [
    {
     "name": "stdout",
     "output_type": "stream",
     "text": [
      "4200\n"
     ]
    },
    {
     "ename": "CpoException",
     "evalue": "Can not execute command 'cpoptimizer -angel'. Please check availability of required executable file.",
     "output_type": "error",
     "traceback": [
      "\u001b[0;31m---------------------------------------------------------------------------\u001b[0m",
      "\u001b[0;31mFileNotFoundError\u001b[0m                         Traceback (most recent call last)",
      "\u001b[0;32m~/anaconda3/lib/python3.7/site-packages/docplex/cp/solver/solver_local.py\u001b[0m in \u001b[0;36m__init__\u001b[0;34m(self, solver, params, context)\u001b[0m\n\u001b[1;32m    112\u001b[0m         \u001b[0;32mtry\u001b[0m\u001b[0;34m:\u001b[0m\u001b[0;34m\u001b[0m\u001b[0;34m\u001b[0m\u001b[0m\n\u001b[0;32m--> 113\u001b[0;31m             \u001b[0mself\u001b[0m\u001b[0;34m.\u001b[0m\u001b[0mprocess\u001b[0m \u001b[0;34m=\u001b[0m \u001b[0msubprocess\u001b[0m\u001b[0;34m.\u001b[0m\u001b[0mPopen\u001b[0m\u001b[0;34m(\u001b[0m\u001b[0mcmd\u001b[0m\u001b[0;34m,\u001b[0m \u001b[0mstdin\u001b[0m\u001b[0;34m=\u001b[0m\u001b[0msubprocess\u001b[0m\u001b[0;34m.\u001b[0m\u001b[0mPIPE\u001b[0m\u001b[0;34m,\u001b[0m \u001b[0mstderr\u001b[0m\u001b[0;34m=\u001b[0m\u001b[0msubprocess\u001b[0m\u001b[0;34m.\u001b[0m\u001b[0mSTDOUT\u001b[0m\u001b[0;34m,\u001b[0m \u001b[0mstdout\u001b[0m\u001b[0;34m=\u001b[0m\u001b[0msubprocess\u001b[0m\u001b[0;34m.\u001b[0m\u001b[0mPIPE\u001b[0m\u001b[0;34m,\u001b[0m \u001b[0muniversal_newlines\u001b[0m\u001b[0;34m=\u001b[0m\u001b[0;32mFalse\u001b[0m\u001b[0;34m)\u001b[0m\u001b[0;34m\u001b[0m\u001b[0;34m\u001b[0m\u001b[0m\n\u001b[0m\u001b[1;32m    114\u001b[0m         \u001b[0;32mexcept\u001b[0m\u001b[0;34m:\u001b[0m\u001b[0;34m\u001b[0m\u001b[0;34m\u001b[0m\u001b[0m\n",
      "\u001b[0;32m~/anaconda3/lib/python3.7/subprocess.py\u001b[0m in \u001b[0;36m__init__\u001b[0;34m(self, args, bufsize, executable, stdin, stdout, stderr, preexec_fn, close_fds, shell, cwd, env, universal_newlines, startupinfo, creationflags, restore_signals, start_new_session, pass_fds, encoding, errors, text)\u001b[0m\n\u001b[1;32m    774\u001b[0m                                 \u001b[0merrread\u001b[0m\u001b[0;34m,\u001b[0m \u001b[0merrwrite\u001b[0m\u001b[0;34m,\u001b[0m\u001b[0;34m\u001b[0m\u001b[0;34m\u001b[0m\u001b[0m\n\u001b[0;32m--> 775\u001b[0;31m                                 restore_signals, start_new_session)\n\u001b[0m\u001b[1;32m    776\u001b[0m         \u001b[0;32mexcept\u001b[0m\u001b[0;34m:\u001b[0m\u001b[0;34m\u001b[0m\u001b[0;34m\u001b[0m\u001b[0m\n",
      "\u001b[0;32m~/anaconda3/lib/python3.7/subprocess.py\u001b[0m in \u001b[0;36m_execute_child\u001b[0;34m(self, args, executable, preexec_fn, close_fds, pass_fds, cwd, env, startupinfo, creationflags, shell, p2cread, p2cwrite, c2pread, c2pwrite, errread, errwrite, restore_signals, start_new_session)\u001b[0m\n\u001b[1;32m   1521\u001b[0m                             \u001b[0merr_msg\u001b[0m \u001b[0;34m+=\u001b[0m \u001b[0;34m': '\u001b[0m \u001b[0;34m+\u001b[0m \u001b[0mrepr\u001b[0m\u001b[0;34m(\u001b[0m\u001b[0merr_filename\u001b[0m\u001b[0;34m)\u001b[0m\u001b[0;34m\u001b[0m\u001b[0;34m\u001b[0m\u001b[0m\n\u001b[0;32m-> 1522\u001b[0;31m                     \u001b[0;32mraise\u001b[0m \u001b[0mchild_exception_type\u001b[0m\u001b[0;34m(\u001b[0m\u001b[0merrno_num\u001b[0m\u001b[0;34m,\u001b[0m \u001b[0merr_msg\u001b[0m\u001b[0;34m,\u001b[0m \u001b[0merr_filename\u001b[0m\u001b[0;34m)\u001b[0m\u001b[0;34m\u001b[0m\u001b[0;34m\u001b[0m\u001b[0m\n\u001b[0m\u001b[1;32m   1523\u001b[0m                 \u001b[0;32mraise\u001b[0m \u001b[0mchild_exception_type\u001b[0m\u001b[0;34m(\u001b[0m\u001b[0merr_msg\u001b[0m\u001b[0;34m)\u001b[0m\u001b[0;34m\u001b[0m\u001b[0;34m\u001b[0m\u001b[0m\n",
      "\u001b[0;31mFileNotFoundError\u001b[0m: [Errno 2] No such file or directory: 'cpoptimizer': 'cpoptimizer'",
      "\nDuring handling of the above exception, another exception occurred:\n",
      "\u001b[0;31mCpoException\u001b[0m                              Traceback (most recent call last)",
      "\u001b[0;32m<ipython-input-17-d190336d42ce>\u001b[0m in \u001b[0;36m<module>\u001b[0;34m\u001b[0m\n\u001b[0;32m----> 1\u001b[0;31m \u001b[0msolve_process\u001b[0m\u001b[0;34m(\u001b[0m\u001b[0;34m\"inputs/medium-1.in\"\u001b[0m\u001b[0;34m)\u001b[0m\u001b[0;34m\u001b[0m\u001b[0;34m\u001b[0m\u001b[0m\n\u001b[0m",
      "\u001b[0;32m<ipython-input-8-dff6fedbdd8f>\u001b[0m in \u001b[0;36msolve_process\u001b[0;34m(input_path)\u001b[0m\n\u001b[1;32m      5\u001b[0m     \u001b[0mnbrooms\u001b[0m \u001b[0;34m=\u001b[0m \u001b[0;36m2\u001b[0m\u001b[0;34m\u001b[0m\u001b[0;34m\u001b[0m\u001b[0m\n\u001b[1;32m      6\u001b[0m     \u001b[0;32mwhile\u001b[0m \u001b[0mnbrooms\u001b[0m \u001b[0;34m<\u001b[0m \u001b[0mN\u001b[0m\u001b[0;34m:\u001b[0m\u001b[0;34m\u001b[0m\u001b[0;34m\u001b[0m\u001b[0m\n\u001b[0;32m----> 7\u001b[0;31m         \u001b[0msol\u001b[0m \u001b[0;34m=\u001b[0m \u001b[0mcp_model_and_solve\u001b[0m\u001b[0;34m(\u001b[0m\u001b[0mN\u001b[0m\u001b[0;34m,\u001b[0m \u001b[0mnbrooms\u001b[0m\u001b[0;34m)\u001b[0m\u001b[0;34m\u001b[0m\u001b[0;34m\u001b[0m\u001b[0m\n\u001b[0m\u001b[1;32m      8\u001b[0m         \u001b[0msol_dict\u001b[0m\u001b[0;34m,\u001b[0m \u001b[0mactual_nbrooms\u001b[0m \u001b[0;34m=\u001b[0m \u001b[0mclean_solution\u001b[0m\u001b[0;34m(\u001b[0m\u001b[0msol\u001b[0m\u001b[0;34m)\u001b[0m\u001b[0;34m\u001b[0m\u001b[0;34m\u001b[0m\u001b[0m\n\u001b[1;32m      9\u001b[0m         \u001b[0;32mif\u001b[0m \u001b[0;34m(\u001b[0m\u001b[0mis_valid\u001b[0m\u001b[0;34m(\u001b[0m\u001b[0msol_dict\u001b[0m\u001b[0;34m,\u001b[0m \u001b[0mactual_nbrooms\u001b[0m\u001b[0;34m)\u001b[0m\u001b[0;34m)\u001b[0m\u001b[0;34m:\u001b[0m\u001b[0;34m\u001b[0m\u001b[0;34m\u001b[0m\u001b[0m\n",
      "\u001b[0;32m<ipython-input-16-50b5ff625b56>\u001b[0m in \u001b[0;36mcp_model_and_solve\u001b[0;34m(N, NBROOMS)\u001b[0m\n\u001b[1;32m     21\u001b[0m     \u001b[0;31m# goal: maximize happiness\u001b[0m\u001b[0;34m\u001b[0m\u001b[0;34m\u001b[0m\u001b[0;34m\u001b[0m\u001b[0m\n\u001b[1;32m     22\u001b[0m     \u001b[0mmdl\u001b[0m\u001b[0;34m.\u001b[0m\u001b[0mmaximize\u001b[0m\u001b[0;34m(\u001b[0m\u001b[0mcp\u001b[0m\u001b[0;34m.\u001b[0m\u001b[0msum\u001b[0m\u001b[0;34m(\u001b[0m\u001b[0mH_mat\u001b[0m\u001b[0;34m[\u001b[0m\u001b[0mi\u001b[0m\u001b[0;34m,\u001b[0m\u001b[0mj\u001b[0m\u001b[0;34m]\u001b[0m \u001b[0;34m*\u001b[0m \u001b[0mv\u001b[0m\u001b[0;34m[\u001b[0m\u001b[0mi\u001b[0m\u001b[0;34m,\u001b[0m\u001b[0mk\u001b[0m\u001b[0;34m]\u001b[0m \u001b[0;34m*\u001b[0m \u001b[0mv\u001b[0m\u001b[0;34m[\u001b[0m\u001b[0mj\u001b[0m\u001b[0;34m,\u001b[0m\u001b[0mk\u001b[0m\u001b[0;34m]\u001b[0m \u001b[0;32mfor\u001b[0m \u001b[0mi\u001b[0m \u001b[0;32min\u001b[0m \u001b[0mR\u001b[0m \u001b[0;32mfor\u001b[0m \u001b[0mj\u001b[0m \u001b[0;32min\u001b[0m \u001b[0mrange\u001b[0m\u001b[0;34m(\u001b[0m\u001b[0mi\u001b[0m\u001b[0;34m,\u001b[0m\u001b[0mN\u001b[0m\u001b[0;34m)\u001b[0m \u001b[0;32mfor\u001b[0m \u001b[0mk\u001b[0m \u001b[0;32min\u001b[0m \u001b[0mR\u001b[0m\u001b[0;34m)\u001b[0m\u001b[0;34m)\u001b[0m\u001b[0;34m\u001b[0m\u001b[0;34m\u001b[0m\u001b[0m\n\u001b[0;32m---> 23\u001b[0;31m     \u001b[0mcpsol\u001b[0m \u001b[0;34m=\u001b[0m \u001b[0mmdl\u001b[0m\u001b[0;34m.\u001b[0m\u001b[0msolve\u001b[0m\u001b[0;34m(\u001b[0m\u001b[0mTimeLimit\u001b[0m\u001b[0;34m=\u001b[0m\u001b[0;36m20\u001b[0m\u001b[0;34m)\u001b[0m\u001b[0;34m\u001b[0m\u001b[0;34m\u001b[0m\u001b[0m\n\u001b[0m\u001b[1;32m     24\u001b[0m     \u001b[0;32mreturn\u001b[0m \u001b[0mcpsol\u001b[0m\u001b[0;34m\u001b[0m\u001b[0;34m\u001b[0m\u001b[0m\n",
      "\u001b[0;32m~/anaconda3/lib/python3.7/site-packages/docplex/cp/model.py\u001b[0m in \u001b[0;36msolve\u001b[0;34m(self, **kwargs)\u001b[0m\n\u001b[1;32m    993\u001b[0m             \u001b[0;34m:\u001b[0m\u001b[0;32mclass\u001b[0m\u001b[0;34m:\u001b[0m\u001b[0;31m`\u001b[0m\u001b[0;34m~\u001b[0m\u001b[0mdocplex\u001b[0m\u001b[0;34m.\u001b[0m\u001b[0mcp\u001b[0m\u001b[0;34m.\u001b[0m\u001b[0mutils\u001b[0m\u001b[0;34m.\u001b[0m\u001b[0mCpoException\u001b[0m\u001b[0;31m`\u001b[0m\u001b[0;34m:\u001b[0m \u001b[0;34m(\u001b[0m\u001b[0;32mor\u001b[0m \u001b[0mderived\u001b[0m\u001b[0;34m)\u001b[0m \u001b[0;32mif\u001b[0m \u001b[0merror\u001b[0m\u001b[0;34m.\u001b[0m\u001b[0;34m\u001b[0m\u001b[0;34m\u001b[0m\u001b[0m\n\u001b[1;32m    994\u001b[0m         \"\"\"\n\u001b[0;32m--> 995\u001b[0;31m         \u001b[0msolver\u001b[0m \u001b[0;34m=\u001b[0m \u001b[0mself\u001b[0m\u001b[0;34m.\u001b[0m\u001b[0m_create_solver\u001b[0m\u001b[0;34m(\u001b[0m\u001b[0;34m**\u001b[0m\u001b[0mkwargs\u001b[0m\u001b[0;34m)\u001b[0m\u001b[0;34m\u001b[0m\u001b[0;34m\u001b[0m\u001b[0m\n\u001b[0m\u001b[1;32m    996\u001b[0m         \u001b[0mmsol\u001b[0m \u001b[0;34m=\u001b[0m \u001b[0msolver\u001b[0m\u001b[0;34m.\u001b[0m\u001b[0msolve\u001b[0m\u001b[0;34m(\u001b[0m\u001b[0;34m)\u001b[0m\u001b[0;34m\u001b[0m\u001b[0;34m\u001b[0m\u001b[0m\n\u001b[1;32m    997\u001b[0m         \u001b[0msolver\u001b[0m\u001b[0;34m.\u001b[0m\u001b[0mend\u001b[0m\u001b[0;34m(\u001b[0m\u001b[0;34m)\u001b[0m\u001b[0;34m\u001b[0m\u001b[0;34m\u001b[0m\u001b[0m\n",
      "\u001b[0;32m~/anaconda3/lib/python3.7/site-packages/docplex/cp/model.py\u001b[0m in \u001b[0;36m_create_solver\u001b[0;34m(self, **kwargs)\u001b[0m\n\u001b[1;32m   1447\u001b[0m             \u001b[0mNew\u001b[0m \u001b[0msolver\u001b[0m \u001b[0mproperly\u001b[0m \u001b[0minitialized\u001b[0m\u001b[0;34m.\u001b[0m\u001b[0;34m\u001b[0m\u001b[0;34m\u001b[0m\u001b[0m\n\u001b[1;32m   1448\u001b[0m         \"\"\"\n\u001b[0;32m-> 1449\u001b[0;31m         \u001b[0mslvr\u001b[0m \u001b[0;34m=\u001b[0m \u001b[0mCpoSolver\u001b[0m\u001b[0;34m(\u001b[0m\u001b[0mself\u001b[0m\u001b[0;34m,\u001b[0m \u001b[0;34m**\u001b[0m\u001b[0mkwargs\u001b[0m\u001b[0;34m)\u001b[0m\u001b[0;34m\u001b[0m\u001b[0;34m\u001b[0m\u001b[0m\n\u001b[0m\u001b[1;32m   1450\u001b[0m         \u001b[0;31m# Add solvers listeners\u001b[0m\u001b[0;34m\u001b[0m\u001b[0;34m\u001b[0m\u001b[0;34m\u001b[0m\u001b[0m\n\u001b[1;32m   1451\u001b[0m         \u001b[0;32mfor\u001b[0m \u001b[0ml\u001b[0m \u001b[0;32min\u001b[0m \u001b[0mself\u001b[0m\u001b[0;34m.\u001b[0m\u001b[0mlisteners\u001b[0m\u001b[0;34m:\u001b[0m\u001b[0;34m\u001b[0m\u001b[0;34m\u001b[0m\u001b[0m\n",
      "\u001b[0;32m~/anaconda3/lib/python3.7/site-packages/docplex/cp/solver/solver.py\u001b[0m in \u001b[0;36m__init__\u001b[0;34m(self, model, **kwargs)\u001b[0m\n\u001b[1;32m    450\u001b[0m \u001b[0;34m\u001b[0m\u001b[0m\n\u001b[1;32m    451\u001b[0m         \u001b[0;31m# Determine appropriate solver agent\u001b[0m\u001b[0;34m\u001b[0m\u001b[0;34m\u001b[0m\u001b[0;34m\u001b[0m\u001b[0m\n\u001b[0;32m--> 452\u001b[0;31m         \u001b[0mself\u001b[0m\u001b[0;34m.\u001b[0m\u001b[0magent\u001b[0m \u001b[0;34m=\u001b[0m \u001b[0mself\u001b[0m\u001b[0;34m.\u001b[0m\u001b[0m_get_solver_agent\u001b[0m\u001b[0;34m(\u001b[0m\u001b[0;34m)\u001b[0m\u001b[0;34m\u001b[0m\u001b[0;34m\u001b[0m\u001b[0m\n\u001b[0m\u001b[1;32m    453\u001b[0m \u001b[0;34m\u001b[0m\u001b[0m\n\u001b[1;32m    454\u001b[0m         \u001b[0;31m# Add configured default listeners if any\u001b[0m\u001b[0;34m\u001b[0m\u001b[0;34m\u001b[0m\u001b[0;34m\u001b[0m\u001b[0m\n",
      "\u001b[0;32m~/anaconda3/lib/python3.7/site-packages/docplex/cp/solver/solver.py\u001b[0m in \u001b[0;36m_get_solver_agent\u001b[0;34m(self)\u001b[0m\n\u001b[1;32m   1004\u001b[0m         \u001b[0;32mif\u001b[0m \u001b[0mis_string\u001b[0m\u001b[0;34m(\u001b[0m\u001b[0malist\u001b[0m\u001b[0;34m)\u001b[0m\u001b[0;34m:\u001b[0m\u001b[0;34m\u001b[0m\u001b[0;34m\u001b[0m\u001b[0m\n\u001b[1;32m   1005\u001b[0m             \u001b[0maname\u001b[0m \u001b[0;34m=\u001b[0m \u001b[0malist\u001b[0m\u001b[0;34m\u001b[0m\u001b[0;34m\u001b[0m\u001b[0m\n\u001b[0;32m-> 1006\u001b[0;31m             \u001b[0magent\u001b[0m \u001b[0;34m=\u001b[0m \u001b[0mself\u001b[0m\u001b[0;34m.\u001b[0m\u001b[0m_create_solver_agent\u001b[0m\u001b[0;34m(\u001b[0m\u001b[0malist\u001b[0m\u001b[0;34m)\u001b[0m\u001b[0;34m\u001b[0m\u001b[0;34m\u001b[0m\u001b[0m\n\u001b[0m\u001b[1;32m   1007\u001b[0m         \u001b[0;32melse\u001b[0m\u001b[0;34m:\u001b[0m\u001b[0;34m\u001b[0m\u001b[0;34m\u001b[0m\u001b[0m\n\u001b[1;32m   1008\u001b[0m             \u001b[0;31m# Search first available agent in the list\u001b[0m\u001b[0;34m\u001b[0m\u001b[0;34m\u001b[0m\u001b[0;34m\u001b[0m\u001b[0m\n",
      "\u001b[0;32m~/anaconda3/lib/python3.7/site-packages/docplex/cp/solver/solver.py\u001b[0m in \u001b[0;36m_create_solver_agent\u001b[0;34m(self, aname)\u001b[0m\n\u001b[1;32m   1058\u001b[0m \u001b[0;34m\u001b[0m\u001b[0m\n\u001b[1;32m   1059\u001b[0m         \u001b[0;31m# Create agent instance\u001b[0m\u001b[0;34m\u001b[0m\u001b[0;34m\u001b[0m\u001b[0;34m\u001b[0m\u001b[0m\n\u001b[0;32m-> 1060\u001b[0;31m         \u001b[0magent\u001b[0m \u001b[0;34m=\u001b[0m \u001b[0msclass\u001b[0m\u001b[0;34m(\u001b[0m\u001b[0mself\u001b[0m\u001b[0;34m,\u001b[0m \u001b[0msctx\u001b[0m\u001b[0;34m.\u001b[0m\u001b[0mparams\u001b[0m\u001b[0;34m,\u001b[0m \u001b[0msctx\u001b[0m\u001b[0;34m)\u001b[0m\u001b[0;34m\u001b[0m\u001b[0;34m\u001b[0m\u001b[0m\n\u001b[0m\u001b[1;32m   1061\u001b[0m         \u001b[0;32mreturn\u001b[0m \u001b[0magent\u001b[0m\u001b[0;34m\u001b[0m\u001b[0;34m\u001b[0m\u001b[0m\n\u001b[1;32m   1062\u001b[0m \u001b[0;34m\u001b[0m\u001b[0m\n",
      "\u001b[0;32m~/anaconda3/lib/python3.7/site-packages/docplex/cp/solver/solver_local.py\u001b[0m in \u001b[0;36m__init__\u001b[0;34m(self, solver, params, context)\u001b[0m\n\u001b[1;32m    113\u001b[0m             \u001b[0mself\u001b[0m\u001b[0;34m.\u001b[0m\u001b[0mprocess\u001b[0m \u001b[0;34m=\u001b[0m \u001b[0msubprocess\u001b[0m\u001b[0;34m.\u001b[0m\u001b[0mPopen\u001b[0m\u001b[0;34m(\u001b[0m\u001b[0mcmd\u001b[0m\u001b[0;34m,\u001b[0m \u001b[0mstdin\u001b[0m\u001b[0;34m=\u001b[0m\u001b[0msubprocess\u001b[0m\u001b[0;34m.\u001b[0m\u001b[0mPIPE\u001b[0m\u001b[0;34m,\u001b[0m \u001b[0mstderr\u001b[0m\u001b[0;34m=\u001b[0m\u001b[0msubprocess\u001b[0m\u001b[0;34m.\u001b[0m\u001b[0mSTDOUT\u001b[0m\u001b[0;34m,\u001b[0m \u001b[0mstdout\u001b[0m\u001b[0;34m=\u001b[0m\u001b[0msubprocess\u001b[0m\u001b[0;34m.\u001b[0m\u001b[0mPIPE\u001b[0m\u001b[0;34m,\u001b[0m \u001b[0muniversal_newlines\u001b[0m\u001b[0;34m=\u001b[0m\u001b[0;32mFalse\u001b[0m\u001b[0;34m)\u001b[0m\u001b[0;34m\u001b[0m\u001b[0;34m\u001b[0m\u001b[0m\n\u001b[1;32m    114\u001b[0m         \u001b[0;32mexcept\u001b[0m\u001b[0;34m:\u001b[0m\u001b[0;34m\u001b[0m\u001b[0;34m\u001b[0m\u001b[0m\n\u001b[0;32m--> 115\u001b[0;31m             \u001b[0;32mraise\u001b[0m \u001b[0mCpoException\u001b[0m\u001b[0;34m(\u001b[0m\u001b[0;34m\"Can not execute command '{}'. Please check availability of required executable file.\"\u001b[0m\u001b[0;34m.\u001b[0m\u001b[0mformat\u001b[0m\u001b[0;34m(\u001b[0m\u001b[0;34m' '\u001b[0m\u001b[0;34m.\u001b[0m\u001b[0mjoin\u001b[0m\u001b[0;34m(\u001b[0m\u001b[0mcmd\u001b[0m\u001b[0;34m)\u001b[0m\u001b[0;34m)\u001b[0m\u001b[0;34m)\u001b[0m\u001b[0;34m\u001b[0m\u001b[0;34m\u001b[0m\u001b[0m\n\u001b[0m\u001b[1;32m    116\u001b[0m         \u001b[0mself\u001b[0m\u001b[0;34m.\u001b[0m\u001b[0mpout\u001b[0m \u001b[0;34m=\u001b[0m \u001b[0mself\u001b[0m\u001b[0;34m.\u001b[0m\u001b[0mprocess\u001b[0m\u001b[0;34m.\u001b[0m\u001b[0mstdin\u001b[0m\u001b[0;34m\u001b[0m\u001b[0;34m\u001b[0m\u001b[0m\n\u001b[1;32m    117\u001b[0m         \u001b[0mself\u001b[0m\u001b[0;34m.\u001b[0m\u001b[0mpin\u001b[0m \u001b[0;34m=\u001b[0m \u001b[0mself\u001b[0m\u001b[0;34m.\u001b[0m\u001b[0mprocess\u001b[0m\u001b[0;34m.\u001b[0m\u001b[0mstdout\u001b[0m\u001b[0;34m\u001b[0m\u001b[0;34m\u001b[0m\u001b[0m\n",
      "\u001b[0;31mCpoException\u001b[0m: Can not execute command 'cpoptimizer -angel'. Please check availability of required executable file."
     ]
    }
   ],
   "source": [
    "solve_process(\"inputs/medium-1.in\")"
   ]
  },
  {
   "cell_type": "code",
   "execution_count": 212,
   "metadata": {
    "collapsed": true,
    "jupyter": {
     "outputs_hidden": true
    }
   },
   "outputs": [
    {
     "name": "stdout",
     "output_type": "stream",
     "text": [
      "# of rooms:  2\n",
      "D:  {0: 0, 1: 0, 2: 0, 3: 0, 4: 0, 5: 1, 6: 1, 7: 1, 8: 1, 9: 1}\n"
     ]
    },
    {
     "ename": "AssertionError",
     "evalue": "",
     "output_type": "error",
     "traceback": [
      "\u001b[0;31m---------------------------------------------------------------------------\u001b[0m",
      "\u001b[0;31mAssertionError\u001b[0m                            Traceback (most recent call last)",
      "\u001b[0;32m<ipython-input-212-3df4e02049c1>\u001b[0m in \u001b[0;36m<module>\u001b[0;34m\u001b[0m\n\u001b[0;32m----> 1\u001b[0;31m \u001b[0mmsol_dict\u001b[0m \u001b[0;34m=\u001b[0m \u001b[0mps\u001b[0m\u001b[0;34m.\u001b[0m\u001b[0mread_output_file\u001b[0m\u001b[0;34m(\u001b[0m\u001b[0;34m\"outputs/small-133.out\"\u001b[0m\u001b[0;34m,\u001b[0m \u001b[0mG\u001b[0m\u001b[0;34m,\u001b[0m \u001b[0mS_MAX\u001b[0m\u001b[0;34m)\u001b[0m\u001b[0;34m\u001b[0m\u001b[0;34m\u001b[0m\u001b[0m\n\u001b[0m\u001b[1;32m      2\u001b[0m \u001b[0mut\u001b[0m\u001b[0;34m.\u001b[0m\u001b[0mcalculate_happiness\u001b[0m\u001b[0;34m(\u001b[0m\u001b[0mmsol_dict\u001b[0m\u001b[0;34m,\u001b[0m \u001b[0mG\u001b[0m\u001b[0;34m)\u001b[0m\u001b[0;34m\u001b[0m\u001b[0;34m\u001b[0m\u001b[0m\n",
      "\u001b[0;32m~/projects/cs170-proj/parse.py\u001b[0m in \u001b[0;36mread_output_file\u001b[0;34m(path, G, s)\u001b[0m\n\u001b[1;32m    108\u001b[0m         \u001b[0mprint\u001b[0m\u001b[0;34m(\u001b[0m\u001b[0;34m\"# of rooms: \"\u001b[0m\u001b[0;34m,\u001b[0m \u001b[0mlen\u001b[0m\u001b[0;34m(\u001b[0m\u001b[0mrooms\u001b[0m\u001b[0;34m)\u001b[0m\u001b[0;34m)\u001b[0m\u001b[0;34m\u001b[0m\u001b[0;34m\u001b[0m\u001b[0m\n\u001b[1;32m    109\u001b[0m         \u001b[0mprint\u001b[0m\u001b[0;34m(\u001b[0m\u001b[0;34m\"D: \"\u001b[0m\u001b[0;34m,\u001b[0m \u001b[0mD\u001b[0m\u001b[0;34m)\u001b[0m\u001b[0;34m\u001b[0m\u001b[0;34m\u001b[0m\u001b[0m\n\u001b[0;32m--> 110\u001b[0;31m         \u001b[0;32massert\u001b[0m \u001b[0mlen\u001b[0m\u001b[0;34m(\u001b[0m\u001b[0mnodes\u001b[0m\u001b[0;34m)\u001b[0m \u001b[0;34m==\u001b[0m \u001b[0mlen\u001b[0m\u001b[0;34m(\u001b[0m\u001b[0mG\u001b[0m\u001b[0;34m)\u001b[0m\u001b[0;34m\u001b[0m\u001b[0;34m\u001b[0m\u001b[0m\n\u001b[0m\u001b[1;32m    111\u001b[0m         \u001b[0;32massert\u001b[0m \u001b[0mutils\u001b[0m\u001b[0;34m.\u001b[0m\u001b[0mis_valid_solution\u001b[0m\u001b[0;34m(\u001b[0m\u001b[0mD\u001b[0m\u001b[0;34m,\u001b[0m \u001b[0mG\u001b[0m\u001b[0;34m,\u001b[0m \u001b[0ms\u001b[0m\u001b[0;34m,\u001b[0m \u001b[0mlen\u001b[0m\u001b[0;34m(\u001b[0m\u001b[0mrooms\u001b[0m\u001b[0;34m)\u001b[0m\u001b[0;34m)\u001b[0m\u001b[0;34m\u001b[0m\u001b[0;34m\u001b[0m\u001b[0m\n\u001b[1;32m    112\u001b[0m \u001b[0;34m\u001b[0m\u001b[0m\n",
      "\u001b[0;31mAssertionError\u001b[0m: "
     ]
    }
   ],
   "source": [
    "msol_dict = ps.read_output_file(\"outputs/small-133.out\", G, S_MAX)\n",
    "ut.calculate_happiness(msol_dict, G)"
   ]
  },
  {
   "cell_type": "markdown",
   "metadata": {},
   "source": [
    "# Build Model (MP, based on vertex not edges, 2D)\n",
    "\n",
    "Use 2D model. However, this requires multiplying x\\[i,k] and x\\[j,k]; current version of docplex doesn't have this (quad constraint/ quad goal).  \n",
    "Community edition has this feature, but # of variables and constraints are limited < 1000 (won't work for N=50 since vars = 2500).  \n",
    "variable dict: (i, k) where i is student, k is room assigned"
   ]
  },
  {
   "cell_type": "code",
   "execution_count": null,
   "metadata": {},
   "outputs": [],
   "source": [
    "cp."
   ]
  },
  {
   "cell_type": "code",
   "execution_count": 6,
   "metadata": {},
   "outputs": [],
   "source": [
    "def init_mdl(N):\n",
    "# ref to the mp sudoku example: https://ibmdecisionoptimization.github.io/docplex-doc/mp/creating_mdl.html\n",
    "    global mdl, v\n",
    "    mdl = cp.Cp(\"breakout_room_mp\")\n",
    "    R = range(N)\n",
    "    idx = [(i,k) for i in R for k in R]\n",
    "    # v is room assignment; key is (i, j, r) where i,j is a pair of students, and r is the room they are assigned to\n",
    "    v = mdl.binary_var_dict(idx, name=\"v\") \n",
    "    room_count = mdl.integer_var(1, N, \"room_count\")\n",
    "\n",
    "    # constraint 1: everyone is assigned to one room. \n",
    "    for i in R:\n",
    "            mdl.add_constraint(mdl.sum(v[i,k] for k in R) == 1)\n",
    "\n",
    "    return mdl, v\n",
    "\n",
    "    # constraint 2: rooms are using consecutive numbers starting from 0. \n",
    "    # if nobody is in one room, do not assign people to rooms with no > this one\n",
    "    # also: calculate room count\n",
    "    # now: count all partners in the assigned group!\n",
    "    for k in range(N-1):\n",
    "        room_sum = mdl.sum(v[i,k] for i in R)\n",
    "        for i in R:\n",
    "            mdl.add_constraint(mdl.if_then(room_sum == 0, v[i,k+1]==0))\n",
    "            mdl.add_constraint(mdl.if_then(room_sum == 0, room_count <= k))\n",
    "            mdl.add_constraint(mdl.if_then(room_sum != 0, room_count >= k + 1))"
   ]
  },
  {
   "cell_type": "code",
   "execution_count": 7,
   "metadata": {
    "collapsed": true,
    "jupyter": {
     "outputs_hidden": true
    }
   },
   "outputs": [
    {
     "data": {
      "text/plain": [
       "(<docplex.mp.model.Model at 0x7fb9537420d0>,\n",
       " {(0, 0): docplex.mp.Var(type=B,name='v_0_0'),\n",
       "  (0, 1): docplex.mp.Var(type=B,name='v_0_1'),\n",
       "  (0, 2): docplex.mp.Var(type=B,name='v_0_2'),\n",
       "  (0, 3): docplex.mp.Var(type=B,name='v_0_3'),\n",
       "  (0, 4): docplex.mp.Var(type=B,name='v_0_4'),\n",
       "  (0, 5): docplex.mp.Var(type=B,name='v_0_5'),\n",
       "  (0, 6): docplex.mp.Var(type=B,name='v_0_6'),\n",
       "  (0, 7): docplex.mp.Var(type=B,name='v_0_7'),\n",
       "  (0, 8): docplex.mp.Var(type=B,name='v_0_8'),\n",
       "  (0, 9): docplex.mp.Var(type=B,name='v_0_9'),\n",
       "  (1, 0): docplex.mp.Var(type=B,name='v_1_0'),\n",
       "  (1, 1): docplex.mp.Var(type=B,name='v_1_1'),\n",
       "  (1, 2): docplex.mp.Var(type=B,name='v_1_2'),\n",
       "  (1, 3): docplex.mp.Var(type=B,name='v_1_3'),\n",
       "  (1, 4): docplex.mp.Var(type=B,name='v_1_4'),\n",
       "  (1, 5): docplex.mp.Var(type=B,name='v_1_5'),\n",
       "  (1, 6): docplex.mp.Var(type=B,name='v_1_6'),\n",
       "  (1, 7): docplex.mp.Var(type=B,name='v_1_7'),\n",
       "  (1, 8): docplex.mp.Var(type=B,name='v_1_8'),\n",
       "  (1, 9): docplex.mp.Var(type=B,name='v_1_9'),\n",
       "  (2, 0): docplex.mp.Var(type=B,name='v_2_0'),\n",
       "  (2, 1): docplex.mp.Var(type=B,name='v_2_1'),\n",
       "  (2, 2): docplex.mp.Var(type=B,name='v_2_2'),\n",
       "  (2, 3): docplex.mp.Var(type=B,name='v_2_3'),\n",
       "  (2, 4): docplex.mp.Var(type=B,name='v_2_4'),\n",
       "  (2, 5): docplex.mp.Var(type=B,name='v_2_5'),\n",
       "  (2, 6): docplex.mp.Var(type=B,name='v_2_6'),\n",
       "  (2, 7): docplex.mp.Var(type=B,name='v_2_7'),\n",
       "  (2, 8): docplex.mp.Var(type=B,name='v_2_8'),\n",
       "  (2, 9): docplex.mp.Var(type=B,name='v_2_9'),\n",
       "  (3, 0): docplex.mp.Var(type=B,name='v_3_0'),\n",
       "  (3, 1): docplex.mp.Var(type=B,name='v_3_1'),\n",
       "  (3, 2): docplex.mp.Var(type=B,name='v_3_2'),\n",
       "  (3, 3): docplex.mp.Var(type=B,name='v_3_3'),\n",
       "  (3, 4): docplex.mp.Var(type=B,name='v_3_4'),\n",
       "  (3, 5): docplex.mp.Var(type=B,name='v_3_5'),\n",
       "  (3, 6): docplex.mp.Var(type=B,name='v_3_6'),\n",
       "  (3, 7): docplex.mp.Var(type=B,name='v_3_7'),\n",
       "  (3, 8): docplex.mp.Var(type=B,name='v_3_8'),\n",
       "  (3, 9): docplex.mp.Var(type=B,name='v_3_9'),\n",
       "  (4, 0): docplex.mp.Var(type=B,name='v_4_0'),\n",
       "  (4, 1): docplex.mp.Var(type=B,name='v_4_1'),\n",
       "  (4, 2): docplex.mp.Var(type=B,name='v_4_2'),\n",
       "  (4, 3): docplex.mp.Var(type=B,name='v_4_3'),\n",
       "  (4, 4): docplex.mp.Var(type=B,name='v_4_4'),\n",
       "  (4, 5): docplex.mp.Var(type=B,name='v_4_5'),\n",
       "  (4, 6): docplex.mp.Var(type=B,name='v_4_6'),\n",
       "  (4, 7): docplex.mp.Var(type=B,name='v_4_7'),\n",
       "  (4, 8): docplex.mp.Var(type=B,name='v_4_8'),\n",
       "  (4, 9): docplex.mp.Var(type=B,name='v_4_9'),\n",
       "  (5, 0): docplex.mp.Var(type=B,name='v_5_0'),\n",
       "  (5, 1): docplex.mp.Var(type=B,name='v_5_1'),\n",
       "  (5, 2): docplex.mp.Var(type=B,name='v_5_2'),\n",
       "  (5, 3): docplex.mp.Var(type=B,name='v_5_3'),\n",
       "  (5, 4): docplex.mp.Var(type=B,name='v_5_4'),\n",
       "  (5, 5): docplex.mp.Var(type=B,name='v_5_5'),\n",
       "  (5, 6): docplex.mp.Var(type=B,name='v_5_6'),\n",
       "  (5, 7): docplex.mp.Var(type=B,name='v_5_7'),\n",
       "  (5, 8): docplex.mp.Var(type=B,name='v_5_8'),\n",
       "  (5, 9): docplex.mp.Var(type=B,name='v_5_9'),\n",
       "  (6, 0): docplex.mp.Var(type=B,name='v_6_0'),\n",
       "  (6, 1): docplex.mp.Var(type=B,name='v_6_1'),\n",
       "  (6, 2): docplex.mp.Var(type=B,name='v_6_2'),\n",
       "  (6, 3): docplex.mp.Var(type=B,name='v_6_3'),\n",
       "  (6, 4): docplex.mp.Var(type=B,name='v_6_4'),\n",
       "  (6, 5): docplex.mp.Var(type=B,name='v_6_5'),\n",
       "  (6, 6): docplex.mp.Var(type=B,name='v_6_6'),\n",
       "  (6, 7): docplex.mp.Var(type=B,name='v_6_7'),\n",
       "  (6, 8): docplex.mp.Var(type=B,name='v_6_8'),\n",
       "  (6, 9): docplex.mp.Var(type=B,name='v_6_9'),\n",
       "  (7, 0): docplex.mp.Var(type=B,name='v_7_0'),\n",
       "  (7, 1): docplex.mp.Var(type=B,name='v_7_1'),\n",
       "  (7, 2): docplex.mp.Var(type=B,name='v_7_2'),\n",
       "  (7, 3): docplex.mp.Var(type=B,name='v_7_3'),\n",
       "  (7, 4): docplex.mp.Var(type=B,name='v_7_4'),\n",
       "  (7, 5): docplex.mp.Var(type=B,name='v_7_5'),\n",
       "  (7, 6): docplex.mp.Var(type=B,name='v_7_6'),\n",
       "  (7, 7): docplex.mp.Var(type=B,name='v_7_7'),\n",
       "  (7, 8): docplex.mp.Var(type=B,name='v_7_8'),\n",
       "  (7, 9): docplex.mp.Var(type=B,name='v_7_9'),\n",
       "  (8, 0): docplex.mp.Var(type=B,name='v_8_0'),\n",
       "  (8, 1): docplex.mp.Var(type=B,name='v_8_1'),\n",
       "  (8, 2): docplex.mp.Var(type=B,name='v_8_2'),\n",
       "  (8, 3): docplex.mp.Var(type=B,name='v_8_3'),\n",
       "  (8, 4): docplex.mp.Var(type=B,name='v_8_4'),\n",
       "  (8, 5): docplex.mp.Var(type=B,name='v_8_5'),\n",
       "  (8, 6): docplex.mp.Var(type=B,name='v_8_6'),\n",
       "  (8, 7): docplex.mp.Var(type=B,name='v_8_7'),\n",
       "  (8, 8): docplex.mp.Var(type=B,name='v_8_8'),\n",
       "  (8, 9): docplex.mp.Var(type=B,name='v_8_9'),\n",
       "  (9, 0): docplex.mp.Var(type=B,name='v_9_0'),\n",
       "  (9, 1): docplex.mp.Var(type=B,name='v_9_1'),\n",
       "  (9, 2): docplex.mp.Var(type=B,name='v_9_2'),\n",
       "  (9, 3): docplex.mp.Var(type=B,name='v_9_3'),\n",
       "  (9, 4): docplex.mp.Var(type=B,name='v_9_4'),\n",
       "  (9, 5): docplex.mp.Var(type=B,name='v_9_5'),\n",
       "  (9, 6): docplex.mp.Var(type=B,name='v_9_6'),\n",
       "  (9, 7): docplex.mp.Var(type=B,name='v_9_7'),\n",
       "  (9, 8): docplex.mp.Var(type=B,name='v_9_8'),\n",
       "  (9, 9): docplex.mp.Var(type=B,name='v_9_9')})"
      ]
     },
     "execution_count": 7,
     "metadata": {},
     "output_type": "execute_result"
    }
   ],
   "source": [
    "init_mdl(10)"
   ]
  },
  {
   "cell_type": "code",
   "execution_count": 28,
   "metadata": {},
   "outputs": [],
   "source": [
    "def model_and_solve(NBROOMS):\n",
    "# ref to the mp sudoku example: https://ibmdecisionoptimization.github.io/docplex-doc/mp/creating_model.html\n",
    "    global model\n",
    "        # constraint 3: stress level of each room is under the limit. \n",
    "    # how to find the number of rooms assigned? <- create a new variable\n",
    "    constraints = []\n",
    "    for r in R:\n",
    "        S_room = model.sum(S_mat[i,j] * x[i,r] * x[j,r] for i in R for j in range(i,N))\n",
    "        constraints.append(model.add_constraint(S_room <= S_MAX / NBROOMS))\n",
    "    # goal: maximize happiness\n",
    "    model.maximize(model.sum(H_mat[i,j] * x[i,j,k] for i in R for j in range(i,N) for k in R))\n",
    "    model.set_time_limit(5)\n",
    "    msol = model.solve()\n",
    "    model.remove_constraints(constraints)\n",
    "    model.remove_objective()\n",
    "    print(f\"happiness: {msol.objective_value}\")\n",
    "#     print(msol)\n",
    "    return msol"
   ]
  },
  {
   "cell_type": "code",
   "execution_count": 1,
   "metadata": {},
   "outputs": [
    {
     "name": "stdout",
     "output_type": "stream",
     "text": [
      "/bin/sh: cpoptimizer: command not found\n"
     ]
    }
   ],
   "source": [
    "!cpoptimizer"
   ]
  },
  {
   "cell_type": "code",
   "execution_count": null,
   "metadata": {},
   "outputs": [],
   "source": [
    "G, S_MAX, N, R, S_mat, H_mat, idx_3 = process_input(\"inputs_outputs/10.in\")"
   ]
  }
 ],
 "metadata": {
  "kernelspec": {
   "display_name": "Python 3",
   "language": "python",
   "name": "python3"
  },
  "language_info": {
   "codemirror_mode": {
    "name": "ipython",
    "version": 3
   },
   "file_extension": ".py",
   "mimetype": "text/x-python",
   "name": "python",
   "nbconvert_exporter": "python",
   "pygments_lexer": "ipython3",
   "version": "3.7.3"
  }
 },
 "nbformat": 4,
 "nbformat_minor": 4
}
