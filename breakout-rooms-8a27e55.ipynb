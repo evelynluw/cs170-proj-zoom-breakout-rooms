{
 "cells": [
  {
   "cell_type": "markdown",
   "metadata": {},
   "source": [
    "# CS170: Zoom Breakout Rooms\n",
    "Input: n = # of students,  \n",
    "Smax = Stress budget,  \n",
    "h_i_j, s_i_j = happiness & stress between each student pair  \n",
    "\n",
    "Output:  \n",
    "H_r = Happiness of breakout room r  \n",
    "S_r = stress of room r  \n",
    "H_total = total happiness  \n",
    "k = # of rooms opened  \n",
    "\n",
    "Constraints:  \n",
    "S_r < Smax / k  \n",
    "k = # of rooms opened.   \n",
    "\n",
    "Goal: maximize H total."
   ]
  },
  {
   "cell_type": "markdown",
   "metadata": {},
   "source": [
    "## importing files & libs"
   ]
  },
  {
   "cell_type": "code",
   "execution_count": 1,
   "metadata": {},
   "outputs": [
    {
     "name": "stdout",
     "output_type": "stream",
     "text": [
      "__pycache__\n",
      "breakout-rooms.ipynb\n",
      "input_create.ipynb\n",
      "input_create.ipynb.txt\n",
      "input_create.py\n",
      "inputs\n",
      "inputs_outputs\n",
      "outputs\n",
      "parse.py\n",
      "README.md\n",
      "reflection.txt\n",
      "samples\n",
      "solver.py\n",
      "utils.py\n"
     ]
    }
   ],
   "source": [
    "!ls"
   ]
  },
  {
   "cell_type": "code",
   "execution_count": 157,
   "metadata": {},
   "outputs": [],
   "source": [
    "import utils\n",
    "import utils as ut\n",
    "import parse as ps\n",
    "import networkx as nx\n",
    "from docplex.cp.model import *\n",
    "from docplex.mp.model import Model\n",
    "import numpy as np\n",
    "import pandas"
   ]
  },
  {
   "cell_type": "markdown",
   "metadata": {},
   "source": [
    "## Parsing Variables\n",
    "Input: n = # of students,\n",
    "Smax = Stress budget,\n",
    "h_i_j, s_i_j = happiness & stress between each student pair"
   ]
  },
  {
   "cell_type": "code",
   "execution_count": 265,
   "metadata": {
    "scrolled": true
   },
   "outputs": [],
   "source": [
    "def process_input(filename):\n",
    "    G, S_MAX = ps.read_input_file(filename)\n",
    "    N = len(G)\n",
    "    D = nx.to_dict_of_dicts(G)\n",
    "    R = range(N)\n",
    "    S_mat = np.zeros((N,N))\n",
    "    H_mat = np.zeros((N,N))\n",
    "    dic = D.copy()\n",
    "    idx = []\n",
    "    for i in R:\n",
    "        dic.pop(i);\n",
    "        idx.extend([(i, i, k) for k in R])\n",
    "        for j in dic.keys():\n",
    "            info = D[i][j]\n",
    "            S_mat[i,j]=info['stress']\n",
    "            H_mat[i,j]=info['happiness']\n",
    "            idx.extend([(i, j, k) for k in R])\n",
    "    #         D[i][j]['h'] = D[i][j].pop('happiness')\n",
    "    #         D[i][j]['s'] = D[i][j].pop('stress')\n",
    "    #         print(\"{}-{}: h={}, s={}\".format(i, j, info['happiness'], info['stress']))\n",
    "#     print(S_mat)\n",
    "#     print(H_mat)\n",
    "    print(len(idx))\n",
    "    return G, S_MAX, N, R, S_mat, H_mat, idx"
   ]
  },
  {
   "cell_type": "markdown",
   "metadata": {},
   "source": [
    "## Build Model (CP)"
   ]
  },
  {
   "cell_type": "code",
   "execution_count": 10,
   "metadata": {},
   "outputs": [],
   "source": [
    "# Create model\n",
    "mdl = CpoModel(\"breakout_rooms\")\n",
    "# Initialize model variable sets\n",
    "# total_rooms = 0"
   ]
  },
  {
   "cell_type": "code",
   "execution_count": 62,
   "metadata": {},
   "outputs": [],
   "source": [
    "def open_room(students_list):\n",
    "    '''\n",
    "    returns S_r, updates total_rooms, stress_of_rooms, and H_total\n",
    "    '''\n",
    "    S_r = 0\n",
    "    for i in len(students_list):\n",
    "        s = students_list.pop(0)\n",
    "        for other_s in students_list:\n",
    "            H_total += D[s][other_s]['h']\n",
    "            S_r += D[s][other_s]['s']\n",
    "    total_rooms += 1\n",
    "    stress_of_rooms.append(S_r)\n",
    "    return S_r"
   ]
  },
  {
   "cell_type": "markdown",
   "metadata": {},
   "source": [
    "count_different()\n",
    "sum()\n",
    "mdl.add(\"s1 <= s2\")"
   ]
  },
  {
   "cell_type": "code",
   "execution_count": 92,
   "metadata": {},
   "outputs": [
    {
     "data": {
      "text/plain": [
       "list"
      ]
     },
     "execution_count": 92,
     "metadata": {},
     "output_type": "execute_result"
    }
   ],
   "source": []
  },
  {
   "cell_type": "code",
   "execution_count": 94,
   "metadata": {},
   "outputs": [
    {
     "ename": "CpoException",
     "evalue": "CPO expression can not be used as boolean.",
     "output_type": "error",
     "traceback": [
      "\u001b[0;31m---------------------------------------------------------------------------\u001b[0m",
      "\u001b[0;31mCpoException\u001b[0m                              Traceback (most recent call last)",
      "\u001b[0;32m<ipython-input-94-d5e6b02a93ea>\u001b[0m in \u001b[0;36m<module>\u001b[0;34m\u001b[0m\n\u001b[1;32m     27\u001b[0m \u001b[0;32mfor\u001b[0m \u001b[0mno_r\u001b[0m \u001b[0;32min\u001b[0m \u001b[0mrange\u001b[0m\u001b[0;34m(\u001b[0m\u001b[0mN\u001b[0m\u001b[0;34m)\u001b[0m\u001b[0;34m:\u001b[0m \u001b[0;31m# for each room number\u001b[0m\u001b[0;34m\u001b[0m\u001b[0;34m\u001b[0m\u001b[0m\n\u001b[1;32m     28\u001b[0m \u001b[0;31m#     mdl.add(mdl.all_diff(x[i] - i for i in range(NB_QUEEN)))\u001b[0m\u001b[0;34m\u001b[0m\u001b[0;34m\u001b[0m\u001b[0;34m\u001b[0m\u001b[0m\n\u001b[0;32m---> 29\u001b[0;31m     \u001b[0mstudents_in_r\u001b[0m \u001b[0;34m=\u001b[0m \u001b[0;34m[\u001b[0m\u001b[0mst\u001b[0m \u001b[0;32mfor\u001b[0m \u001b[0mst\u001b[0m \u001b[0;32min\u001b[0m \u001b[0mrange\u001b[0m\u001b[0;34m(\u001b[0m\u001b[0mN\u001b[0m\u001b[0;34m)\u001b[0m \u001b[0;32mif\u001b[0m \u001b[0mroom_assignment\u001b[0m\u001b[0;34m[\u001b[0m\u001b[0mst\u001b[0m\u001b[0;34m]\u001b[0m \u001b[0;34m==\u001b[0m \u001b[0mno_r\u001b[0m\u001b[0;34m]\u001b[0m\u001b[0;34m\u001b[0m\u001b[0;34m\u001b[0m\u001b[0m\n\u001b[0m\u001b[1;32m     30\u001b[0m     \u001b[0mst\u001b[0m \u001b[0;34m=\u001b[0m \u001b[0mstudents_in_r\u001b[0m\u001b[0;34m.\u001b[0m\u001b[0mpop\u001b[0m\u001b[0;34m(\u001b[0m\u001b[0;36m0\u001b[0m\u001b[0;34m)\u001b[0m\u001b[0;34m\u001b[0m\u001b[0;34m\u001b[0m\u001b[0m\n\u001b[1;32m     31\u001b[0m     \u001b[0midx\u001b[0m \u001b[0;34m=\u001b[0m \u001b[0;34m[\u001b[0m\u001b[0;34m[\u001b[0m\u001b[0;34m]\u001b[0m\u001b[0;34m,\u001b[0m\u001b[0;34m[\u001b[0m\u001b[0;34m]\u001b[0m\u001b[0;34m]\u001b[0m\u001b[0;34m\u001b[0m\u001b[0;34m\u001b[0m\u001b[0m\n",
      "\u001b[0;32m<ipython-input-94-d5e6b02a93ea>\u001b[0m in \u001b[0;36m<listcomp>\u001b[0;34m(.0)\u001b[0m\n\u001b[1;32m     27\u001b[0m \u001b[0;32mfor\u001b[0m \u001b[0mno_r\u001b[0m \u001b[0;32min\u001b[0m \u001b[0mrange\u001b[0m\u001b[0;34m(\u001b[0m\u001b[0mN\u001b[0m\u001b[0;34m)\u001b[0m\u001b[0;34m:\u001b[0m \u001b[0;31m# for each room number\u001b[0m\u001b[0;34m\u001b[0m\u001b[0;34m\u001b[0m\u001b[0m\n\u001b[1;32m     28\u001b[0m \u001b[0;31m#     mdl.add(mdl.all_diff(x[i] - i for i in range(NB_QUEEN)))\u001b[0m\u001b[0;34m\u001b[0m\u001b[0;34m\u001b[0m\u001b[0;34m\u001b[0m\u001b[0m\n\u001b[0;32m---> 29\u001b[0;31m     \u001b[0mstudents_in_r\u001b[0m \u001b[0;34m=\u001b[0m \u001b[0;34m[\u001b[0m\u001b[0mst\u001b[0m \u001b[0;32mfor\u001b[0m \u001b[0mst\u001b[0m \u001b[0;32min\u001b[0m \u001b[0mrange\u001b[0m\u001b[0;34m(\u001b[0m\u001b[0mN\u001b[0m\u001b[0;34m)\u001b[0m \u001b[0;32mif\u001b[0m \u001b[0mroom_assignment\u001b[0m\u001b[0;34m[\u001b[0m\u001b[0mst\u001b[0m\u001b[0;34m]\u001b[0m \u001b[0;34m==\u001b[0m \u001b[0mno_r\u001b[0m\u001b[0;34m]\u001b[0m\u001b[0;34m\u001b[0m\u001b[0;34m\u001b[0m\u001b[0m\n\u001b[0m\u001b[1;32m     30\u001b[0m     \u001b[0mst\u001b[0m \u001b[0;34m=\u001b[0m \u001b[0mstudents_in_r\u001b[0m\u001b[0;34m.\u001b[0m\u001b[0mpop\u001b[0m\u001b[0;34m(\u001b[0m\u001b[0;36m0\u001b[0m\u001b[0;34m)\u001b[0m\u001b[0;34m\u001b[0m\u001b[0;34m\u001b[0m\u001b[0m\n\u001b[1;32m     31\u001b[0m     \u001b[0midx\u001b[0m \u001b[0;34m=\u001b[0m \u001b[0;34m[\u001b[0m\u001b[0;34m[\u001b[0m\u001b[0;34m]\u001b[0m\u001b[0;34m,\u001b[0m\u001b[0;34m[\u001b[0m\u001b[0;34m]\u001b[0m\u001b[0;34m]\u001b[0m\u001b[0;34m\u001b[0m\u001b[0;34m\u001b[0m\u001b[0m\n",
      "\u001b[0;32m/opt/conda/envs/Python-3.7-main/lib/python3.7/site-packages/docplex/cp/expression.py\u001b[0m in \u001b[0;36m__bool__\u001b[0;34m(self)\u001b[0m\n\u001b[1;32m    266\u001b[0m             \u001b[0mCpoException\u001b[0m \u001b[0;32mas\u001b[0m \u001b[0mCpoExpr\u001b[0m \u001b[0mshould\u001b[0m \u001b[0;32mnot\u001b[0m \u001b[0mbe\u001b[0m \u001b[0mused\u001b[0m \u001b[0;32mas\u001b[0m \u001b[0mboolean\u001b[0m\u001b[0;34m.\u001b[0m\u001b[0;34m\u001b[0m\u001b[0;34m\u001b[0m\u001b[0m\n\u001b[1;32m    267\u001b[0m         \"\"\"\n\u001b[0;32m--> 268\u001b[0;31m         \u001b[0;32mraise\u001b[0m \u001b[0mCpoException\u001b[0m\u001b[0;34m(\u001b[0m\u001b[0;34m\"CPO expression can not be used as boolean.\"\u001b[0m\u001b[0;34m)\u001b[0m\u001b[0;34m\u001b[0m\u001b[0;34m\u001b[0m\u001b[0m\n\u001b[0m\u001b[1;32m    269\u001b[0m \u001b[0;34m\u001b[0m\u001b[0m\n\u001b[1;32m    270\u001b[0m \u001b[0;34m\u001b[0m\u001b[0m\n",
      "\u001b[0;31mCpoException\u001b[0m: CPO expression can not be used as boolean."
     ]
    }
   ],
   "source": [
    "nbrooms = mdl.integer_var(0, N-1, \"nbrooms\") # number of rooms\n",
    "S_room_max = S_MAX / nbrooms\n",
    "room_assignment = mdl.integer_var_list(N, 0, N-1, \"room_assignment\")  # room_assignment[i]: the room student i is assigned to\n",
    "# constraint nbrooms to be the same as the total number of rooms assigned\n",
    "mdl.add(count_different(room_assignment) == nbrooms)\n",
    "# students_in_rooms = [[] for i in range(N)]\n",
    "# stress_of_rooms = []\n",
    "# H_total = 0  # total happiness\n",
    "# organize students by rooms they are assigned to\n",
    "# for st, r in zip(range(N), room_assignment):\n",
    "#     students_in_rooms[r].append(st)\n",
    "\n",
    "\n",
    "# # constraint S_r (total stress in a room) < S_MAX/nbrooms\n",
    "# for students in students_in_rooms:\n",
    "#     l = students.copy()\n",
    "#     S_r = 0\n",
    "#     for i in len(l):\n",
    "#         st = l.pop(0)\n",
    "#         for other_st in l:\n",
    "#             S_r += S_mat[st, other_st]\n",
    "#             H_total += H_mat[st, other_st]\n",
    "#     mdl.add(S_r < S_room_max)\n",
    "    \n",
    "    \n",
    "\n",
    "for no_r in range(N): # for each room number\n",
    "#     mdl.add(mdl.all_diff(x[i] - i for i in range(NB_QUEEN)))\n",
    "    students_in_r = [st for st in range(N) if room_assignment[st] == no_r]\n",
    "    st = students_in_r.pop(0)\n",
    "    idx = [[],[]]\n",
    "    for other_st in students_in_r:\n",
    "        idx[0].append(st)\n",
    "        idx[1].append(other_st)\n",
    "        mdl.add(sum(S_mat[idx]) < S_room_max)\n",
    "# constraint maximize total happiness\n",
    "mdl.add(mdl.maximize(H_total))\n",
    "msol = mdl.solve(TimeLimit=20, LogPeriod=3000)\n",
    "msol"
   ]
  },
  {
   "cell_type": "markdown",
   "metadata": {},
   "source": [
    "\n",
    "# Build model (MP)"
   ]
  },
  {
   "cell_type": "code",
   "execution_count": 266,
   "metadata": {},
   "outputs": [
    {
     "name": "stdout",
     "output_type": "stream",
     "text": [
      "63750\n"
     ]
    }
   ],
   "source": [
    "G, S_MAX, N, R, S_mat, H_mat, idx = process_input(\"inputs_outputs/50.in\")"
   ]
  },
  {
   "cell_type": "code",
   "execution_count": 241,
   "metadata": {},
   "outputs": [],
   "source": [
    "# ref to the mp sudoku example: https://ibmdecisionoptimization.github.io/docplex-doc/mp/creating_model.html\n",
    "model = Model(\"breakout_room_mp\")\n",
    "R = range(N)\n",
    "# X is room assignment; key is (i, j, r) where i,j is a pair of students, and r is the room they are assigned to\n",
    "x = model.binary_var_dict(idx, name=\"X\") \n",
    "# room_count = model.integer_var(1, N, \"room_count\")\n",
    "\n",
    "# constraint 1: each pair can only be assigned to one room. \n",
    "# -> for each pair, sum of all different room choices == 1\n",
    "# constaint 1.1: everyone can only be assigned to one room.\n",
    "# -> sum of one students assignment == 1\n",
    "for i in R:\n",
    "#     model.add_constraint(model.sum(x[j,i,k] for j in range(i) for k in R)\n",
    "#                     +    model.sum(x[i,j,k] for j in range(i,N) for k in R) == 1)\n",
    "    for j in range(i, N):\n",
    "        pair_sum = model.sum(x[i,j,k] for k in R)\n",
    "        model.add_constraint(pair_sum == 1)\n",
    "\n",
    "# constraint 1.2\n",
    "for k in range(N):\n",
    "    for i in R:\n",
    "        for j in range(i, N):\n",
    "            model.add_constraint(model.if_then(x[i,j,k], x[i,j,k+1]==0))\n",
    "\n",
    "# constraint 2: rooms are using consecutive numbers starting from 0. \n",
    "# if nobody is in one room, do not assign people to rooms with no > this one\n",
    "# also: calculate room count\n",
    "# now: count all partners in the assigned group!\n",
    "for k in range(N-1):\n",
    "#     room_sum = model.sum(x[i,j,k] for i in R for j in range(i,N))\n",
    "    for i in R:\n",
    "        for j in range(i, N):\n",
    "#             model.add_constraint(model.if_then(room_sum == 0, x[i,j,k+1]==0))\n",
    "#             model.add_constraint(model.if_then(room_sum == 0, room_count <= k))\n",
    "#             model.add_constraint(model.if_then(room_sum != 0, room_count >= k + 1))\n",
    "\n",
    "# constraint 3: stress level of each room is under the limit. \n",
    "# how to find the number of rooms assigned? <- create a new variable\n",
    "for r in R:\n",
    "    S_room = model.sum(S_mat[i,j] * x[i,j,r] for i in R for j in range(i,N))\n",
    "    model.add_constraint(S_room <= S_MAX / 5)\n",
    "#     model.add_constraint(S_room * room_count <= S_MAX)\n",
    "# goal: maximize happiness\n",
    "model.maximize(model.sum(H_mat[i,j] * x[i,j,k] for i in R for j in range(i,N) for k in R))"
   ]
  },
  {
   "cell_type": "code",
   "execution_count": 242,
   "metadata": {
    "scrolled": false
   },
   "outputs": [],
   "source": [
    "model.set_time_limit(10)\n",
    "msol = model.solve()"
   ]
  },
  {
   "cell_type": "code",
   "execution_count": 243,
   "metadata": {},
   "outputs": [
    {
     "name": "stdout",
     "output_type": "stream",
     "text": [
      "solution for: breakout_room_mp\n",
      "objective: 2425.33\n",
      "X_0_38_24=1\n",
      "X_1_21_0=1\n",
      "X_2_40_0=1\n",
      "X_3_36_1=1\n",
      "X_4_31_1=1\n",
      "X_5_32_1=1\n",
      "X_6_13_0=1\n",
      "X_7_19_18=1\n",
      "X_8_25_0=1\n",
      "X_9_47_0=1\n",
      "X_10_26_1=1\n",
      "X_11_33_0=1\n",
      "X_12_45_0=1\n",
      "X_14_15_0=1\n",
      "X_16_18_0=1\n",
      "X_17_23_0=1\n",
      "X_20_49_0=1\n",
      "X_22_37_0=1\n",
      "X_24_42_0=1\n",
      "X_27_48_2=1\n",
      "X_28_43_0=1\n",
      "X_29_41_2=1\n",
      "X_30_46_1=1\n",
      "X_34_39_1=1\n",
      "X_35_44_1=1\n",
      "\n"
     ]
    }
   ],
   "source": [
    "print(msol)"
   ]
  },
  {
   "cell_type": "code",
   "execution_count": 244,
   "metadata": {
    "collapsed": true
   },
   "outputs": [
    {
     "data": {
      "text/plain": [
       "array([[ 0, 38, 24,  1],\n",
       "       [ 1, 21,  0,  1],\n",
       "       [ 2, 40,  0,  1],\n",
       "       [ 3, 36,  1,  1],\n",
       "       [ 4, 31,  1,  1],\n",
       "       [ 5, 32,  1,  1],\n",
       "       [ 6, 13,  0,  1],\n",
       "       [ 7, 19, 18,  1],\n",
       "       [ 8, 25,  0,  1],\n",
       "       [ 9, 47,  0,  1],\n",
       "       [10, 26,  1,  1],\n",
       "       [11, 33,  0,  1],\n",
       "       [12, 45,  0,  1],\n",
       "       [14, 15,  0,  1],\n",
       "       [16, 18,  0,  1],\n",
       "       [17, 23,  0,  1],\n",
       "       [20, 49,  0,  1],\n",
       "       [22, 37,  0,  1],\n",
       "       [24, 42,  0,  1],\n",
       "       [27, 48,  2,  1],\n",
       "       [28, 43,  0,  1],\n",
       "       [29, 41,  2,  1],\n",
       "       [30, 46,  1,  1],\n",
       "       [34, 39,  1,  1],\n",
       "       [35, 44,  1,  1]])"
      ]
     },
     "execution_count": 244,
     "metadata": {},
     "output_type": "execute_result"
    }
   ],
   "source": [
    "msol_dict = msol.get_value_dict(x)\n",
    "msol_np = np.concatenate((list(msol_dict.keys()), np.array([list(msol_dict.values())]).T), axis=1).astype(int)\n",
    "msol_nz = msol_np[msol_np[:,3].nonzero()]\n",
    "msol_nz"
   ]
  },
  {
   "cell_type": "code",
   "execution_count": 245,
   "metadata": {},
   "outputs": [
    {
     "data": {
      "text/plain": [
       "array([[ 1, 21,  0,  1],\n",
       "       [ 2, 40,  0,  1],\n",
       "       [ 6, 13,  0,  1],\n",
       "       [ 8, 25,  0,  1],\n",
       "       [ 9, 47,  0,  1],\n",
       "       [11, 33,  0,  1],\n",
       "       [12, 45,  0,  1],\n",
       "       [14, 15,  0,  1],\n",
       "       [16, 18,  0,  1],\n",
       "       [17, 23,  0,  1],\n",
       "       [20, 49,  0,  1],\n",
       "       [22, 37,  0,  1],\n",
       "       [24, 42,  0,  1],\n",
       "       [28, 43,  0,  1]])"
      ]
     },
     "execution_count": 245,
     "metadata": {},
     "output_type": "execute_result"
    }
   ],
   "source": [
    "msol_room_0 = msol_nz[np.argwhere(msol_nz[:,2] == 0).flatten()]\n",
    "msol_room_0"
   ]
  },
  {
   "cell_type": "code",
   "execution_count": 246,
   "metadata": {
    "collapsed": true
   },
   "outputs": [
    {
     "data": {
      "text/plain": [
       "array([ 1,  2,  6,  8,  9, 11, 12, 14, 16, 17, 20, 22, 24, 28])"
      ]
     },
     "execution_count": 246,
     "metadata": {},
     "output_type": "execute_result"
    }
   ],
   "source": [
    "msol_room_0[:,0]"
   ]
  },
  {
   "cell_type": "code",
   "execution_count": 247,
   "metadata": {
    "collapsed": true
   },
   "outputs": [
    {
     "data": {
      "text/plain": [
       "18.67"
      ]
     },
     "execution_count": 247,
     "metadata": {},
     "output_type": "execute_result"
    }
   ],
   "source": [
    "S_mat[msol_room_0[:,0], msol_room_0[:,1]].sum()"
   ]
  },
  {
   "cell_type": "code",
   "execution_count": 248,
   "metadata": {
    "collapsed": true
   },
   "outputs": [
    {
     "data": {
      "text/plain": [
       "19.368199999999998"
      ]
     },
     "execution_count": 248,
     "metadata": {},
     "output_type": "execute_result"
    }
   ],
   "source": [
    "S_MAX / 5"
   ]
  },
  {
   "cell_type": "code",
   "execution_count": 254,
   "metadata": {},
   "outputs": [],
   "source": [
    "msol_rooms = msol_nz[:,2]\n",
    "msol_unique_rooms = np.unique(msol_rooms)\n",
    "msol_unique_rooms\n",
    "number_of_rooms = len(msol_unique_rooms)"
   ]
  },
  {
   "cell_type": "code",
   "execution_count": 262,
   "metadata": {},
   "outputs": [
    {
     "data": {
      "text/plain": [
       "array([4, 0, 0, 1, 1, 1, 0, 3, 0, 0, 1, 0, 0, 0, 0, 0, 0, 0, 0, 2, 0, 2,\n",
       "       1, 1, 1])"
      ]
     },
     "execution_count": 262,
     "metadata": {},
     "output_type": "execute_result"
    }
   ],
   "source": [
    "np.where(msol_rooms==msol_unique_rooms[i],i,msol_rooms)"
   ]
  },
  {
   "cell_type": "code",
   "execution_count": 263,
   "metadata": {},
   "outputs": [
    {
     "data": {
      "text/plain": [
       "array([[ 0, 38,  4,  1],\n",
       "       [ 1, 21,  0,  1],\n",
       "       [ 2, 40,  0,  1],\n",
       "       [ 3, 36,  1,  1],\n",
       "       [ 4, 31,  1,  1],\n",
       "       [ 5, 32,  1,  1],\n",
       "       [ 6, 13,  0,  1],\n",
       "       [ 7, 19,  3,  1],\n",
       "       [ 8, 25,  0,  1],\n",
       "       [ 9, 47,  0,  1],\n",
       "       [10, 26,  1,  1],\n",
       "       [11, 33,  0,  1],\n",
       "       [12, 45,  0,  1],\n",
       "       [14, 15,  0,  1],\n",
       "       [16, 18,  0,  1],\n",
       "       [17, 23,  0,  1],\n",
       "       [20, 49,  0,  1],\n",
       "       [22, 37,  0,  1],\n",
       "       [24, 42,  0,  1],\n",
       "       [27, 48,  2,  1],\n",
       "       [28, 43,  0,  1],\n",
       "       [29, 41,  2,  1],\n",
       "       [30, 46,  1,  1],\n",
       "       [34, 39,  1,  1],\n",
       "       [35, 44,  1,  1]])"
      ]
     },
     "execution_count": 263,
     "metadata": {},
     "output_type": "execute_result"
    }
   ],
   "source": [
    "for i in range(number_of_rooms):\n",
    "    msol_rooms = np.where(msol_rooms==msol_unique_rooms[i],i,msol_rooms)\n",
    "msol_rooms\n",
    "msol_nz[:,2]=msol_rooms\n",
    "msol_nz"
   ]
  },
  {
   "cell_type": "code",
   "execution_count": 264,
   "metadata": {},
   "outputs": [
    {
     "data": {
      "text/plain": [
       "{1: 0,\n",
       " 2: 0,\n",
       " 6: 0,\n",
       " 8: 0,\n",
       " 9: 0,\n",
       " 11: 0,\n",
       " 12: 0,\n",
       " 14: 0,\n",
       " 16: 0,\n",
       " 17: 0,\n",
       " 20: 0,\n",
       " 22: 0,\n",
       " 24: 0,\n",
       " 28: 0,\n",
       " 21: 0,\n",
       " 40: 0,\n",
       " 13: 0,\n",
       " 25: 0,\n",
       " 47: 0,\n",
       " 33: 0,\n",
       " 45: 0,\n",
       " 15: 0,\n",
       " 18: 0,\n",
       " 23: 0,\n",
       " 49: 0,\n",
       " 37: 0,\n",
       " 42: 0,\n",
       " 43: 0,\n",
       " 3: 1,\n",
       " 4: 1,\n",
       " 5: 1,\n",
       " 10: 1,\n",
       " 30: 1,\n",
       " 34: 1,\n",
       " 35: 1,\n",
       " 36: 1,\n",
       " 31: 1,\n",
       " 32: 1,\n",
       " 26: 1,\n",
       " 46: 1,\n",
       " 39: 1,\n",
       " 44: 1,\n",
       " 27: 2,\n",
       " 29: 2,\n",
       " 48: 2,\n",
       " 41: 2,\n",
       " 7: 3,\n",
       " 19: 3,\n",
       " 0: 4,\n",
       " 38: 4}"
      ]
     },
     "execution_count": 264,
     "metadata": {},
     "output_type": "execute_result"
    }
   ],
   "source": [
    "sol_dict = {}\n",
    "for i in range(number_of_rooms):\n",
    "    sel = msol_nz[np.argwhere(msol_rooms == i).flatten()]\n",
    "    sol_dict.update(dict(zip(sel[:,0], sel[:,2])))\n",
    "    sol_dict.update(dict(zip(sel[:,1], sel[:,2])))\n",
    "sol_dict"
   ]
  },
  {
   "cell_type": "code",
   "execution_count": 267,
   "metadata": {},
   "outputs": [
    {
     "name": "stdout",
     "output_type": "stream",
     "text": [
      "too stressful!  814.107\n"
     ]
    },
    {
     "data": {
      "text/plain": [
       "False"
      ]
     },
     "execution_count": 267,
     "metadata": {},
     "output_type": "execute_result"
    }
   ],
   "source": [
    "ut.is_valid_solution(sol_dict,G,S_MAX, 5)"
   ]
  },
  {
   "cell_type": "code",
   "execution_count": null,
   "metadata": {},
   "outputs": [],
   "source": []
  }
 ],
 "metadata": {
  "kernelspec": {
   "display_name": "Python 3",
   "language": "python",
   "name": "python3"
  },
  "language_info": {
   "codemirror_mode": {
    "name": "ipython",
    "version": 3
   },
   "file_extension": ".py",
   "mimetype": "text/x-python",
   "name": "python",
   "nbconvert_exporter": "python",
   "pygments_lexer": "ipython3",
   "version": "3.7.3"
  }
 },
 "nbformat": 4,
 "nbformat_minor": 1
}
